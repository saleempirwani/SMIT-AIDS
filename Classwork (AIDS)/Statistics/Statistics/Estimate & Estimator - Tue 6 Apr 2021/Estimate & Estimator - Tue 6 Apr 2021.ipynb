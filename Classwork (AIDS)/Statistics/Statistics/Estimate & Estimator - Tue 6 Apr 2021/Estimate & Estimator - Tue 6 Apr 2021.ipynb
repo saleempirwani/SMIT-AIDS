{
 "cells": [
  {
   "cell_type": "code",
   "execution_count": 1,
   "metadata": {},
   "outputs": [],
   "source": [
    "import pandas as pd\n",
    "import numpy as np\n",
    "import math"
   ]
  },
  {
   "cell_type": "code",
   "execution_count": 2,
   "metadata": {},
   "outputs": [],
   "source": [
    "def find_zscore(alpha):\n",
    "    \n",
    "    z_score = pd.read_csv('./z_score.csv')\n",
    "    z_score.index = np.arange(0.0, 3.1, 0.1)\n",
    "    \n",
    "    row, col, done = (0, 0, False)\n",
    "\n",
    "    while True:\n",
    "        for r in z_score.index:\n",
    "            for c in z_score.columns:\n",
    "                if z_score.loc[r, c] == alpha:\n",
    "                    row, col = (r, c)\n",
    "                    done = True\n",
    "                    break\n",
    "            if done:\n",
    "                break\n",
    "        if done:\n",
    "            break\n",
    "        else: \n",
    "            alpha += 0.0001\n",
    "            alpha = float('{:4f}'.format(alpha))\n",
    "\n",
    "    value = float(row)+float(col)    \n",
    "    value =  \"{:.2f}\".format(value)\n",
    "    return (done, float(value))"
   ]
  },
  {
   "cell_type": "code",
   "execution_count": 3,
   "metadata": {},
   "outputs": [],
   "source": [
    "def find_confindence_interval(population, conf_level):\n",
    "    if type(population) == type(np.array([])):\n",
    "        sample = np.random.choice(population, size=8)\n",
    "        x = sample.mean()\n",
    "        n = sample.size\n",
    "        s = population.std() # pop standart deviation\n",
    "\n",
    "        if conf_level>0 and conf_level<100:\n",
    "            alpha = ((100-conf_level)/100)/2\n",
    "            Z = find_zscore(1-alpha)            \n",
    "            if Z[0]: \n",
    "                p = Z[1] * (s/math.sqrt(n))\n",
    "                return (int(x-p), int(x+p))        \n",
    "        else: print('ERROR: Please enter conf_level between 0-100')\n",
    "    else:\n",
    "        print('ERROR: Population must be 1d numpy array')"
   ]
  },
  {
   "cell_type": "code",
   "execution_count": 4,
   "metadata": {},
   "outputs": [],
   "source": [
    "pop = np.array([117313, 104002, 113038, 84560, 90745, \n",
    "                102848, 112276, 892102, 724513, 821456, 827861, 891243])"
   ]
  },
  {
   "cell_type": "code",
   "execution_count": 5,
   "metadata": {},
   "outputs": [
    {
     "data": {
      "text/plain": [
       "(396415, 896923)"
      ]
     },
     "execution_count": 5,
     "metadata": {},
     "output_type": "execute_result"
    }
   ],
   "source": [
    "find_confindence_interval(population=pop, conf_level=95)"
   ]
  },
  {
   "cell_type": "markdown",
   "metadata": {},
   "source": [
    "### Error Testing"
   ]
  },
  {
   "cell_type": "code",
   "execution_count": 6,
   "metadata": {},
   "outputs": [
    {
     "name": "stdout",
     "output_type": "stream",
     "text": [
      "ERROR: Population must be 1d numpy array\n"
     ]
    }
   ],
   "source": [
    "find_confindence_interval(population=[], conf_level=99)"
   ]
  },
  {
   "cell_type": "code",
   "execution_count": 7,
   "metadata": {},
   "outputs": [
    {
     "name": "stdout",
     "output_type": "stream",
     "text": [
      "ERROR: Please enter conf_level between 0-100\n"
     ]
    }
   ],
   "source": [
    "find_confindence_interval(population=pop, conf_level=0)"
   ]
  },
  {
   "cell_type": "code",
   "execution_count": null,
   "metadata": {},
   "outputs": [],
   "source": []
  }
 ],
 "metadata": {
  "kernelspec": {
   "display_name": "Python 3",
   "language": "python",
   "name": "python3"
  },
  "language_info": {
   "codemirror_mode": {
    "name": "ipython",
    "version": 3
   },
   "file_extension": ".py",
   "mimetype": "text/x-python",
   "name": "python",
   "nbconvert_exporter": "python",
   "pygments_lexer": "ipython3",
   "version": "3.8.5"
  }
 },
 "nbformat": 4,
 "nbformat_minor": 4
}
