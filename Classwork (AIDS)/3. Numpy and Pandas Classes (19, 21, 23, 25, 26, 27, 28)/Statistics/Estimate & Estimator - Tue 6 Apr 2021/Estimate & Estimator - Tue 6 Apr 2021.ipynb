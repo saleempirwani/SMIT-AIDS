{
 "cells": [
  {
   "cell_type": "code",
   "execution_count": 1,
   "metadata": {},
   "outputs": [],
   "source": [
    "import pandas as pd\n",
    "import numpy as np\n",
    "import math"
   ]
  },
  {
   "cell_type": "code",
   "execution_count": 2,
   "metadata": {},
   "outputs": [],
   "source": [
    "def find_zscore(alpha):\n",
    "    \n",
    "    z_score = pd.read_csv('./z_score.csv')\n",
    "    z_score.index = np.arange(0.0, 3.1, 0.1)\n",
    "    \n",
    "    row, col, done = (0, 0, False)\n",
    "\n",
    "    for r in z_score.index:\n",
    "        for c in z_score.columns:\n",
    "            if z_score.loc[r, c] == alpha:\n",
    "                row, col = (r, c)\n",
    "                done = True\n",
    "                break\n",
    "        if done:\n",
    "            break\n",
    "            \n",
    "    value = float(row)+float(col)    \n",
    "    value =  \"{:.2f}\".format(value)\n",
    "    return (done, float(value))"
   ]
  },
  {
   "cell_type": "code",
   "execution_count": 3,
   "metadata": {},
   "outputs": [],
   "source": [
    "def find_confindence_interval(population, conf_level):\n",
    "    x = population.mean()\n",
    "    s = population.std()\n",
    "    n = population.size\n",
    "    \n",
    "    if conf_level<100:\n",
    "        alpha = ((100-conf_level)/100)/2\n",
    "        Z = find_zscore(alpha)\n",
    "        if not Z[0]:\n",
    "            Z = find_zscore(1-alpha)\n",
    "\n",
    "        p = Z[1] * (s/math.sqrt(n))\n",
    "\n",
    "        return (int(x+p), int(x-p))        "
   ]
  },
  {
   "cell_type": "code",
   "execution_count": 4,
   "metadata": {},
   "outputs": [],
   "source": [
    "pop = np.array([117313, 104002, 113038, 84560, 90745, \n",
    "                102848, 112276])"
   ]
  },
  {
   "cell_type": "code",
   "execution_count": 5,
   "metadata": {},
   "outputs": [
    {
     "data": {
      "text/plain": [
       "(111850, 95230)"
      ]
     },
     "execution_count": 5,
     "metadata": {},
     "output_type": "execute_result"
    }
   ],
   "source": [
    "find_confindence_interval(population=pop, conf_level=95)"
   ]
  }
 ],
 "metadata": {
  "kernelspec": {
   "display_name": "Python 3",
   "language": "python",
   "name": "python3"
  },
  "language_info": {
   "codemirror_mode": {
    "name": "ipython",
    "version": 3
   },
   "file_extension": ".py",
   "mimetype": "text/x-python",
   "name": "python",
   "nbconvert_exporter": "python",
   "pygments_lexer": "ipython3",
   "version": "3.8.5"
  }
 },
 "nbformat": 4,
 "nbformat_minor": 4
}
