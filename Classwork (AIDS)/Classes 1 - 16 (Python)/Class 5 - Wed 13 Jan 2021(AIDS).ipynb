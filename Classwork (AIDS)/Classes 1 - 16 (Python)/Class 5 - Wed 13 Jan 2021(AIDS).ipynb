{
 "cells": [
  {
   "cell_type": "code",
   "execution_count": 3,
   "metadata": {},
   "outputs": [
    {
     "data": {
      "text/plain": [
       "[{'name': 'Ahmed', 'batch': 2017},\n",
       " {'price': 'Ahmed', 'rollno': [42, 49, 89, 23, 45]}]"
      ]
     },
     "execution_count": 3,
     "metadata": {},
     "output_type": "execute_result"
    }
   ],
   "source": [
    "students = [\n",
    "    {\n",
    "        'name': 'Ahmed',\n",
    "        'batch': 2017\n",
    "    },\n",
    "     {\n",
    "        'price': 'Ahmed',\n",
    "        'rollno': [42, 49, 89, 23, 45],\n",
    "    },\n",
    "]\n",
    "\n",
    "students"
   ]
  },
  {
   "cell_type": "code",
   "execution_count": 9,
   "metadata": {},
   "outputs": [
    {
     "name": "stdout",
     "output_type": "stream",
     "text": [
      "42\n",
      "49\n",
      "89\n",
      "23\n",
      "45\n"
     ]
    }
   ],
   "source": [
    "for student in range(len(students)):\n",
    "    if 'rollno' in students[student]:\n",
    "        for rn in students[student]['rollno']:\n",
    "            print(rn)"
   ]
  },
  {
   "cell_type": "code",
   "execution_count": 13,
   "metadata": {},
   "outputs": [
    {
     "name": "stdout",
     "output_type": "stream",
     "text": [
      "{'color': 'yellow', 'points': 10}\n",
      "{'color': 'red', 'points': 15}\n"
     ]
    }
   ],
   "source": [
    "alien_0 = {'color': 'green', 'points': 5} \n",
    "alien_1 = {'color': 'yellow', 'points': 10} \n",
    "alien_2 = {'color': 'red', 'points': 15}\n",
    "\n",
    "aliens = [alien_0, alien_1, alien_2]\n",
    "\n",
    "for alien in aliens:    \n",
    "    if alien.get('points') >= 10:\n",
    "        print(alien)\n"
   ]
  },
  {
   "cell_type": "code",
   "execution_count": 16,
   "metadata": {},
   "outputs": [
    {
     "name": "stdout",
     "output_type": "stream",
     "text": [
      "{'color': 'green', 'points': 5, 'speed': 'slow'}\n",
      "...\n",
      "{'color': 'green', 'points': 5, 'speed': 'slow'}\n",
      "...\n",
      "{'color': 'green', 'points': 5, 'speed': 'slow'}\n",
      "...\n",
      "{'color': 'green', 'points': 5, 'speed': 'slow'}\n",
      "...\n",
      "{'color': 'green', 'points': 5, 'speed': 'slow'}\n",
      "...\n",
      "Total number of aliens: 30\n"
     ]
    }
   ],
   "source": [
    "aliens = []\n",
    "#Make 30 green aliens. \n",
    "for alien_number in range(30):\n",
    "    new_alien = {'color': 'green', 'points': 5, 'speed': 'slow'}\n",
    "    aliens.append(new_alien)    \n",
    "    \n",
    "# Show the first 5 aliens: \n",
    "for alien in aliens[:5]:    \n",
    "    print(alien) \n",
    "    print(\"...\")\n",
    "    \n",
    "# Show how many aliens have been created. y \n",
    "print(\"Total number of aliens: \" + str(len(aliens)))"
   ]
  },
  {
   "cell_type": "code",
   "execution_count": 17,
   "metadata": {},
   "outputs": [
    {
     "name": "stdout",
     "output_type": "stream",
     "text": [
      "{'color': 'yellow', 'points': 10, 'speed': 'medium'}\n",
      "...\n",
      "{'color': 'yellow', 'points': 10, 'speed': 'medium'}\n",
      "...\n",
      "{'color': 'yellow', 'points': 10, 'speed': 'medium'}\n",
      "...\n",
      "{'color': 'green', 'points': 5, 'speed': 'slow'}\n",
      "...\n",
      "{'color': 'green', 'points': 5, 'speed': 'slow'}\n",
      "...\n"
     ]
    }
   ],
   "source": [
    "for alien in aliens[:3]:\n",
    "    if alien['color'] == 'green':\n",
    "        alien['color'] = 'yellow'\n",
    "        alien['speed'] = 'medium'\n",
    "        alien['points'] = 10\n",
    "        \n",
    "# Show the first 5 aliens: \n",
    "for alien in aliens[:5]:    \n",
    "    print(alien) \n",
    "    print(\"...\")"
   ]
  },
  {
   "cell_type": "code",
   "execution_count": 18,
   "metadata": {},
   "outputs": [
    {
     "name": "stdout",
     "output_type": "stream",
     "text": [
      "{'color': 'red', 'points': 15, 'speed': 'fast'}\n",
      "...\n",
      "{'color': 'red', 'points': 15, 'speed': 'fast'}\n",
      "...\n",
      "{'color': 'red', 'points': 15, 'speed': 'fast'}\n",
      "...\n",
      "{'color': 'green', 'points': 5, 'speed': 'slow'}\n",
      "...\n",
      "{'color': 'green', 'points': 5, 'speed': 'slow'}\n",
      "...\n"
     ]
    }
   ],
   "source": [
    "for alien in aliens[:3]:\n",
    "    if alien['color'] == 'green':\n",
    "        alien['color'] = 'yellow'\n",
    "        alien['speed'] = 'medium'\n",
    "        alien['points'] = 10\n",
    "    elif alien['color'] == 'yellow':\n",
    "        alien['color'] = 'red'\n",
    "        alien['speed'] = 'fast'\n",
    "        alien['points'] = 15\n",
    "        \n",
    "        \n",
    "# Show the first 5 aliens: \n",
    "for alien in aliens[:5]:    \n",
    "    print(alien) \n",
    "    print(\"...\")"
   ]
  },
  {
   "cell_type": "code",
   "execution_count": 19,
   "metadata": {},
   "outputs": [
    {
     "name": "stdout",
     "output_type": "stream",
     "text": [
      "You ordered a thick-crust pizza with the following toppings:\n"
     ]
    }
   ],
   "source": [
    " # Store information about a pizza being ordered.\n",
    "pizza = { \n",
    "    'crust': 'thick', \n",
    "    'toppings': ['mushrooms', 'extra cheese'],    \n",
    "}\n"
   ]
  },
  {
   "cell_type": "code",
   "execution_count": 21,
   "metadata": {},
   "outputs": [
    {
     "name": "stdout",
     "output_type": "stream",
     "text": [
      "You ordered a thick-crust pizza with the following toppings:\n",
      "\tmushrooms\n",
      "\textra cheese\n"
     ]
    }
   ],
   "source": [
    "# Summarize the order.\n",
    "print(\"You ordered a \" + pizza['crust'] + \"-crust pizza \" + \"with the following toppings:\")\n",
    "for topping in pizza['toppings']:    \n",
    "    print(\"\\t\" + topping)\n"
   ]
  },
  {
   "cell_type": "code",
   "execution_count": 23,
   "metadata": {},
   "outputs": [],
   "source": [
    "favorite_languages = { \n",
    "    'jen': ['python', 'ruby'],    \n",
    "    'sarah': ['c'],    \n",
    "    'edward': ['ruby', 'go'],    \n",
    "    'phil': ['python', 'haskell'],    \n",
    "}"
   ]
  },
  {
   "cell_type": "code",
   "execution_count": 24,
   "metadata": {},
   "outputs": [
    {
     "name": "stdout",
     "output_type": "stream",
     "text": [
      "\n",
      "Jen's favorite languages are:\n",
      "\tPython\n",
      "\tRuby\n",
      "\n",
      "Sarah's favorite languages are:\n",
      "\tC\n",
      "\n",
      "Edward's favorite languages are:\n",
      "\tRuby\n",
      "\tGo\n",
      "\n",
      "Phil's favorite languages are:\n",
      "\tPython\n",
      "\tHaskell\n"
     ]
    }
   ],
   "source": [
    "for name, languages in favorite_languages.items():    \n",
    "    print(\"\\n\" + name.title() + \"'s favorite languages are:\")\n",
    "    for language in languages:        \n",
    "        print(\"\\t\" + language.title())\n"
   ]
  },
  {
   "cell_type": "code",
   "execution_count": 25,
   "metadata": {},
   "outputs": [],
   "source": [
    "users = {    \n",
    "    'aeinstein': {  \n",
    "        'first': 'albert',        \n",
    "         'last': 'einstein',        \n",
    "         'location': 'princeton',        \n",
    "        },\n",
    "     'mcurie': {        \n",
    "         'first': 'marie',        \n",
    "         'last': 'curie',        \n",
    "         'location': 'paris',        \n",
    "     },\n",
    "    }\n"
   ]
  },
  {
   "cell_type": "code",
   "execution_count": 26,
   "metadata": {},
   "outputs": [
    {
     "name": "stdout",
     "output_type": "stream",
     "text": [
      "\n",
      "Username: aeinstein\n",
      "\tFull name: Albert Einstein\n",
      "\tLocation: Princeton\n",
      "\n",
      "Username: mcurie\n",
      "\tFull name: Marie Curie\n",
      "\tLocation: Paris\n"
     ]
    }
   ],
   "source": [
    "for username, user_info in users.items():\n",
    "    print(\"\\nUsername: \" + username) \n",
    "    full_name = user_info['first'] + \" \" + user_info['last']   \n",
    "    location = user_info['location']\n",
    "    print(\"\\tFull name: \" + full_name.title())    \n",
    "    print(\"\\tLocation: \" + location.title())\n"
   ]
  },
  {
   "cell_type": "code",
   "execution_count": 27,
   "metadata": {},
   "outputs": [
    {
     "data": {
      "text/plain": [
       "{'saylani': {'smit': ['web', 'ds', 'ccna', 'ai'], 'health': ['opd', 'ot']},\n",
       " 'university': {'CS': ['1st', '2nd', '3rd', '4th'],\n",
       "  'admin': ['fees', 'timetable', 'exams']}}"
      ]
     },
     "execution_count": 27,
     "metadata": {},
     "output_type": "execute_result"
    }
   ],
   "source": [
    "saylaniInfo = {\n",
    "    'saylani': {\n",
    "      'smit': ['web', 'ds', 'ccna', 'ai'],\n",
    "      'health': ['opd', 'ot']\n",
    "    },\n",
    "    'university': {\n",
    "        'CS': ['1st', '2nd', '3rd', '4th'],\n",
    "        'admin': ['fees', 'timetable', 'exams']\n",
    "    } \n",
    "}\n",
    "\n",
    "saylaniInfo"
   ]
  },
  {
   "cell_type": "code",
   "execution_count": 31,
   "metadata": {},
   "outputs": [
    {
     "data": {
      "text/plain": [
       "True"
      ]
     },
     "execution_count": 31,
     "metadata": {},
     "output_type": "execute_result"
    }
   ],
   "source": [
    "'smit' in saylaniInfo['saylani']"
   ]
  },
  {
   "cell_type": "code",
   "execution_count": 36,
   "metadata": {},
   "outputs": [
    {
     "name": "stdout",
     "output_type": "stream",
     "text": [
      "True\n"
     ]
    }
   ],
   "source": [
    "for pk, pv in saylaniInfo.items():\n",
    "    if pk == 'university':\n",
    "        for uk, uv in saylaniInfo[pk].items():\n",
    "            if uk == 'admin':\n",
    "                print('exams' in uv)"
   ]
  },
  {
   "cell_type": "code",
   "execution_count": null,
   "metadata": {},
   "outputs": [],
   "source": []
  }
 ],
 "metadata": {
  "kernelspec": {
   "display_name": "Python 3",
   "language": "python",
   "name": "python3"
  },
  "language_info": {
   "codemirror_mode": {
    "name": "ipython",
    "version": 3
   },
   "file_extension": ".py",
   "mimetype": "text/x-python",
   "name": "python",
   "nbconvert_exporter": "python",
   "pygments_lexer": "ipython3",
   "version": "3.7.9"
  }
 },
 "nbformat": 4,
 "nbformat_minor": 4
}
