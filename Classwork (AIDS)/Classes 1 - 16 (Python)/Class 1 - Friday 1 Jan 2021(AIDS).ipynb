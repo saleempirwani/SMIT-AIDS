{
 "cells": [
  {
   "cell_type": "markdown",
   "metadata": {
    "id": "0XCAaKGdUgei"
   },
   "source": [
    "#  **AI-DS Class 1 - Friday 1 Jan 2021**"
   ]
  },
  {
   "cell_type": "markdown",
   "metadata": {
    "id": "iVcLFtkL1JHy"
   },
   "source": [
    "## **Python Crash Course**"
   ]
  },
  {
   "cell_type": "code",
   "execution_count": null,
   "metadata": {
    "id": "jDK3zy55xxPL"
   },
   "outputs": [],
   "source": []
  },
  {
   "cell_type": "markdown",
   "metadata": {
    "id": "RF4ZdegxPujs"
   },
   "source": [
    "### Variable and Its Types"
   ]
  },
  {
   "cell_type": "code",
   "execution_count": null,
   "metadata": {
    "colab": {
     "base_uri": "https://localhost:8080/"
    },
    "executionInfo": {
     "elapsed": 829,
     "status": "ok",
     "timestamp": 1609610518400,
     "user": {
      "displayName": "WWE Fire",
      "photoUrl": "https://lh3.googleusercontent.com/a-/AOh14Gg_ok1Hfocpvr6j6OiINMt4bdX4YkNET34_of3R=s64",
      "userId": "07493693380902224277"
     },
     "user_tz": -300
    },
    "id": "KZGMJ430yh_2",
    "outputId": "47c45141-740a-454c-a5ba-23143ec9c73c"
   },
   "outputs": [
    {
     "name": "stdout",
     "output_type": "stream",
     "text": [
      "a == 67 and type of a == <class 'int'> and id of a == 10916608 \n",
      "\n",
      "b == 84.63 and type of b == <class 'float'> and id of b == 140537043932192 \n",
      "\n",
      "c == Saleem and type of c == <class 'str'> and id of c == 140537042982928 \n",
      "\n",
      "d == True and type of d == <class 'bool'> and id of d == 10302848 \n",
      "\n"
     ]
    }
   ],
   "source": [
    "a, b, c, d = 67, 84.63, 'Saleem', True\n",
    "\n",
    "print(f'a == {a} and type of a == {type(a)} and id of a == {id(a)} \\n')\n",
    "print(f'b == {b} and type of b == {type(b)} and id of b == {id(b)} \\n')\n",
    "print(f'c == {c} and type of c == {type(c)} and id of c == {id(c)} \\n')\n",
    "print(f'd == {d} and type of d == {type(d)} and id of d == {id(d)} \\n')"
   ]
  },
  {
   "cell_type": "markdown",
   "metadata": {
    "id": "yM9U9RnxRC7o"
   },
   "source": [
    "###(Copy by referrence)"
   ]
  },
  {
   "cell_type": "code",
   "execution_count": null,
   "metadata": {
    "colab": {
     "base_uri": "https://localhost:8080/"
    },
    "executionInfo": {
     "elapsed": 820,
     "status": "ok",
     "timestamp": 1609611445270,
     "user": {
      "displayName": "WWE Fire",
      "photoUrl": "https://lh3.googleusercontent.com/a-/AOh14Gg_ok1Hfocpvr6j6OiINMt4bdX4YkNET34_of3R=s64",
      "userId": "07493693380902224277"
     },
     "user_tz": -300
    },
    "id": "iC6jrtg_RJWi",
    "outputId": "84d89efe-cb51-4c51-c4e2-6a5bd410b06a"
   },
   "outputs": [
    {
     "name": "stdout",
     "output_type": "stream",
     "text": [
      "x =>, 20 and id(x): 10915104\n",
      "y =>, 20 and id(y): 10915104\n",
      "z =>, 20 and id(z): 10915104\n",
      "\n",
      "New x =>, 30 and id(x): 10915424\n",
      "New y =>, 35 and id(y): 10915584\n",
      "New z =>, 30 and id(z): 10915424\n"
     ]
    }
   ],
   "source": [
    "x = 20\n",
    "print(f'x =>, {x} and id(x): {id(x)}')\n",
    "\n",
    "y = x\n",
    "print(f'y =>, {y} and id(y): {id(y)}')\n",
    "\n",
    "z = 20\n",
    "print(f'z =>, {z} and id(z): {id(z)}')\n",
    "\n",
    "print()\n",
    "\n",
    "x += 10\n",
    "print(f'New x =>, {x} and id(x): {id(x)}')\n",
    "\n",
    "y += 15\n",
    "print(f'New y =>, {y} and id(y): {id(y)}')\n",
    "\n",
    "z += 10\n",
    "print(f'New z =>, {z} and id(z): {id(z)}')"
   ]
  },
  {
   "cell_type": "markdown",
   "metadata": {
    "id": "V5ZzBHZQ4prG"
   },
   "source": [
    "## String Methods"
   ]
  },
  {
   "cell_type": "code",
   "execution_count": null,
   "metadata": {
    "colab": {
     "base_uri": "https://localhost:8080/"
    },
    "executionInfo": {
     "elapsed": 1007,
     "status": "ok",
     "timestamp": 1609611971805,
     "user": {
      "displayName": "WWE Fire",
      "photoUrl": "https://lh3.googleusercontent.com/a-/AOh14Gg_ok1Hfocpvr6j6OiINMt4bdX4YkNET34_of3R=s64",
      "userId": "07493693380902224277"
     },
     "user_tz": -300
    },
    "id": "i75qwFfSzcmK",
    "outputId": "e59082cb-6bfc-4ae5-8e10-2c903f7ee4af"
   },
   "outputs": [
    {
     "name": "stdout",
     "output_type": "stream",
     "text": [
      "a.split(\",\") =>  ['saleem', ' ahmed', ' usman', ' yaseen', ' ayaz', ' hassan']\n",
      "\n",
      "d.capitalize(): Saleem raza 4694.\n",
      "d.title(): Saleem Raza 4694.\n",
      "d.upper(): SALEEM RAZA 4694.\n",
      "d.lower(): saleem raza 4694.\n",
      "\n",
      "d.find(\"a\"): 1\n",
      "d.count(): 2\n",
      "d.endswith(\"m\"): False\n",
      "\n",
      "d.isalnum(): False\n",
      "d.isdecimal(): False\n",
      "d.isdigit(): False\n",
      "d.islower(): True\n",
      "d.isnumeric(): False\n",
      "d.istitle(): False\n"
     ]
    }
   ],
   "source": [
    "d = 'saleem raza 4694.'\n",
    "\n",
    "a = 'saleem, ahmed, usman, yaseen, ayaz, hassan'\n",
    "a = a.split(',')                           # split string into list by provided seperator, i.e: comma, dollar etc\n",
    "print('a.split(\",\") => ', a)\n",
    "\n",
    "\n",
    "\n",
    "print()\n",
    "print('d.capitalize():', d.capitalize())  # Upper case first alphabet of first word.\n",
    "print('d.title():', d.title())            # Upper case first alphabet of each word.\n",
    "print('d.upper():', d.upper())            # Upper case each alphabets.\n",
    "print('d.lower():', d.lower())            # lower case each alphabet.\n",
    "\n",
    "print()\n",
    "print('d.find(\"a\"):', d.find('a'))        # Find first index no. of provided alphabet.\n",
    "print('d.count():', d.count('e'))         # Find total no. of provided alphabet.\n",
    "\n",
    "\n",
    "\n",
    "\n",
    "print('d.endswith(\"m\"):', d.endswith('m')) # return True if string end on provided alphabet\n",
    "\n",
    "\n",
    "print()\n",
    "# check function this or not\n",
    "print('d.isalnum():', d.isalnum())  # return True, if string is a alpha-numeric\n",
    "print('d.isdecimal():', d.isdecimal())  # return True, if string is a decimal\n",
    "print('d.isdigit():', d.isdigit())  # return True, if string is a digit\n",
    "print('d.islower():', d.islower())  # return True, if string is a lower case alphabets\n",
    "print('d.isnumeric():', d.isnumeric())  # return True, if string is numeric\n",
    "print('d.istitle():', d.istitle())  # return True, if string is a title case alpha bets\n"
   ]
  },
  {
   "cell_type": "markdown",
   "metadata": {
    "id": "icjWistG44Af"
   },
   "source": [
    "### String Concatenation"
   ]
  },
  {
   "cell_type": "code",
   "execution_count": null,
   "metadata": {
    "colab": {
     "base_uri": "https://localhost:8080/"
    },
    "executionInfo": {
     "elapsed": 845,
     "status": "ok",
     "timestamp": 1609486655258,
     "user": {
      "displayName": "WWE Fire",
      "photoUrl": "https://lh3.googleusercontent.com/a-/AOh14Gg_ok1Hfocpvr6j6OiINMt4bdX4YkNET34_of3R=s64",
      "userId": "07493693380902224277"
     },
     "user_tz": -300
    },
    "id": "oESRYPM91YvQ",
    "outputId": "73656259-5850-4090-b0c4-a5003bdb373d"
   },
   "outputs": [
    {
     "name": "stdout",
     "output_type": "stream",
     "text": [
      "I am Pakistan and came into existance in 1947\n"
     ]
    }
   ],
   "source": [
    "name = \"Pakistan\"\n",
    "year = 1947\n",
    "\n",
    "# I am pakistan and I came into existance in 1947\n",
    "\n",
    "print('I am', name, 'and came into existance in', str(year))"
   ]
  },
  {
   "cell_type": "markdown",
   "metadata": {
    "id": "PS7do_s149V1"
   },
   "source": [
    "### User Input and String Formatting"
   ]
  },
  {
   "cell_type": "code",
   "execution_count": null,
   "metadata": {
    "colab": {
     "base_uri": "https://localhost:8080/"
    },
    "executionInfo": {
     "elapsed": 6781,
     "status": "ok",
     "timestamp": 1609487258472,
     "user": {
      "displayName": "WWE Fire",
      "photoUrl": "https://lh3.googleusercontent.com/a-/AOh14Gg_ok1Hfocpvr6j6OiINMt4bdX4YkNET34_of3R=s64",
      "userId": "07493693380902224277"
     },
     "user_tz": -300
    },
    "id": "PqYjFVFW5AXb",
    "outputId": "622ccf38-125f-406f-ce49-05ad879d538c"
   },
   "outputs": [
    {
     "name": "stdout",
     "output_type": "stream",
     "text": [
      "Enter your name: saleem\n",
      "Enter your age: 22\n",
      "\n",
      "I am saleem and my age is 22\n",
      "\n",
      "I am saleem and my age is 22\n",
      "\n",
      "I am 22 and my age is saleem\n"
     ]
    }
   ],
   "source": [
    "name = input('Enter your name: ')\n",
    "age = input('Enter your age: ')\n",
    "\n",
    "print(f'\\nI am {name} and my age is {age}')\n",
    "print('\\nI am {} and my age is {}'.format(name, age))\n",
    "\n",
    "# change index of string formatting\n",
    "print('\\nI am {1} and my age is {0}'.format(name, age))"
   ]
  },
  {
   "cell_type": "code",
   "execution_count": null,
   "metadata": {
    "colab": {
     "base_uri": "https://localhost:8080/"
    },
    "executionInfo": {
     "elapsed": 17865,
     "status": "ok",
     "timestamp": 1609611231753,
     "user": {
      "displayName": "WWE Fire",
      "photoUrl": "https://lh3.googleusercontent.com/a-/AOh14Gg_ok1Hfocpvr6j6OiINMt4bdX4YkNET34_of3R=s64",
      "userId": "07493693380902224277"
     },
     "user_tz": -300
    },
    "id": "uLqCnGDW59Xb",
    "outputId": "16eac73f-3a50-406f-a112-67a580ad3ed5"
   },
   "outputs": [
    {
     "name": "stdout",
     "output_type": "stream",
     "text": [
      "Enter mutiple arrays: saleem, Ahmed, Yaseen, Hussain\n"
     ]
    },
    {
     "data": {
      "text/plain": [
       "['saleem', ' Ahmed', ' Yaseen', ' Hussain']"
      ]
     },
     "execution_count": 35,
     "metadata": {
      "tags": []
     },
     "output_type": "execute_result"
    }
   ],
   "source": [
    "name = input('Enter mutiple arrays: ').split(',')\n",
    "name"
   ]
  },
  {
   "cell_type": "code",
   "execution_count": null,
   "metadata": {
    "id": "dgd1HuSj7rv1"
   },
   "outputs": [],
   "source": []
  }
 ],
 "metadata": {
  "accelerator": "TPU",
  "colab": {
   "authorship_tag": "ABX9TyNUSkqVt7Qhgg0qscI4GPbL",
   "collapsed_sections": [],
   "name": "AIDS Class 1 - Friday 1 Jan 2021.ipynb",
   "provenance": []
  },
  "kernelspec": {
   "display_name": "Python 3",
   "language": "python",
   "name": "python3"
  },
  "language_info": {
   "codemirror_mode": {
    "name": "ipython",
    "version": 3
   },
   "file_extension": ".py",
   "mimetype": "text/x-python",
   "name": "python",
   "nbconvert_exporter": "python",
   "pygments_lexer": "ipython3",
   "version": "3.7.9"
  }
 },
 "nbformat": 4,
 "nbformat_minor": 1
}
