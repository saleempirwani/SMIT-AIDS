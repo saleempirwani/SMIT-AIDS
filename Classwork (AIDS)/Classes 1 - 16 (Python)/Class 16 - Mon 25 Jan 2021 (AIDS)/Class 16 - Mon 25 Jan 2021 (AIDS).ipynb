{
 "cells": [
  {
   "cell_type": "markdown",
   "metadata": {},
   "source": [
    "# File Handling"
   ]
  },
  {
   "cell_type": "markdown",
   "metadata": {},
   "source": [
    "**Error:** `Reading a file which is not exist.`\n",
    "\n",
    "**Logic Mistake:** `File containing (data/content/text) called as`**`open('file.ext', 'w'),`**`can overwrite/delete/remove data of a file.`"
   ]
  },
  {
   "cell_type": "markdown",
   "metadata": {},
   "source": [
    "### Writing a file"
   ]
  },
  {
   "cell_type": "code",
   "execution_count": 1,
   "metadata": {},
   "outputs": [],
   "source": [
    "file = open('report.txt', 'w')"
   ]
  },
  {
   "cell_type": "code",
   "execution_count": 2,
   "metadata": {},
   "outputs": [
    {
     "data": {
      "text/plain": [
       "12"
      ]
     },
     "execution_count": 2,
     "metadata": {},
     "output_type": "execute_result"
    }
   ],
   "source": [
    "file.write('Hello World!')"
   ]
  },
  {
   "cell_type": "code",
   "execution_count": 3,
   "metadata": {},
   "outputs": [],
   "source": [
    "file.close()"
   ]
  },
  {
   "cell_type": "markdown",
   "metadata": {},
   "source": [
    "### Reading a file"
   ]
  },
  {
   "cell_type": "code",
   "execution_count": 4,
   "metadata": {},
   "outputs": [
    {
     "name": "stdout",
     "output_type": "stream",
     "text": [
      "Hello World!\n"
     ]
    }
   ],
   "source": [
    "file = open('./report.txt', 'r')\n",
    "\n",
    "content = file.read()\n",
    "\n",
    "print(content)\n",
    "\n",
    "file.close()"
   ]
  },
  {
   "cell_type": "markdown",
   "metadata": {},
   "source": [
    "### Appending a file"
   ]
  },
  {
   "cell_type": "code",
   "execution_count": 5,
   "metadata": {},
   "outputs": [],
   "source": [
    "file = open('report.txt', 'a')\n",
    "\n",
    "file.write('Pakistan Zindabad')\n",
    "\n",
    "file.close()"
   ]
  },
  {
   "cell_type": "code",
   "execution_count": 6,
   "metadata": {},
   "outputs": [
    {
     "name": "stdout",
     "output_type": "stream",
     "text": [
      "Hello World!Pakistan Zindabad\n"
     ]
    }
   ],
   "source": [
    "# Read a file.\n",
    "\n",
    "with open('./report.txt', 'r') as file:\n",
    "    content = file.read()\n",
    "    print(content)"
   ]
  },
  {
   "cell_type": "code",
   "execution_count": 7,
   "metadata": {},
   "outputs": [
    {
     "name": "stdout",
     "output_type": "stream",
     "text": [
      "The file removed successfully\n"
     ]
    }
   ],
   "source": [
    "import os\n",
    "\n",
    "if os.path.exists(\"report.txt\"): \n",
    "    try:\n",
    "        os.remove(\"report.txt\")\n",
    "        print(\"The file removed successfully\")\n",
    "    except Exception as e:\n",
    "        print(e)\n",
    "    \n",
    "else: print(\"The file does not exist\")"
   ]
  },
  {
   "cell_type": "markdown",
   "metadata": {},
   "source": [
    "## CSV Files"
   ]
  },
  {
   "cell_type": "code",
   "execution_count": 8,
   "metadata": {},
   "outputs": [],
   "source": [
    "import csv"
   ]
  },
  {
   "cell_type": "markdown",
   "metadata": {},
   "source": [
    "#### Creating, writing and appending a csv file."
   ]
  },
  {
   "cell_type": "code",
   "execution_count": 9,
   "metadata": {},
   "outputs": [],
   "source": [
    "with open('csv_sample.csv', 'a') as file:\n",
    "    data = csv.writer(file, delimiter=\",\")\n",
    "    \n",
    "#     data.writerow(['id', 'name', 'age'])\n",
    "    \n",
    "    data.writerow(['hh_04', 'Ahmed22', '22'])\n",
    "    data.writerow(['hh_05', 'Hassan33', '38'])\n",
    "    data.writerow(['hh_06', 'Yousuf44', '28'])"
   ]
  },
  {
   "cell_type": "markdown",
   "metadata": {},
   "source": [
    "#### Reading a csv file."
   ]
  },
  {
   "cell_type": "code",
   "execution_count": 10,
   "metadata": {},
   "outputs": [
    {
     "name": "stdout",
     "output_type": "stream",
     "text": [
      "id \t name \t age\n",
      "hh_01 \t Ahmed \t 22\n",
      "hh_02 \t Hassan \t 38\n",
      "hh_03 \t Yousuf \t 28\n",
      "hh_04 \t Ahmed22 \t 22\n",
      "hh_05 \t Hassan33 \t 38\n",
      "hh_06 \t Yousuf44 \t 28\n",
      "hh_04 \t Ahmed22 \t 22\n",
      "hh_05 \t Hassan33 \t 38\n",
      "hh_06 \t Yousuf44 \t 28\n",
      "hh_04 \t Ahmed22 \t 22\n",
      "hh_05 \t Hassan33 \t 38\n",
      "hh_06 \t Yousuf44 \t 28\n"
     ]
    }
   ],
   "source": [
    "with open('csv_sample.csv', 'r') as file:\n",
    "    data = csv.reader(file)\n",
    "\n",
    "    for (_id, name, age) in data:\n",
    "        print(_id, '\\t', name, '\\t', age)"
   ]
  },
  {
   "cell_type": "code",
   "execution_count": 11,
   "metadata": {},
   "outputs": [],
   "source": [
    "# write_file function\n",
    "\n",
    "def write_file(path, data):\n",
    "    with open(path, 'w') as file:\n",
    "        return file.write(data)"
   ]
  },
  {
   "cell_type": "code",
   "execution_count": 12,
   "metadata": {},
   "outputs": [],
   "source": [
    "# read_file function\n",
    "\n",
    "def read_file(path): \n",
    "    with open(path, 'r') as file: \n",
    "        return file.read()"
   ]
  },
  {
   "cell_type": "markdown",
   "metadata": {},
   "source": [
    "## JSON Files\n",
    "\n",
    "* Prefer: mutiple json items acceptable, but in a `list (array)` or a `dict (object)`\n",
    "\n",
    "**Methods**\n",
    "\n",
    "* `json.dumps():` write json object `(stringify in JS)`\n",
    "\n",
    "\n",
    "* `json.loads():` read json object `(parse in JS)`"
   ]
  },
  {
   "cell_type": "code",
   "execution_count": 13,
   "metadata": {},
   "outputs": [],
   "source": [
    "import json\n",
    "\n",
    "path = 'json_sample.json'\n",
    "\n",
    "data = [\n",
    "    {\n",
    "     'name': 'Hassan',\n",
    "     'age': 42,\n",
    "     'married': True,\n",
    "     'childs': None\n",
    "    },\n",
    "]"
   ]
  },
  {
   "cell_type": "markdown",
   "metadata": {},
   "source": [
    "#### Write json object"
   ]
  },
  {
   "cell_type": "code",
   "execution_count": 14,
   "metadata": {},
   "outputs": [
    {
     "data": {
      "text/plain": [
       "64"
      ]
     },
     "execution_count": 14,
     "metadata": {},
     "output_type": "execute_result"
    }
   ],
   "source": [
    "write_file(path, json.dumps(data))"
   ]
  },
  {
   "cell_type": "markdown",
   "metadata": {},
   "source": [
    "#### Read json object"
   ]
  },
  {
   "cell_type": "code",
   "execution_count": 15,
   "metadata": {},
   "outputs": [
    {
     "data": {
      "text/plain": [
       "[{'name': 'Hassan', 'age': 42, 'married': True, 'childs': None}]"
      ]
     },
     "execution_count": 15,
     "metadata": {},
     "output_type": "execute_result"
    }
   ],
   "source": [
    "json.loads(read_file(path))"
   ]
  },
  {
   "cell_type": "markdown",
   "metadata": {},
   "source": [
    "#### Append json object"
   ]
  },
  {
   "cell_type": "code",
   "execution_count": 16,
   "metadata": {},
   "outputs": [
    {
     "data": {
      "text/plain": [
       "'[{\"name\": \"Hassan\", \"age\": 42, \"married\": true, \"childs\": null}, {\"name\": \"Ahmed\", \"age\": 20, \"married\": false, \"childs\": null}]'"
      ]
     },
     "execution_count": 16,
     "metadata": {},
     "output_type": "execute_result"
    }
   ],
   "source": [
    "new_data = { 'name': 'Ahmed', 'age': 20, 'married': False, 'childs': None }\n",
    "\n",
    "data = read_file(path)\n",
    "\n",
    "data = json.loads(data)\n",
    "data.append(new_data)\n",
    "data = json.dumps(data)\n",
    "\n",
    "write_file(path, data)\n",
    "\n",
    "data = read_file(path)\n",
    "data"
   ]
  },
  {
   "cell_type": "code",
   "execution_count": 20,
   "metadata": {},
   "outputs": [
    {
     "data": {
      "text/plain": [
       "[{'name': 'Hassan', 'age': 42, 'married': True, 'childs': None},\n",
       " {'name': 'Ahmed', 'age': 20, 'married': False, 'childs': None}]"
      ]
     },
     "execution_count": 20,
     "metadata": {},
     "output_type": "execute_result"
    }
   ],
   "source": [
    "json.loads(read_file(path))"
   ]
  },
  {
   "cell_type": "code",
   "execution_count": null,
   "metadata": {},
   "outputs": [],
   "source": []
  }
 ],
 "metadata": {
  "kernelspec": {
   "display_name": "Python 3",
   "language": "python",
   "name": "python3"
  },
  "language_info": {
   "codemirror_mode": {
    "name": "ipython",
    "version": 3
   },
   "file_extension": ".py",
   "mimetype": "text/x-python",
   "name": "python",
   "nbconvert_exporter": "python",
   "pygments_lexer": "ipython3",
   "version": "3.8.5"
  }
 },
 "nbformat": 4,
 "nbformat_minor": 4
}
