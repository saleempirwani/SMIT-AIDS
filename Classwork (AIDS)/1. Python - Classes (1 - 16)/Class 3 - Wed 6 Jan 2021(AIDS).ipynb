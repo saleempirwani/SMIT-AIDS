{
 "cells": [
  {
   "cell_type": "markdown",
   "metadata": {},
   "source": [
    "# Python"
   ]
  },
  {
   "cell_type": "markdown",
   "metadata": {},
   "source": [
    "## List Slicing"
   ]
  },
  {
   "cell_type": "code",
   "execution_count": 4,
   "metadata": {},
   "outputs": [
    {
     "data": {
      "text/plain": [
       "['Pakistan', 'Hello', 12, 3.6]"
      ]
     },
     "execution_count": 4,
     "metadata": {},
     "output_type": "execute_result"
    }
   ],
   "source": [
    "b = ['Pakistan', 'Hello', 12, 3.6]\n",
    "b"
   ]
  },
  {
   "cell_type": "code",
   "execution_count": 5,
   "metadata": {},
   "outputs": [
    {
     "data": {
      "text/plain": [
       "[12, 3.6]"
      ]
     },
     "execution_count": 5,
     "metadata": {},
     "output_type": "execute_result"
    }
   ],
   "source": [
    "b[2:4]"
   ]
  },
  {
   "cell_type": "code",
   "execution_count": 11,
   "metadata": {},
   "outputs": [
    {
     "name": "stdout",
     "output_type": "stream",
     "text": [
      "['Hello', 12]\n"
     ]
    },
    {
     "data": {
      "text/plain": [
       "list"
      ]
     },
     "execution_count": 11,
     "metadata": {},
     "output_type": "execute_result"
    }
   ],
   "source": [
    "d = b[-3:-1]\n",
    "print(d)\n",
    "type(d)"
   ]
  },
  {
   "cell_type": "code",
   "execution_count": 12,
   "metadata": {},
   "outputs": [
    {
     "data": {
      "text/plain": [
       "['Hello', 12]"
      ]
     },
     "execution_count": 12,
     "metadata": {},
     "output_type": "execute_result"
    }
   ],
   "source": [
    "new_list = d\n",
    "new_list"
   ]
  },
  {
   "cell_type": "code",
   "execution_count": 13,
   "metadata": {},
   "outputs": [
    {
     "data": {
      "text/plain": [
       "[1, 2, 5, 4, 3, 5, 56, 555]"
      ]
     },
     "execution_count": 13,
     "metadata": {},
     "output_type": "execute_result"
    }
   ],
   "source": [
    "alist =        [1, 2, 5, 4, 3, 5, 56, 555,]\n",
    "# index =>      0  1  2  3  4  5   6    7\n",
    "# - index =>    -8 -7 -6 -5 -4 -3  -2  -1\n",
    "alist"
   ]
  },
  {
   "cell_type": "code",
   "execution_count": 19,
   "metadata": {},
   "outputs": [
    {
     "data": {
      "text/plain": [
       "[56, 5, 3, 4]"
      ]
     },
     "execution_count": 19,
     "metadata": {},
     "output_type": "execute_result"
    }
   ],
   "source": [
    "alist[6:-6:-1] # right to left access slice..."
   ]
  },
  {
   "cell_type": "code",
   "execution_count": 14,
   "metadata": {},
   "outputs": [
    {
     "data": {
      "text/plain": [
       "[1, 4, 56]"
      ]
     },
     "execution_count": 14,
     "metadata": {},
     "output_type": "execute_result"
    }
   ],
   "source": [
    "alist[0:10:3] # slice using steping"
   ]
  },
  {
   "cell_type": "code",
   "execution_count": null,
   "metadata": {},
   "outputs": [],
   "source": [
    "alist[::]"
   ]
  },
  {
   "cell_type": "code",
   "execution_count": 16,
   "metadata": {},
   "outputs": [
    {
     "data": {
      "text/plain": [
       "[555, 56, 5, 3, 4, 5, 2, 1]"
      ]
     },
     "execution_count": 16,
     "metadata": {},
     "output_type": "execute_result"
    }
   ],
   "source": [
    "alist[::-1] # copy of reverse value"
   ]
  },
  {
   "cell_type": "markdown",
   "metadata": {},
   "source": [
    "### Loop cont"
   ]
  },
  {
   "cell_type": "code",
   "execution_count": null,
   "metadata": {},
   "outputs": [],
   "source": [
    "students = ['Asad', 'Saleem', 'Ahmed', 'Yousuf', 'Kashif', 'Ali']\n",
    "\n"
   ]
  },
  {
   "cell_type": "code",
   "execution_count": 20,
   "metadata": {},
   "outputs": [],
   "source": [
    "students = []"
   ]
  },
  {
   "cell_type": "code",
   "execution_count": 21,
   "metadata": {},
   "outputs": [
    {
     "name": "stdout",
     "output_type": "stream",
     "text": [
      "Enter name 0salim\n",
      "Enter name 1ahmed\n",
      "Enter name 2yousuf\n",
      "Enter name 3yasin\n",
      "Enter name 4kashif\n",
      "Enter name 5yaseen\n",
      "Enter name 6ali\n",
      "Enter name 7habib\n",
      "Enter name 8hassan\n",
      "Enter name 9nasir\n"
     ]
    },
    {
     "data": {
      "text/plain": [
       "['salim',\n",
       " 'ahmed',\n",
       " 'yousuf',\n",
       " 'yasin',\n",
       " 'kashif',\n",
       " 'yaseen',\n",
       " 'ali',\n",
       " 'habib',\n",
       " 'hassan',\n",
       " 'nasir']"
      ]
     },
     "execution_count": 21,
     "metadata": {},
     "output_type": "execute_result"
    }
   ],
   "source": [
    "for x in range(10):\n",
    "    x = input(f'Enter name {x+1}: ')\n",
    "    students.append(x)\n",
    "    \n",
    "students"
   ]
  },
  {
   "cell_type": "markdown",
   "metadata": {},
   "source": [
    "### Exercise "
   ]
  },
  {
   "cell_type": "markdown",
   "metadata": {},
   "source": [
    "#### 4.1"
   ]
  },
  {
   "cell_type": "code",
   "execution_count": 31,
   "metadata": {},
   "outputs": [
    {
     "name": "stdout",
     "output_type": "stream",
     "text": [
      "Pizza1\n",
      "Pizza2\n",
      "Pizza3\n",
      "\n",
      "I like Pizza1\n",
      "I like Pizza2\n",
      "I like Pizza3\n",
      "\n",
      "I like pizza because it is very tasty...\n"
     ]
    }
   ],
   "source": [
    "pizzas = ['Pizza1', 'Pizza2', 'Pizza3',]\n",
    "for x in pizzas:\n",
    "    print(x)\n",
    "\n",
    "print()   \n",
    "\n",
    "for x in pizzas:\n",
    "    print(f'I like {x}')\n",
    "else:\n",
    "    print('\\nI like pizza because it is very tasty...')"
   ]
  },
  {
   "cell_type": "markdown",
   "metadata": {},
   "source": [
    "### 4-2"
   ]
  },
  {
   "cell_type": "code",
   "execution_count": 32,
   "metadata": {},
   "outputs": [
    {
     "name": "stdout",
     "output_type": "stream",
     "text": [
      "Lion\n",
      "Tiger\n",
      "Leopard\n",
      "\n",
      "These are the wild animalsLion\n",
      "These are the wild animalsTiger\n",
      "These are the wild animalsLeopard\n",
      "\n",
      "They are deadly animals\n"
     ]
    }
   ],
   "source": [
    "animals = ['Lion', 'Tiger', 'Leopard',]\n",
    "for x in animals:\n",
    "    print(x)\n",
    "\n",
    "print()\n",
    "\n",
    "for x in animals:\n",
    "    print(f'These are the wild animals{x}')\n",
    "else:\n",
    "    print('\\nThey are deadly animals')"
   ]
  },
  {
   "cell_type": "code",
   "execution_count": 49,
   "metadata": {},
   "outputs": [
    {
     "name": "stdout",
     "output_type": "stream",
     "text": [
      "Even no\n",
      "0\n",
      "2\n",
      "4\n",
      "6\n",
      "8\n",
      "10\n",
      "12\n",
      "14\n",
      "16\n",
      "18\n",
      "20\n",
      "\n",
      "Odd no\n",
      "1\n",
      "3\n",
      "5\n",
      "7\n",
      "9\n",
      "11\n",
      "13\n",
      "15\n",
      "17\n",
      "19\n"
     ]
    }
   ],
   "source": [
    "print('Even no')\n",
    "for x in range(0,21,2):\n",
    "    print(x)\n",
    "\n",
    "print()\n",
    "\n",
    "print('Odd no')\n",
    "for x in range(1,21,2):\n",
    "    print(x)\n"
   ]
  },
  {
   "cell_type": "code",
   "execution_count": 47,
   "metadata": {},
   "outputs": [
    {
     "name": "stdout",
     "output_type": "stream",
     "text": [
      "Even [2, 4, 6, 8, 10, 12, 14, 16, 18, 20, 22, 24, 26, 28, 30, 32, 34, 36, 38, 40, 42, 44, 46, 48]\n",
      "Odd [1, 3, 5, 7, 9, 11, 13, 15, 17, 19, 21, 23, 25, 27, 29, 31, 33, 35, 37, 39, 41, 43, 45, 47, 49]\n"
     ]
    }
   ],
   "source": [
    "even = []\n",
    "odd = []\n",
    "\n",
    "for num in range(1, 50):\n",
    "    if num%2 == 0:\n",
    "        even.append(num)\n",
    "    else:\n",
    "        odd.append(num)\n",
    "\n",
    "print('Even', even)\n",
    "print('Odd', odd)"
   ]
  },
  {
   "cell_type": "code",
   "execution_count": 53,
   "metadata": {},
   "outputs": [
    {
     "name": "stdout",
     "output_type": "stream",
     "text": [
      "Enter employees name: Ahmed\n",
      "Congrats! Ahmed is already in the list\n"
     ]
    }
   ],
   "source": [
    "employees = ['Ahmed', 'Yousuf', 'Hunan']\n",
    "\n",
    "employee = input('Enter employees name: ')\n",
    "\n",
    "if employee in employees:\n",
    "    print(f'Congrats! {employee} is already in the list')\n",
    "else:\n",
    "    print('Not avaible ')"
   ]
  },
  {
   "cell_type": "markdown",
   "metadata": {},
   "source": [
    "### Page 92"
   ]
  },
  {
   "cell_type": "code",
   "execution_count": 58,
   "metadata": {},
   "outputs": [
    {
     "name": "stdout",
     "output_type": "stream",
     "text": [
      "Adding mushrooms .\n",
      "Sorry we dont have fries .\n",
      "Adding extra cheese .\n",
      "\n",
      "Finished making your Pizza\n"
     ]
    }
   ],
   "source": [
    "av_troppings = ['mushrooms', 'olives', 'green pepers', 'pepperoni', 'pineapple', 'extra cheese']\n",
    "\n",
    "req_toppings = ['mushrooms', 'fries', 'extra cheese']\n",
    "\n",
    "for req_top in req_toppings:\n",
    "    if req_top in av_troppings:\n",
    "        print('Adding', req_top, '.')\n",
    "    else:\n",
    "        print('Sorry', 'we dont have', req_top, '.')\n",
    "        \n",
    "print(\"\\nFinished making your Pizza\")"
   ]
  },
  {
   "cell_type": "code",
   "execution_count": 59,
   "metadata": {},
   "outputs": [
    {
     "name": "stdout",
     "output_type": "stream",
     "text": [
      "Enter employees name: salimn\n",
      "Successfully add salimn\n",
      "Enter employees name: salimn\n",
      "Already Present\n",
      "Enter employees name: ahmed\n",
      "Successfully add ahmed\n"
     ]
    }
   ],
   "source": [
    "employees = []\n",
    "\n",
    "for emp in range(3):\n",
    "    employee = input('Enter employees name: ')\n",
    "\n",
    "    if employee not in employees:\n",
    "        print(f'Successfully add {employee}')\n",
    "        employees.append(employee)\n",
    "    else:\n",
    "        print('Already Present')"
   ]
  },
  {
   "cell_type": "code",
   "execution_count": 60,
   "metadata": {},
   "outputs": [
    {
     "data": {
      "text/plain": [
       "['salimn', 'ahmed']"
      ]
     },
     "execution_count": 60,
     "metadata": {},
     "output_type": "execute_result"
    }
   ],
   "source": [
    "employees"
   ]
  },
  {
   "cell_type": "code",
   "execution_count": null,
   "metadata": {},
   "outputs": [],
   "source": []
  }
 ],
 "metadata": {
  "kernelspec": {
   "display_name": "Python 3",
   "language": "python",
   "name": "python3"
  },
  "language_info": {
   "codemirror_mode": {
    "name": "ipython",
    "version": 3
   },
   "file_extension": ".py",
   "mimetype": "text/x-python",
   "name": "python",
   "nbconvert_exporter": "python",
   "pygments_lexer": "ipython3",
   "version": "3.7.9"
  }
 },
 "nbformat": 4,
 "nbformat_minor": 4
}
