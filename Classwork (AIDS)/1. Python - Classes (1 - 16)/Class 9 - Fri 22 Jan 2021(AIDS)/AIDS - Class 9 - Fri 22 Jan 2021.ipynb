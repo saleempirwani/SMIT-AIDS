{
 "cells": [
  {
   "cell_type": "code",
   "execution_count": 1,
   "metadata": {},
   "outputs": [],
   "source": [
    "unprinted_designs = ['phone case', 'robot pendant', 'dodecahedron']\n",
    "completed_models = []"
   ]
  },
  {
   "cell_type": "code",
   "execution_count": 2,
   "metadata": {},
   "outputs": [
    {
     "name": "stdout",
     "output_type": "stream",
     "text": [
      "Printing model: dodecahedron\n",
      "Printing model: robot pendant\n",
      "Printing model: phone case\n"
     ]
    }
   ],
   "source": [
    "while unprinted_designs:\n",
    "    current_design = unprinted_designs.pop()\n",
    "    print(f\"Printing model: {current_design}\")\n",
    "    completed_models.append(current_design)"
   ]
  },
  {
   "cell_type": "code",
   "execution_count": 3,
   "metadata": {},
   "outputs": [
    {
     "name": "stdout",
     "output_type": "stream",
     "text": [
      "\n",
      "The following models have been printed:\n",
      "dodecahedron\n",
      "robot pendant\n",
      "phone case\n"
     ]
    }
   ],
   "source": [
    "# Display all completed models.\n",
    "print(\"\\nThe following models have been printed:\")\n",
    "for completed_model in completed_models:\n",
    "    print(completed_model)"
   ]
  },
  {
   "cell_type": "code",
   "execution_count": 4,
   "metadata": {},
   "outputs": [],
   "source": [
    " def print_models(unprinted_designs, completed_models):\n",
    "    while unprinted_designs:\n",
    "        current_design = unprinted_designs.pop()\n",
    "        print(f\"Printing model: {current_design}\")\n",
    "        completed_models.append(current_design)"
   ]
  },
  {
   "cell_type": "code",
   "execution_count": 5,
   "metadata": {},
   "outputs": [],
   "source": [
    "def show_completed_models(completed_models):\n",
    "    print(\"\\nThe following models have been printed:\")\n",
    "    for completed_model in completed_models:\n",
    "        print(completed_model)"
   ]
  },
  {
   "cell_type": "code",
   "execution_count": 6,
   "metadata": {},
   "outputs": [
    {
     "name": "stdout",
     "output_type": "stream",
     "text": [
      "Printing model: dodecahedron\n",
      "Printing model: robot pendant\n",
      "Printing model: phone case\n",
      "\n",
      "The following models have been printed:\n",
      "dodecahedron\n",
      "robot pendant\n",
      "phone case\n"
     ]
    }
   ],
   "source": [
    "unprinted_designs = ['phone case', 'robot pendant', 'dodecahedron']\n",
    "completed_models = []\n",
    "print_models(unprinted_designs, completed_models)\n",
    "show_completed_models(completed_models)"
   ]
  },
  {
   "cell_type": "code",
   "execution_count": 7,
   "metadata": {},
   "outputs": [
    {
     "data": {
      "text/plain": [
       "[]"
      ]
     },
     "execution_count": 7,
     "metadata": {},
     "output_type": "execute_result"
    }
   ],
   "source": [
    "unprinted_designs"
   ]
  },
  {
   "cell_type": "code",
   "execution_count": 8,
   "metadata": {},
   "outputs": [
    {
     "name": "stdout",
     "output_type": "stream",
     "text": [
      "Printing model: dodecahedron\n",
      "Printing model: robot pendant\n",
      "Printing model: phone case\n",
      "\n",
      "The following models have been printed:\n",
      "dodecahedron\n",
      "robot pendant\n",
      "phone case\n"
     ]
    },
    {
     "data": {
      "text/plain": [
       "['phone case', 'robot pendant', 'dodecahedron']"
      ]
     },
     "execution_count": 8,
     "metadata": {},
     "output_type": "execute_result"
    }
   ],
   "source": [
    "unprinted_designs = ['phone case', 'robot pendant', 'dodecahedron']\n",
    "completed_models = []\n",
    "print_models(unprinted_designs[:], completed_models)\n",
    "show_completed_models(completed_models)\n",
    "unprinted_designs"
   ]
  },
  {
   "cell_type": "markdown",
   "metadata": {},
   "source": [
    "### 8-9. Messages: Make a list containing a series of short text messages. Pass the list to a function called show_messages(), which prints each text message."
   ]
  },
  {
   "cell_type": "code",
   "execution_count": 9,
   "metadata": {},
   "outputs": [],
   "source": [
    "messages = ['Hello', 'Hey', 'Good Bye', 'Congrats']"
   ]
  },
  {
   "cell_type": "code",
   "execution_count": 10,
   "metadata": {},
   "outputs": [],
   "source": [
    "def show_message(messages):\n",
    "    for x in messages:\n",
    "        print(x)"
   ]
  },
  {
   "cell_type": "code",
   "execution_count": 11,
   "metadata": {},
   "outputs": [
    {
     "name": "stdout",
     "output_type": "stream",
     "text": [
      "Hello\n",
      "Hey\n",
      "Good Bye\n",
      "Congrats\n"
     ]
    }
   ],
   "source": [
    "show_message(messages)"
   ]
  },
  {
   "cell_type": "markdown",
   "metadata": {},
   "source": [
    "### 8-10. Sending Messages: Start with a copy of your program from Exercise 8-9. Write a function called send_messages() that prints each text message and moves each message to a new list called sent_messages as it’s printed. After calling the function, print both of your lists to make sure the messages were moved correctly."
   ]
  },
  {
   "cell_type": "code",
   "execution_count": 12,
   "metadata": {},
   "outputs": [],
   "source": [
    "new_list = []\n",
    "def send_messages(messages, new_list):\n",
    "    for x in messages:\n",
    "        print(x)\n",
    "        new_list.append(x)\n",
    "    print('\\n\\nSending message\\n')\n",
    "    for x in new_list:\n",
    "        print(x)\n",
    "        "
   ]
  },
  {
   "cell_type": "code",
   "execution_count": 13,
   "metadata": {},
   "outputs": [
    {
     "name": "stdout",
     "output_type": "stream",
     "text": [
      "Hello\n",
      "Hey\n",
      "Good Bye\n",
      "Congrats\n",
      "\n",
      "\n",
      "Sending message\n",
      "\n",
      "Hello\n",
      "Hey\n",
      "Good Bye\n",
      "Congrats\n"
     ]
    }
   ],
   "source": [
    "send_messages(messages, new_list)"
   ]
  },
  {
   "cell_type": "code",
   "execution_count": 14,
   "metadata": {},
   "outputs": [],
   "source": [
    "# 8-11. Archived Messages: Start with your work from Exercise 8-10. Call the\n",
    "# function send_messages() with a copy of the list of messages. After calling the\n",
    "# function, print both of your lists to show that the original list has retained its\n",
    "# messages."
   ]
  },
  {
   "cell_type": "code",
   "execution_count": 15,
   "metadata": {},
   "outputs": [
    {
     "name": "stdout",
     "output_type": "stream",
     "text": [
      "Hello\n",
      "Hey\n",
      "Good Bye\n",
      "Congrats\n",
      "\n",
      "\n",
      "Sending message\n",
      "\n",
      "Hello\n",
      "Hey\n",
      "Good Bye\n",
      "Congrats\n",
      "Hello\n",
      "Hey\n",
      "Good Bye\n",
      "Congrats\n",
      "\n",
      "['Hello', 'Hey', 'Good Bye', 'Congrats']\n",
      "['Hello', 'Hey', 'Good Bye', 'Congrats']\n"
     ]
    }
   ],
   "source": [
    "send_messages(messages, new_list[:])\n",
    "print()\n",
    "print(messages)\n",
    "print(new_list)"
   ]
  },
  {
   "cell_type": "markdown",
   "metadata": {},
   "source": [
    "### Passing an Arbitrary Number of Arguments"
   ]
  },
  {
   "cell_type": "code",
   "execution_count": 16,
   "metadata": {},
   "outputs": [
    {
     "name": "stdout",
     "output_type": "stream",
     "text": [
      "mashroom\n",
      "\n",
      "mashroom\n",
      "cheese\n",
      "olives\n"
     ]
    }
   ],
   "source": [
    "def make_pizza(*topping):\n",
    "    for x in topping:\n",
    "        print(x)\n",
    "        \n",
    "make_pizza('mashroom')\n",
    "print()\n",
    "make_pizza('mashroom', 'cheese', 'olives')"
   ]
  },
  {
   "cell_type": "code",
   "execution_count": 17,
   "metadata": {},
   "outputs": [
    {
     "name": "stdout",
     "output_type": "stream",
     "text": [
      "{'nationality': 'Pakistan', 'city': 'Karachi'}\n",
      "\n",
      "name: saleem\n",
      "age: 22\n",
      "nationality Pakistan\n",
      "city Karachi\n"
     ]
    }
   ],
   "source": [
    "def user(name, age, **user_info):\n",
    "    print(user_info)\n",
    "    print()\n",
    "    print('name:', name)\n",
    "    print('age:', age)\n",
    "    for k,v in user_info.items():\n",
    "        print(k,v)\n",
    "        \n",
    "user('saleem', '22', nationality='Pakistan', city='Karachi')"
   ]
  },
  {
   "cell_type": "code",
   "execution_count": 18,
   "metadata": {},
   "outputs": [
    {
     "name": "stdout",
     "output_type": "stream",
     "text": [
      "Size 8\n",
      "mashroom\n",
      "\n",
      "Size 6\n",
      "mashroom\n",
      "cheese\n",
      "olives\n"
     ]
    }
   ],
   "source": [
    "def make_pizza(size, *topping):\n",
    "    print('Size', size)\n",
    "    for x in topping:\n",
    "        print(x)\n",
    "        \n",
    "make_pizza(8, 'mashroom')\n",
    "print()\n",
    "make_pizza(6, 'mashroom', 'cheese', 'olives')"
   ]
  },
  {
   "cell_type": "code",
   "execution_count": 19,
   "metadata": {},
   "outputs": [
    {
     "name": "stdout",
     "output_type": "stream",
     "text": [
      "{'first_name': 'albert', 'last_name': 'einstein', 'location': 'princeton', 'field': 'physics'}\n"
     ]
    }
   ],
   "source": [
    "def build_profile(first, last, **user_info):\n",
    "    profile = {}\n",
    "    profile['first_name'] = first\n",
    "    profile['last_name'] = last\n",
    "    for k,v in user_info.items():\n",
    "        profile[k] = v\n",
    "    return profile\n",
    "\n",
    "user_profile = build_profile('albert', 'einstein', location='princeton', field='physics')\n",
    "print(user_profile)"
   ]
  },
  {
   "cell_type": "code",
   "execution_count": 20,
   "metadata": {},
   "outputs": [],
   "source": [
    "# 8-12. Sandwiches: Write a function that accepts a list of items a person wants\n",
    "# on a sandwich. The function should have one parameter that collects as many\n",
    "# items as the function call provides, and it should print a summary of the sandwich \n",
    "# that’s being ordered. Call the function three times,  using a different number \n",
    "# of arguments each time."
   ]
  },
  {
   "cell_type": "code",
   "execution_count": 21,
   "metadata": {},
   "outputs": [
    {
     "name": "stdout",
     "output_type": "stream",
     "text": [
      "Double sandwich\n",
      "Cheese sandwich\n",
      "\n",
      "sandwich double\n",
      "Cheese sandwich\n",
      "Chicken sandwich\n",
      "\n",
      "Beef Sandwich\n",
      "\n"
     ]
    }
   ],
   "source": [
    "def sandwich(*items):\n",
    "    for x in items:\n",
    "        print(x)\n",
    "    print()\n",
    "    \n",
    "sandwich('Double sandwich', 'Cheese sandwich')\n",
    "sandwich('sandwich double', 'Cheese sandwich', 'Chicken sandwich')\n",
    "sandwich('Beef Sandwich')"
   ]
  },
  {
   "cell_type": "code",
   "execution_count": 22,
   "metadata": {},
   "outputs": [],
   "source": [
    "# 8-13. User Profile: Start with a copy of user_profile.py from page 149. Build a\n",
    "# profile of yourself by calling build_profile(), using your first and last names\n",
    "# and three other key-value pairs that describe you.\n"
   ]
  },
  {
   "cell_type": "code",
   "execution_count": 23,
   "metadata": {},
   "outputs": [
    {
     "name": "stdout",
     "output_type": "stream",
     "text": [
      "{'first_name': 'ahmed', 'last_name': 'hussain', 'location': 'nazimabad', 'field': 'AI'}\n"
     ]
    }
   ],
   "source": [
    "def build_profile(first, last, **user_info):\n",
    "    profile = {}\n",
    "    profile['first_name'] = first\n",
    "    profile['last_name'] = last\n",
    "    for k,v in user_info.items():\n",
    "        profile[k] = v\n",
    "    return profile\n",
    "\n",
    "user_profile = build_profile('ahmed', 'hussain', location='nazimabad', field='AI')\n",
    "print(user_profile)"
   ]
  },
  {
   "cell_type": "code",
   "execution_count": 24,
   "metadata": {},
   "outputs": [],
   "source": [
    "# 8-14. Cars: Write a function that stores information about a car in a dictionary. The function \n",
    "# should always receive a manufacturer and a model name. It\n",
    "# should then accept an arbitrary number of keyword arguments. Call the function with the \n",
    "# required information and two other name-value pairs, such as a\n",
    "# color or an optional feature. Your function should work for a call like this one:"
   ]
  },
  {
   "cell_type": "code",
   "execution_count": 25,
   "metadata": {},
   "outputs": [
    {
     "name": "stdout",
     "output_type": "stream",
     "text": [
      "{'manf': 'subaru', 'model': 'outback', 'color': 'blue', 'tow_package': True}\n"
     ]
    }
   ],
   "source": [
    "def make_car(manf, model, **args):\n",
    "    abc = {}\n",
    "    abc['manf'] = manf\n",
    "    abc['model'] = model\n",
    "    for k,v in args.items():\n",
    "        abc[k] = v\n",
    "    return abc\n",
    "    \n",
    "car = make_car('subaru', 'outback', color='blue', tow_package=True)\n",
    "print(car)"
   ]
  },
  {
   "cell_type": "markdown",
   "metadata": {},
   "source": [
    "### Storing Your Functions in Modules"
   ]
  },
  {
   "cell_type": "code",
   "execution_count": 26,
   "metadata": {},
   "outputs": [
    {
     "ename": "SyntaxError",
     "evalue": "invalid syntax (text_utility.py, line 18)",
     "output_type": "error",
     "traceback": [
      "\u001b[0;36m  File \u001b[0;32m\"/home/selim/My Drive/Courses/AI and DS/AIDS-Classwork/AIDS - Class 9 - Fri 22 Jan 2021/text_utility.py\"\u001b[0;36m, line \u001b[0;32m18\u001b[0m\n\u001b[0;31m    punc = ['!', '@', '?', '.', '...', ',', ';', ':', '[', ']', \"'\", '\"', , '(', ')', '/', '-', '*', '{', '}' ]\u001b[0m\n\u001b[0m                                                                          ^\u001b[0m\n\u001b[0;31mSyntaxError\u001b[0m\u001b[0;31m:\u001b[0m invalid syntax\n"
     ]
    }
   ],
   "source": [
    "%run text_utility.py"
   ]
  },
  {
   "cell_type": "code",
   "execution_count": 27,
   "metadata": {},
   "outputs": [],
   "source": [
    "# %load text_utility.py\n",
    "def get_char_count(para):\n",
    "    \"\"\"This function accepts a string (str) and returns total no of string char (int)\"\"\"\n",
    "    return len(para)\n",
    "\n",
    "\n",
    "def get_word_count(para):\n",
    "    return len(para.split(' '))"
   ]
  },
  {
   "cell_type": "code",
   "execution_count": 104,
   "metadata": {},
   "outputs": [],
   "source": [
    "import text_utilities as tu"
   ]
  },
  {
   "cell_type": "code",
   "execution_count": 105,
   "metadata": {},
   "outputs": [
    {
     "data": {
      "text/plain": [
       "16"
      ]
     },
     "execution_count": 105,
     "metadata": {},
     "output_type": "execute_result"
    }
   ],
   "source": [
    "tu.get_char_count(\"This is a module\")"
   ]
  },
  {
   "cell_type": "code",
   "execution_count": 106,
   "metadata": {},
   "outputs": [
    {
     "data": {
      "text/plain": [
       "4"
      ]
     },
     "execution_count": 106,
     "metadata": {},
     "output_type": "execute_result"
    }
   ],
   "source": [
    "tu.get_word_count(\"This is a module\")"
   ]
  },
  {
   "cell_type": "code",
   "execution_count": 107,
   "metadata": {},
   "outputs": [
    {
     "data": {
      "text/plain": [
       "2"
      ]
     },
     "execution_count": 107,
     "metadata": {},
     "output_type": "execute_result"
    }
   ],
   "source": [
    "tu.get_punctuation_count(\"Hello, I'am Saleem\")"
   ]
  },
  {
   "cell_type": "code",
   "execution_count": 108,
   "metadata": {},
   "outputs": [
    {
     "data": {
      "text/plain": [
       "'Hello Iam Saleem'"
      ]
     },
     "execution_count": 108,
     "metadata": {},
     "output_type": "execute_result"
    }
   ],
   "source": [
    "tu.remove_punctuation(\"Hello, I'am Saleem\")"
   ]
  },
  {
   "cell_type": "code",
   "execution_count": 109,
   "metadata": {},
   "outputs": [
    {
     "data": {
      "text/plain": [
       "'jfasjkf'"
      ]
     },
     "execution_count": 109,
     "metadata": {},
     "output_type": "execute_result"
    }
   ],
   "source": [
    "tu.additon_space_remove('   jfasjkf   ')"
   ]
  },
  {
   "cell_type": "code",
   "execution_count": 110,
   "metadata": {},
   "outputs": [
    {
     "data": {
      "text/plain": [
       "2"
      ]
     },
     "execution_count": 110,
     "metadata": {},
     "output_type": "execute_result"
    }
   ],
   "source": [
    "tu.get_vowels_count('salim')"
   ]
  }
 ],
 "metadata": {
  "kernelspec": {
   "display_name": "Python 3",
   "language": "python",
   "name": "python3"
  },
  "language_info": {
   "codemirror_mode": {
    "name": "ipython",
    "version": 3
   },
   "file_extension": ".py",
   "mimetype": "text/x-python",
   "name": "python",
   "nbconvert_exporter": "python",
   "pygments_lexer": "ipython3",
   "version": "3.7.9"
  }
 },
 "nbformat": 4,
 "nbformat_minor": 4
}
