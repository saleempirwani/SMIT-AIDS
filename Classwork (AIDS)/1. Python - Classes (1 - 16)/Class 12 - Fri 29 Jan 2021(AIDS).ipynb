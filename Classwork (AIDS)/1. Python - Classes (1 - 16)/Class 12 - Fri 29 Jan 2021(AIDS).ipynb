{
 "cells": [
  {
   "cell_type": "code",
   "execution_count": null,
   "metadata": {},
   "outputs": [],
   "source": [
    "# Centeral tendency\n",
    "# Single Variable central tendency\n",
    "# Uni Variable tendency (mean, median, mode)\n",
    "\n",
    "# Dummy data on excel (find: mean, median, mode, variance, sd)"
   ]
  },
  {
   "cell_type": "markdown",
   "metadata": {},
   "source": [
    "### Python OOP\n",
    "\n",
    "### 4 main concept\n",
    "* Encapsulation\n",
    "* Inheritance\n",
    "* Polymorphism\n",
    "\n",
    "#### Memembers\n",
    "* Attribute => properties (variables): `self.a = 'abc' or self.b = 0`\n",
    "\n",
    "\n",
    "* behavious => Method (functions): `name(self) or name(self, param1, param2)`\n",
    "\n",
    "#### Constructor\n",
    "* Constructor (Initializer):  `__init__(self)` or `__init__(self, param1, param2`\n",
    "\n",
    "#### Object\n",
    "\n",
    "* Object(Instance): `obj = ClassName()`\n",
    "\n",
    "####  Self\n",
    "\n",
    "* `self` is an object name or object referrence which can use to refer its own object.\n",
    "* `self` must be first argument of its constructor and method"
   ]
  },
  {
   "cell_type": "code",
   "execution_count": 26,
   "metadata": {},
   "outputs": [],
   "source": [
    "class Computer():\n",
    "    def __init__(self):  # (initializer / constructor)\n",
    "        # properties\n",
    "        self.manufacturer = 'Lenovo'\n",
    "        self.model = 'ideapad3456'\n",
    "        print('I am your constructor. Your object is created')\n",
    "        \n",
    "    # behavious\n",
    "    def show_config(self):\n",
    "        print(\"i5\", \"16GB\", \"1TB\")\n"
   ]
  },
  {
   "cell_type": "code",
   "execution_count": 30,
   "metadata": {},
   "outputs": [
    {
     "name": "stdout",
     "output_type": "stream",
     "text": [
      "I am your constructor. Your object is created\n"
     ]
    }
   ],
   "source": [
    "comp1 = Computer()"
   ]
  },
  {
   "cell_type": "code",
   "execution_count": 9,
   "metadata": {},
   "outputs": [
    {
     "data": {
      "text/plain": [
       "'Lenovo'"
      ]
     },
     "execution_count": 9,
     "metadata": {},
     "output_type": "execute_result"
    }
   ],
   "source": [
    "comp1.manufacturer"
   ]
  },
  {
   "cell_type": "code",
   "execution_count": 10,
   "metadata": {},
   "outputs": [
    {
     "data": {
      "text/plain": [
       "'ideapad3456'"
      ]
     },
     "execution_count": 10,
     "metadata": {},
     "output_type": "execute_result"
    }
   ],
   "source": [
    "comp1.model"
   ]
  },
  {
   "cell_type": "code",
   "execution_count": 11,
   "metadata": {},
   "outputs": [
    {
     "name": "stdout",
     "output_type": "stream",
     "text": [
      "i5 16GB 1TB\n"
     ]
    }
   ],
   "source": [
    "comp1.show_config()"
   ]
  },
  {
   "cell_type": "code",
   "execution_count": null,
   "metadata": {},
   "outputs": [],
   "source": []
  },
  {
   "cell_type": "code",
   "execution_count": 33,
   "metadata": {},
   "outputs": [],
   "source": [
    "class Computer():\n",
    "    def __init__(self, processor, ram, drive):  # (initializer / constructor)\n",
    "        \n",
    "        # properties\n",
    "        self.processor = processor\n",
    "        self.ram = ram\n",
    "        self.drive = drive\n",
    "        self.manufacturer = 'Lenovo'\n",
    "        self.model = 'ideapad3456'\n",
    "        \n",
    "        print('I am your constructor. Your object is created')\n",
    "        \n",
    "    # behavious\n",
    "    def show_config(self):\n",
    "        print(f'Processor: {self.processor}, Ram: {self.ram}, Drive: {self.drive}')\n"
   ]
  },
  {
   "cell_type": "code",
   "execution_count": 34,
   "metadata": {},
   "outputs": [
    {
     "name": "stdout",
     "output_type": "stream",
     "text": [
      "I am your constructor. Your object is created\n"
     ]
    }
   ],
   "source": [
    "comp2 = Computer('i7 core', '8 gb', '256 TB')"
   ]
  },
  {
   "cell_type": "code",
   "execution_count": 35,
   "metadata": {},
   "outputs": [
    {
     "name": "stdout",
     "output_type": "stream",
     "text": [
      "Processor: i7 core, Ram: 8 gb, Drive: 256 TB\n"
     ]
    }
   ],
   "source": [
    "comp2.show_config()"
   ]
  },
  {
   "cell_type": "code",
   "execution_count": null,
   "metadata": {},
   "outputs": [],
   "source": []
  },
  {
   "cell_type": "code",
   "execution_count": 36,
   "metadata": {},
   "outputs": [
    {
     "name": "stdout",
     "output_type": "stream",
     "text": [
      "Processor: i7 core, Ram: 8 gb, Drive: 256 TB\n"
     ]
    }
   ],
   "source": [
    "Computer.show_config(comp2)\n"
   ]
  },
  {
   "cell_type": "code",
   "execution_count": null,
   "metadata": {},
   "outputs": [],
   "source": []
  }
 ],
 "metadata": {
  "kernelspec": {
   "display_name": "Python 3",
   "language": "python",
   "name": "python3"
  },
  "language_info": {
   "codemirror_mode": {
    "name": "ipython",
    "version": 3
   },
   "file_extension": ".py",
   "mimetype": "text/x-python",
   "name": "python",
   "nbconvert_exporter": "python",
   "pygments_lexer": "ipython3",
   "version": "3.8.5"
  }
 },
 "nbformat": 4,
 "nbformat_minor": 4
}
