{
 "cells": [
  {
   "cell_type": "markdown",
   "metadata": {},
   "source": [
    "### Function (Method/Routines)"
   ]
  },
  {
   "cell_type": "code",
   "execution_count": 1,
   "metadata": {},
   "outputs": [],
   "source": [
    "import math"
   ]
  },
  {
   "cell_type": "code",
   "execution_count": 2,
   "metadata": {},
   "outputs": [
    {
     "data": {
      "text/plain": [
       "4.0"
      ]
     },
     "execution_count": 2,
     "metadata": {},
     "output_type": "execute_result"
    }
   ],
   "source": [
    "math.pow(2, 2)"
   ]
  },
  {
   "cell_type": "code",
   "execution_count": 3,
   "metadata": {},
   "outputs": [],
   "source": [
    "def to_call():\n",
    "    print('Welcome!...')"
   ]
  },
  {
   "cell_type": "code",
   "execution_count": 5,
   "metadata": {},
   "outputs": [
    {
     "name": "stdout",
     "output_type": "stream",
     "text": [
      "Welcome!...\n"
     ]
    }
   ],
   "source": [
    "to_call()"
   ]
  },
  {
   "cell_type": "code",
   "execution_count": 6,
   "metadata": {},
   "outputs": [],
   "source": [
    "def add(a, b):\n",
    "    print(f'Addition: {a+b}')"
   ]
  },
  {
   "cell_type": "code",
   "execution_count": 8,
   "metadata": {},
   "outputs": [
    {
     "name": "stdout",
     "output_type": "stream",
     "text": [
      "Enter no1: 5\n",
      "Enter no2: 2\n",
      "Addition: 7\n"
     ]
    }
   ],
   "source": [
    "a = int(input('Enter no1: '))\n",
    "b = int(input('Enter no2: '))\n",
    "add(a, b)"
   ]
  },
  {
   "cell_type": "code",
   "execution_count": 1,
   "metadata": {},
   "outputs": [
    {
     "name": "stdout",
     "output_type": "stream",
     "text": [
      "Enter no1, no2 (comma sep): 5, 2\n",
      "Addition: 7\n"
     ]
    }
   ],
   "source": [
    "def add():\n",
    "    ans = input('Enter no1, no2 (comma sep): ').split(',')\n",
    "    print(f'Addition: {int(ans[0])+int(ans[1])}')\n",
    "    \n",
    "add()"
   ]
  },
  {
   "cell_type": "code",
   "execution_count": 43,
   "metadata": {},
   "outputs": [
    {
     "name": "stdout",
     "output_type": "stream",
     "text": [
      "Enter 5 no.s (comma sep): 1, 2, 3,5, 99\n",
      "Enter 5 no.s (comma sep): 1, 2, 3 , 99, 49\n"
     ]
    },
    {
     "data": {
      "text/plain": [
       "1"
      ]
     },
     "execution_count": 43,
     "metadata": {},
     "output_type": "execute_result"
    }
   ],
   "source": [
    "def findMaxNo():\n",
    "    ans = input('Enter 5 no.s (comma sep): ').split(',')\n",
    "    return max([int(x) for x in ans])\n",
    "    \n",
    "findMaxNo()\n",
    "\n",
    "# def findMaxNo():\n",
    "#     ans = input('Enter 5 no.s (comma sep): ').split(',')\n",
    "#     return int(max(ans))\n",
    "    \n",
    "# findMaxNo()"
   ]
  },
  {
   "cell_type": "code",
   "execution_count": 17,
   "metadata": {},
   "outputs": [
    {
     "data": {
      "text/plain": [
       "9000"
      ]
     },
     "execution_count": 17,
     "metadata": {},
     "output_type": "execute_result"
    }
   ],
   "source": [
    "int(max((['9000', '5', '3', '500', '5000'])))"
   ]
  },
  {
   "cell_type": "code",
   "execution_count": 35,
   "metadata": {},
   "outputs": [
    {
     "name": "stdout",
     "output_type": "stream",
     "text": [
      "Enter a number: 23\n"
     ]
    },
    {
     "data": {
      "text/plain": [
       "'23 is an old no'"
      ]
     },
     "execution_count": 35,
     "metadata": {},
     "output_type": "execute_result"
    }
   ],
   "source": [
    "def is_even_odd():\n",
    "    no = int(input('Enter a number: '))\n",
    "    return f'{no} is an Even no.' if no%2 == 0 else  f'{no} is an old no'\n",
    "\n",
    "is_even_odd()"
   ]
  },
  {
   "cell_type": "code",
   "execution_count": 34,
   "metadata": {},
   "outputs": [
    {
     "name": "stdout",
     "output_type": "stream",
     "text": [
      "Enter a number: 22\n"
     ]
    },
    {
     "data": {
      "text/plain": [
       "'22 is a min no'"
      ]
     },
     "execution_count": 34,
     "metadata": {},
     "output_type": "execute_result"
    }
   ],
   "source": [
    "def chk_value():\n",
    "    no = int(input('Enter a number: '))\n",
    "    my = 23\n",
    "    if no == my: return f'{no} is an Equal no.'\n",
    "    return f'{no} is a max no.' if no>my  else f'{no} is a min no'\n",
    "\n",
    "\n",
    "chk_value()"
   ]
  },
  {
   "cell_type": "code",
   "execution_count": 47,
   "metadata": {},
   "outputs": [
    {
     "name": "stdout",
     "output_type": "stream",
     "text": [
      "Student validation for exams\n",
      "****************************\n",
      "\n",
      "Is your fees paid? (y/n): n\n"
     ]
    },
    {
     "data": {
      "text/plain": [
       "'Sorry! Your are not allowed for exam.'"
      ]
     },
     "execution_count": 47,
     "metadata": {},
     "output_type": "execute_result"
    }
   ],
   "source": [
    "def validStudent():\n",
    "    print('Student validation for exams')\n",
    "    print('****************************')\n",
    "    print()\n",
    "    \n",
    "    is_paid = input('Is your fees paid? (y/n): ')\n",
    "    if is_paid == 'y':\n",
    "        \n",
    "        is_admit = input('Do you have admit card? (y/n): ')\n",
    "        \n",
    "        if is_admit == 'y': \n",
    "            return 'Congrats! Your are a allowed for exam.'\n",
    "        else:  \n",
    "            return 'Sorry! Your are not allowed for exam.'\n",
    "    else: \n",
    "        return 'Sorry! Your are not allowed for exam.'\n",
    "\n",
    "    return 'Error: You pressed the wrong key.'\n",
    "        \n",
    "\n",
    "validStudent()"
   ]
  },
  {
   "cell_type": "code",
   "execution_count": 2,
   "metadata": {},
   "outputs": [
    {
     "name": "stdout",
     "output_type": "stream",
     "text": [
      "\n",
      "Press 'a': for check even or odd number\"\n",
      "Press 'e': for exit programa\n",
      "Enter a number: 23\n",
      "23 is an old no\n",
      "\n",
      "Press 'a': for check even or odd number\"\n",
      "Press 'e': for exit programa\n",
      "Enter a number: 53\n",
      "53 is an old no\n",
      "\n",
      "Press 'a': for check even or odd number\"\n",
      "Press 'e': for exit programe\n",
      "\n",
      "Terminating program...\n"
     ]
    }
   ],
   "source": [
    "def even_or_odd():\n",
    "    menu = \"\"\"\n",
    "Press 'a': for check even or odd number\"\n",
    "Press 'e': for exit program: \"\"\"\n",
    "    while True:\n",
    "        ans = input(menu)\n",
    "        if ans == 'e':\n",
    "            print('\\nTerminating program...')\n",
    "            break\n",
    "        if ans == 'a':\n",
    "            no = int(input('Enter a number: '))\n",
    "            if no%2 == 0: print(f'{no} is an Even no.')  \n",
    "            else: print(f'{no} is an old no')\n",
    "\n",
    "even_or_odd()   "
   ]
  },
  {
   "cell_type": "code",
   "execution_count": null,
   "metadata": {},
   "outputs": [],
   "source": []
  }
 ],
 "metadata": {
  "kernelspec": {
   "display_name": "Python 3",
   "language": "python",
   "name": "python3"
  },
  "language_info": {
   "codemirror_mode": {
    "name": "ipython",
    "version": 3
   },
   "file_extension": ".py",
   "mimetype": "text/x-python",
   "name": "python",
   "nbconvert_exporter": "python",
   "pygments_lexer": "ipython3",
   "version": "3.7.9"
  }
 },
 "nbformat": 4,
 "nbformat_minor": 4
}
