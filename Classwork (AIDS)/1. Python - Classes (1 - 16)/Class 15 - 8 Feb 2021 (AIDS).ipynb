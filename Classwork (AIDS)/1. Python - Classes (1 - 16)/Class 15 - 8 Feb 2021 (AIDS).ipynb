{
 "cells": [
  {
   "cell_type": "markdown",
   "metadata": {},
   "source": [
    "#### 9-6. Ice Cream Stand:\n",
    "An ice cream stand is a specific kind of restaurant. Write\n",
    "a class called IceCreamStand that inherits from the Restaurant class you wrote\n",
    "in Exercise 9-1 (page 166) or Exercise 9-4 (page 171). Either version of\n",
    "the class will work; just pick the one you like better. Add an attribute called\n",
    "flavors that stores a list of ice cream flavors. Write a method that displays\n",
    "these flavors. Create an instance of IceCreamStand, and call this method."
   ]
  },
  {
   "cell_type": "code",
   "execution_count": 1,
   "metadata": {},
   "outputs": [],
   "source": [
    "class Restaurant:\n",
    "    def __init__(self, res_name, cuisine_type):\n",
    "        self.res_name = res_name\n",
    "        self.cuisine_type = cuisine_type\n",
    "    def des_res(self):\n",
    "        print('Restaurant:', self.res_name, 'Cuisine Type:', self.cuisine_type)\n",
    "        \n",
    "    def open_res(self):\n",
    "        print('The restaurant is open.')"
   ]
  },
  {
   "cell_type": "code",
   "execution_count": 8,
   "metadata": {},
   "outputs": [],
   "source": [
    "class IceCreamStand(Restaurant):\n",
    "    def __init__(self, res_name, cuisine_type, flavor):\n",
    "        super().__init__(res_name, cuisine_type)\n",
    "        self.flavor = flavor\n",
    "    \n",
    "    def disp_flavor(self):\n",
    "        for x in self.flavor:\n",
    "            print(x)"
   ]
  },
  {
   "cell_type": "code",
   "execution_count": 9,
   "metadata": {},
   "outputs": [
    {
     "name": "stdout",
     "output_type": "stream",
     "text": [
      "Mango\n",
      "Vanila\n",
      "Strawberry\n"
     ]
    }
   ],
   "source": [
    "ice_cream = IceCreamStand('Res_Abc', 'Type_Xyz', ['Mango', 'Vanila', 'Strawberry'])\n",
    "ice_cream.disp_flavor()"
   ]
  },
  {
   "cell_type": "markdown",
   "metadata": {},
   "source": [
    "#### 9-7. Admin: \n",
    "An administrator is a special kind of user. Write a class called\n",
    "Admin that inherits from the User class you wrote in Exercise 9-3 (page 166)\n",
    "or Exercise 9-5 (page 171). Add an attribute, privileges, that stores a list\n",
    "of strings like \"can add post\", \"can delete post\", \"can ban user\", and so on.\n",
    "Write a method called show_privileges() that lists the administrator’s set of\n",
    "privileges. Create an instance of Admin, and call your method."
   ]
  },
  {
   "cell_type": "code",
   "execution_count": 10,
   "metadata": {},
   "outputs": [],
   "source": [
    "class User:\n",
    "    def __init__(self, fname, lname,):\n",
    "        self.fname = fname\n",
    "        self.lname = lname\n",
    "    def des_user(self):\n",
    "        print('first name', self.fname, 'last name', self.lname)\n",
    "        \n",
    "    def greet_user(self):\n",
    "        print('Hello', self.fname, self.lname)"
   ]
  },
  {
   "cell_type": "code",
   "execution_count": 12,
   "metadata": {},
   "outputs": [],
   "source": [
    "class Admin(User):\n",
    "    def __init__(self, fname, lname, privileges):\n",
    "        super().__init__(fname, lname)\n",
    "        self.privileges = privileges\n",
    "        \n",
    "    def show_privileges(self):\n",
    "        print('Privileges\\n')\n",
    "        for x in self.privileges:\n",
    "            print(x)"
   ]
  },
  {
   "cell_type": "code",
   "execution_count": 13,
   "metadata": {},
   "outputs": [
    {
     "name": "stdout",
     "output_type": "stream",
     "text": [
      "Privileges\n",
      "\n",
      "Can add post\n",
      "Can delete Post\n",
      "Can ban post\n"
     ]
    }
   ],
   "source": [
    "admin = Admin('Saleem', 'Raza', ['Can add post', 'Can delete Post', 'Can ban post'])\n",
    "admin.show_privileges()"
   ]
  },
  {
   "cell_type": "markdown",
   "metadata": {},
   "source": [
    "#### 9-8. Privileges: \n",
    "Write a separate Privileges class. The class should have one\n",
    "attribute, privileges, that stores a list of strings as described in Exercise 9-7.\n",
    "Move the show_privileges() method to this class. Make a Privileges instance\n",
    "as an attribute in the Admin class. Create a new instance of Admin and use your\n",
    "method to show its privileges"
   ]
  },
  {
   "cell_type": "code",
   "execution_count": 46,
   "metadata": {},
   "outputs": [],
   "source": [
    "class Privileges():\n",
    "    \n",
    "    privileges = ['Can add post', 'Can delete Post', 'Can ban post'] # class/static variables.\n",
    "    \n",
    "    def __init__(self):\n",
    "        pass\n",
    "    \n",
    "    # static/class/instance method.\n",
    "        \n",
    "    def show_privileges(self):  # instance\n",
    "        print('Privileges\\n')\n",
    "        for x in self.privileges:\n",
    "            print(x)\n",
    "    "
   ]
  },
  {
   "cell_type": "code",
   "execution_count": 47,
   "metadata": {},
   "outputs": [],
   "source": [
    "class Admin(User):\n",
    "    def __init__(self, fname, lname):\n",
    "        super().__init__(fname, lname)\n",
    "        self.privileges = Privileges()"
   ]
  },
  {
   "cell_type": "code",
   "execution_count": 48,
   "metadata": {},
   "outputs": [
    {
     "name": "stdout",
     "output_type": "stream",
     "text": [
      "Privileges\n",
      "\n",
      "Can add post\n",
      "Can delete Post\n",
      "Can ban post\n"
     ]
    }
   ],
   "source": [
    "admin = Admin('Saleem', 'Raza')\n",
    "admin.privileges.show_privileges()"
   ]
  },
  {
   "cell_type": "markdown",
   "metadata": {},
   "source": [
    "#### 9-9. Battery Upgrade: \n",
    "Use the final version of electric_car.py from this section.\n",
    "Add a method to the Battery class called upgrade_battery(). This method\n",
    "should check the battery size and set the capacity to 85 if it isn’t already.\n",
    "Make an electric car with a default battery size, call get_range() once, and\n",
    "then call get_range() a second time after upgrading the battery. You should\n",
    "see an increase in the car’s range."
   ]
  },
  {
   "cell_type": "code",
   "execution_count": 21,
   "metadata": {},
   "outputs": [],
   "source": [
    "class Battery():\n",
    "    def __init__(self, size):\n",
    "        self.size = size\n",
    "        \n",
    "    def upgrade_battery(self):\n",
    "        if self.size < 85:\n",
    "            self.size = 85\n",
    "            \n",
    "    def get_range(self):\n",
    "        return self.size\n",
    "    \n",
    "    def des_battey(self):\n",
    "        print(self.size)"
   ]
  },
  {
   "cell_type": "code",
   "execution_count": 37,
   "metadata": {},
   "outputs": [],
   "source": [
    "class ElectricCar():\n",
    "    def __init__(self, make, model, year):\n",
    "        self.battery= Battery(82)\n",
    "    \n",
    "    def gas_tank(self):\n",
    "        print('Gas tank not available')"
   ]
  },
  {
   "cell_type": "code",
   "execution_count": 38,
   "metadata": {},
   "outputs": [],
   "source": [
    "my_tesla = ElectricCar('tesla', 'models', 2016)"
   ]
  },
  {
   "cell_type": "code",
   "execution_count": 39,
   "metadata": {},
   "outputs": [
    {
     "data": {
      "text/plain": [
       "82"
      ]
     },
     "execution_count": 39,
     "metadata": {},
     "output_type": "execute_result"
    }
   ],
   "source": [
    "my_tesla.battery.get_range()"
   ]
  },
  {
   "cell_type": "code",
   "execution_count": 40,
   "metadata": {},
   "outputs": [],
   "source": [
    "my_tesla.battery.upgrade_battery()"
   ]
  },
  {
   "cell_type": "code",
   "execution_count": 41,
   "metadata": {},
   "outputs": [
    {
     "data": {
      "text/plain": [
       "85"
      ]
     },
     "execution_count": 41,
     "metadata": {},
     "output_type": "execute_result"
    }
   ],
   "source": [
    "my_tesla.battery.get_range()"
   ]
  }
 ],
 "metadata": {
  "kernelspec": {
   "display_name": "Python 3",
   "language": "python",
   "name": "python3"
  },
  "language_info": {
   "codemirror_mode": {
    "name": "ipython",
    "version": 3
   },
   "file_extension": ".py",
   "mimetype": "text/x-python",
   "name": "python",
   "nbconvert_exporter": "python",
   "pygments_lexer": "ipython3",
   "version": "3.7.6"
  }
 },
 "nbformat": 4,
 "nbformat_minor": 4
}
