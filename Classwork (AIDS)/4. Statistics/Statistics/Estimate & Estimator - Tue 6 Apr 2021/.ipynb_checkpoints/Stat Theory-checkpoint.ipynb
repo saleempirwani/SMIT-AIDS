{
 "cells": [
  {
   "cell_type": "markdown",
   "metadata": {},
   "source": [
    "```Estimation is a process\n",
    "Estimator is a variable = sample mean\n",
    "Estimate value jo nikale gii (pop mean)\n",
    "Infer (Andaza lagana)\n",
    "bias -  exe\n",
    "pop var - zscore\n",
    "std error: sigma/root(n)\n",
    "standarized variable\n",
    "z of alpha is critical value.\n",
    "point estimation: single (less valuable)\n",
    "confidence est: range (high valuable)```"
   ]
  },
  {
   "cell_type": "code",
   "execution_count": null,
   "metadata": {},
   "outputs": [],
   "source": []
  }
 ],
 "metadata": {
  "kernelspec": {
   "display_name": "Python 3",
   "language": "python",
   "name": "python3"
  },
  "language_info": {
   "codemirror_mode": {
    "name": "ipython",
    "version": 3
   },
   "file_extension": ".py",
   "mimetype": "text/x-python",
   "name": "python",
   "nbconvert_exporter": "python",
   "pygments_lexer": "ipython3",
   "version": "3.8.5"
  }
 },
 "nbformat": 4,
 "nbformat_minor": 4
}
