{
 "cells": [
  {
   "cell_type": "markdown",
   "metadata": {},
   "source": [
    "### Sample Data"
   ]
  },
  {
   "cell_type": "code",
   "execution_count": 1,
   "metadata": {},
   "outputs": [
    {
     "name": "stdout",
     "output_type": "stream",
     "text": [
      "Age: [27, 24, 22, 47, 35, 15, 40, 37, 55, 18, 32, 28, 38, 24, 36]\n",
      "Total: 15\n"
     ]
    }
   ],
   "source": [
    "AGE = [27, 24, 22, 47, 35, 15, 40, 37, 55, 18, 32, 28, 38, 24, 36]\n",
    "tol_no = len(AGE)\n",
    "\n",
    "print('Age:', AGE)\n",
    "print('Total:', tol_no)"
   ]
  },
  {
   "cell_type": "markdown",
   "metadata": {},
   "source": [
    "### Mean"
   ]
  },
  {
   "cell_type": "code",
   "execution_count": 2,
   "metadata": {},
   "outputs": [],
   "source": [
    "def mean(age):\n",
    "    total = len(age)\n",
    "    return sum(age) / total"
   ]
  },
  {
   "cell_type": "code",
   "execution_count": 3,
   "metadata": {},
   "outputs": [
    {
     "name": "stdout",
     "output_type": "stream",
     "text": [
      "Mean: 31.866666666666667\n"
     ]
    }
   ],
   "source": [
    "print('Mean:', mean(AGE))"
   ]
  },
  {
   "cell_type": "markdown",
   "metadata": {},
   "source": [
    "### Median"
   ]
  },
  {
   "cell_type": "code",
   "execution_count": 4,
   "metadata": {},
   "outputs": [],
   "source": [
    "import math\n",
    "\n",
    "def median(age):\n",
    "    age = sorted(age)\n",
    "    total = len(age)\n",
    "    if total%2 == 0:\n",
    "        mid = total/2\n",
    "        a = math.floor(mid)\n",
    "        b = math.ceil(mid)\n",
    "        return (age[a] + age[b]) / 2\n",
    "\n",
    "    return age[total//2]"
   ]
  },
  {
   "cell_type": "code",
   "execution_count": 5,
   "metadata": {},
   "outputs": [
    {
     "name": "stdout",
     "output_type": "stream",
     "text": [
      "Median: 32\n"
     ]
    }
   ],
   "source": [
    "print('Median:', median(AGE))"
   ]
  },
  {
   "cell_type": "code",
   "execution_count": 6,
   "metadata": {},
   "outputs": [],
   "source": [
    "def mode(age):\n",
    "    done = []\n",
    "    no_of_occ = []\n",
    "    for x in age:\n",
    "        if x not in done:\n",
    "            no_of_occ.append(age.count(x))\n",
    "            done.append(x)\n",
    "    max_occ = max(no_of_occ)\n",
    "    if no_of_occ.count(max_occ) > 1:\n",
    "        raise Exception('More than 1 digit are most common')\n",
    "    return age[no_of_occ.index(max_occ)]\n",
    "    "
   ]
  },
  {
   "cell_type": "code",
   "execution_count": 7,
   "metadata": {},
   "outputs": [
    {
     "name": "stdout",
     "output_type": "stream",
     "text": [
      "Mode: 24\n"
     ]
    }
   ],
   "source": [
    "print('Mode:', mode(AGE))"
   ]
  },
  {
   "cell_type": "markdown",
   "metadata": {},
   "source": [
    "### Variance"
   ]
  },
  {
   "cell_type": "code",
   "execution_count": 8,
   "metadata": {},
   "outputs": [],
   "source": [
    "def variance(age):\n",
    "    age = age.copy()\n",
    "    tol = len(age)\n",
    "    m = sum(age)/tol\n",
    "    \n",
    "    for (i,x) in enumerate(age):\n",
    "        age[i] = (x-m) ** 2\n",
    "    return sum(age) / (tol - 1)"
   ]
  },
  {
   "cell_type": "code",
   "execution_count": 9,
   "metadata": {},
   "outputs": [
    {
     "name": "stdout",
     "output_type": "stream",
     "text": [
      "Variance: 118.40952380952379\n"
     ]
    }
   ],
   "source": [
    "print('Variance:', variance(AGE))"
   ]
  },
  {
   "cell_type": "code",
   "execution_count": 10,
   "metadata": {},
   "outputs": [],
   "source": [
    "def std_dev(age):\n",
    "    age = age.copy()\n",
    "    tol = len(age)\n",
    "    m = sum(age)/tol\n",
    "    \n",
    "    for (i,x) in enumerate(age):\n",
    "        age[i] = (x-m) ** 2\n",
    "    return (sum(age) / (tol - 1)) ** 0.5"
   ]
  },
  {
   "cell_type": "code",
   "execution_count": 11,
   "metadata": {},
   "outputs": [
    {
     "name": "stdout",
     "output_type": "stream",
     "text": [
      "Standard Deviation: 10.881614025939525\n"
     ]
    }
   ],
   "source": [
    "print('Standard Deviation:', std_dev(AGE))"
   ]
  },
  {
   "cell_type": "markdown",
   "metadata": {},
   "source": [
    "### Verified by using built-in module"
   ]
  },
  {
   "cell_type": "code",
   "execution_count": 12,
   "metadata": {},
   "outputs": [
    {
     "name": "stdout",
     "output_type": "stream",
     "text": [
      "Mean: 31.866666666666667\n",
      "Median: 32\n",
      "Mode: 24\n",
      "Variance: 118.4095238095238\n",
      "Standard Deviation: 10.881614025939525\n"
     ]
    }
   ],
   "source": [
    "import statistics as st\n",
    "\n",
    "print('Mean:', st.mean(AGE))\n",
    "print('Median:', st.median(AGE))\n",
    "print('Mode:', st.mode(AGE))\n",
    "print('Variance:', st.variance(AGE))\n",
    "print('Standard Deviation:', st.stdev(AGE))"
   ]
  },
  {
   "cell_type": "code",
   "execution_count": null,
   "metadata": {},
   "outputs": [],
   "source": []
  },
  {
   "cell_type": "code",
   "execution_count": null,
   "metadata": {},
   "outputs": [],
   "source": []
  }
 ],
 "metadata": {
  "kernelspec": {
   "display_name": "Python 3",
   "language": "python",
   "name": "python3"
  },
  "language_info": {
   "codemirror_mode": {
    "name": "ipython",
    "version": 3
   },
   "file_extension": ".py",
   "mimetype": "text/x-python",
   "name": "python",
   "nbconvert_exporter": "python",
   "pygments_lexer": "ipython3",
   "version": "3.7.9"
  }
 },
 "nbformat": 4,
 "nbformat_minor": 4
}
