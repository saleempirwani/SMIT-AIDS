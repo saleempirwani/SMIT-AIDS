{
 "cells": [
  {
   "cell_type": "markdown",
   "metadata": {},
   "source": [
    "# CHAPTER NO 1 (INTRODUCING LISTS)\n",
    "\n",
    "### Book: Python Crash Course By ERIC MATTHES"
   ]
  },
  {
   "cell_type": "markdown",
   "metadata": {},
   "source": [
    "## 1. What is a List?"
   ]
  },
  {
   "cell_type": "markdown",
   "metadata": {},
   "source": [
    "### 1. Names: \n",
    "\n",
    "Store the names of a few of your friends in a list called names. Print each person’s name by accessing each element in the list, one at a time."
   ]
  },
  {
   "cell_type": "code",
   "execution_count": 4,
   "metadata": {},
   "outputs": [
    {
     "name": "stdout",
     "output_type": "stream",
     "text": [
      "Ahmed\n",
      "Hassan\n",
      "Ali\n"
     ]
    }
   ],
   "source": [
    "names = ['Ahmed', 'Hassan', 'Ali']\n",
    "\n",
    "print(names[0])\n",
    "print(names[1])\n",
    "print(names[2])"
   ]
  },
  {
   "cell_type": "markdown",
   "metadata": {},
   "source": [
    "### 3-2. Greetings: \n",
    "\n",
    "Start with the list you used in Exercise 3-1, but instead of just printing each person’s name, print a message to them. The text of each message should be the same, but each message should be personalized with the person’s name."
   ]
  },
  {
   "cell_type": "code",
   "execution_count": 5,
   "metadata": {},
   "outputs": [
    {
     "name": "stdout",
     "output_type": "stream",
     "text": [
      "Hello, have a great day mr. Ahmed\n",
      "Hello, have a great day mr. Hassan\n",
      "Hello, have a great day mr. Ali\n"
     ]
    }
   ],
   "source": [
    "names = ['Ahmed', 'Hassan', 'Ali']\n",
    "msg = 'Hello, have a great day mr.'\n",
    "\n",
    "print(msg, names[0])\n",
    "print(msg, names[1])\n",
    "print(msg, names[2])"
   ]
  },
  {
   "cell_type": "markdown",
   "metadata": {},
   "source": [
    "### 3-3. Your Own List: \n",
    "\n",
    "Think of your favorite mode of transportation, such as a motorcycle or a car, and make a list that stores several examples. Use your list to print a series of statements about these items, such as “I would like to own a Honda motorcycle.”"
   ]
  },
  {
   "cell_type": "code",
   "execution_count": 9,
   "metadata": {},
   "outputs": [
    {
     "name": "stdout",
     "output_type": "stream",
     "text": [
      "I would like to own a Audi car.\n",
      "I would like to own a Revault car.\n",
      "I would like to own a Range Rover car.\n"
     ]
    }
   ],
   "source": [
    "cars = ['Audi', 'Revault', 'Range Rover']\n",
    "msg = 'I would like to own a {} car.'\n",
    "\n",
    "print(msg.format(cars[0]))\n",
    "print(msg.format(cars[1]))\n",
    "print(msg.format(cars[2]))"
   ]
  },
  {
   "cell_type": "markdown",
   "metadata": {},
   "source": [
    "## 2. Changing Adding and Removing Elements"
   ]
  },
  {
   "cell_type": "markdown",
   "metadata": {},
   "source": [
    "### 3-4. Guest List: \n",
    "\n",
    "If you could invite anyone, living or deceased, to dinner, who would you invite? Make a list that includes at least three people you’d like to invite to dinner. Then use your list to print a message to each person, inviting them to dinner."
   ]
  },
  {
   "cell_type": "code",
   "execution_count": 13,
   "metadata": {},
   "outputs": [
    {
     "name": "stdout",
     "output_type": "stream",
     "text": [
      "Yaseen. You are invited for dinner at 8 pm\n",
      "Osman. You are invited for dinner at 8 pm\n",
      "Ertugrul. You are invited for dinner at 8 pm\n"
     ]
    }
   ],
   "source": [
    "invitation = ['Yaseen', 'Osman', 'Ertugrul']\n",
    "msg = '. You are invited for dinner at 8 pm'\n",
    "\n",
    "print(invitation[0] + msg)\n",
    "print(invitation[1] + msg)\n",
    "print(invitation[2] + msg)"
   ]
  },
  {
   "cell_type": "markdown",
   "metadata": {},
   "source": [
    "### 3-5. Changing Guest List: \n",
    "\n",
    "* You just heard that one of your guests can’t make the dinner, so you need to send out a new set of invitations. You’ll have to think of someone else to invite.\n",
    "\n",
    "\n",
    "* Start with your program from Exercise 3-4. Add a print() call at the end of your program stating the name of the guest who can’t make it.\n",
    "\n",
    "\n",
    "* Modify your list, replacing the name of the guest who can’t make it with the name of the new person you are inviting.\n",
    "\n",
    "\n",
    "* Print a second set of invitation messages, one for each person who is still in your list.\n"
   ]
  },
  {
   "cell_type": "code",
   "execution_count": 18,
   "metadata": {},
   "outputs": [
    {
     "name": "stdout",
     "output_type": "stream",
     "text": [
      "Guests who cant come.\n",
      "Osman, can not come tonight.\n",
      "\n",
      "Yaseen. You are invited for dinner at 8 pm\n",
      "Gonduz. You are invited for dinner at 8 pm\n",
      "Ertugrul. You are invited for dinner at 8 pm\n"
     ]
    }
   ],
   "source": [
    "invitation = ['Yaseen', 'Osman', 'Ertugrul']\n",
    "msg = '. You are invited for dinner at 8 pm'\n",
    "cant_come = ', can not come tonight.'\n",
    "\n",
    "print('Guests who cant come.')\n",
    "print(invitation[1] + cant_come)\n",
    "print()\n",
    "\n",
    "invitation[1] = 'Gonduz'\n",
    "\n",
    "print(invitation[0] + msg)\n",
    "print(invitation[1] + msg)\n",
    "print(invitation[2] + msg)"
   ]
  },
  {
   "cell_type": "markdown",
   "metadata": {},
   "source": [
    "### 3-6. More Guests: \n",
    "\n",
    "You just found a bigger dinner table, so now more space is available. Think of three more guests to invite to dinner.\n",
    "\n",
    "\n",
    "* Start with your program from Exercise 3-4 or Exercise 3-5. Add a print() call to the end of your program informing people that you found a bigger dinner table.\n",
    "\n",
    "\n",
    "* Use insert() to add one new guest to the beginning of your list.\n",
    "\n",
    "\n",
    "* Use insert() to add one new guest to the middle of your list.\n",
    "\n",
    "\n",
    "* Use append() to add one new guest to the end of your list.\n",
    "\n",
    "\n",
    "* Print a new set of invitation messages, one for each person in your list."
   ]
  },
  {
   "cell_type": "code",
   "execution_count": 23,
   "metadata": {},
   "outputs": [
    {
     "name": "stdout",
     "output_type": "stream",
     "text": [
      "Found a big table:\n",
      "\n",
      "Ali. You are invited for dinner at 8 pm\n",
      "Yaseen. You are invited for dinner at 8 pm\n",
      "Gonduz. You are invited for dinner at 8 pm\n",
      "Yousuf. You are invited for dinner at 8 pm\n",
      "Ahmed. You are invited for dinner at 8 pm\n",
      "Ertugrul. You are invited for dinner at 8 pm\n"
     ]
    }
   ],
   "source": [
    "invitation = ['Yaseen', 'Osman', 'Ertugrul']\n",
    "msg = '. You are invited for dinner at 8 pm'\n",
    "\n",
    "invitation[1] = 'Gonduz'\n",
    "\n",
    "print('Found a big table:')\n",
    "print()\n",
    "invitation.insert(0, 'Ali')\n",
    "invitation.insert(3, 'Yousuf')\n",
    "invitation.insert(-1, 'Ahmed')\n",
    "\n",
    "print(invitation[0] + msg)\n",
    "print(invitation[1] + msg)\n",
    "print(invitation[2] + msg)\n",
    "print(invitation[3] + msg)\n",
    "print(invitation[4] + msg)\n",
    "print(invitation[5] + msg)"
   ]
  },
  {
   "cell_type": "markdown",
   "metadata": {},
   "source": [
    "### 3-7. Shrinking Guest List:\n",
    "\n",
    "\n",
    "* You just found out that your new dinner table won’t arrive in time for the dinner, and you have space for only two guests.\n",
    "\n",
    "\n",
    "* Start with your program from Exercise 3-6. Add a new line that prints a message saying that you can invite only two people for dinner.\n",
    "\n",
    "\n",
    "* Use pop() to remove guests from your list one at a time until only two names remain in your list. Each time you pop a name from your list, print a message to that person letting them know you’re sorry you can’t invite them to dinner.\n",
    "\n",
    "\n",
    "* Print a message to each of the two people still on your list, letting them know they’re still invited.\n",
    "\n",
    "\n",
    "* Use del to remove the last two names from your list, so you have an empty list. Print your list to make sure you actually have an empty list at the end of your program."
   ]
  },
  {
   "cell_type": "code",
   "execution_count": 38,
   "metadata": {},
   "outputs": [
    {
     "name": "stdout",
     "output_type": "stream",
     "text": [
      "Ertugrul you’re sorry you can’t invite them to dinner.\n",
      "\n",
      "Space only for two:\n",
      "Yaseen. You are still invited at 8 pm.\n",
      "Osman. You are still invited at 8 pm.\n",
      "[]\n"
     ]
    }
   ],
   "source": [
    "invitation = ['Yaseen', 'Osman', 'Ertugrul']\n",
    "msg = '. You are still invited at 8 pm.'\n",
    "\n",
    "print(invitation.pop(), 'you’re sorry you can’t invite them to dinner.')\n",
    "\n",
    "print()\n",
    "print('Space only for two:')\n",
    "\n",
    "print(invitation[0] + msg)\n",
    "print(invitation[1] + msg)\n",
    "\n",
    "del invitation[:2]\n",
    "\n",
    "print(invitation)"
   ]
  },
  {
   "cell_type": "markdown",
   "metadata": {},
   "source": [
    "## 3. Organizing a List"
   ]
  },
  {
   "cell_type": "markdown",
   "metadata": {},
   "source": [
    "### 3-8. Seeing the World: \n",
    "\n",
    "Think of at least five places in the world you’d like to visit.\n",
    "\n",
    "\n",
    "* Store the locations in a list. Make sure the list is not in alphabetical order.\n",
    "\n",
    "\n",
    "* Print your list in its original order. Don’t worry about printing the list neatly, just print it as a raw Python list.\n",
    "\n",
    "\n",
    "* Use sorted() to print your list in alphabetical order without modifying the actual list.\n",
    "\n",
    "\n",
    "* Show that your list is still in its original order by printing it.\n",
    "\n",
    "\n",
    "* Use sorted() to print your list in reverse alphabetical order without changing the order of the original list.\n",
    "\n",
    "\n",
    "* Show that your list is still in its original order by printing it again.\n",
    "\n",
    "\n",
    "* Use reverse() to change the order of your list. Print the list to show that its order has changed.\n",
    "\n",
    "\n",
    "* Use reverse() to change the order of your list again. Print the list to show it’s back to its original order.\n",
    "\n",
    "\n",
    "* Use sort() to change your list so it’s stored in alphabetical order. Print the list to show that its order has been changed.\n",
    "\n",
    "\n",
    "* Use sort() to change your list so it’s stored in reverse alphabetical order. Print the list to show that its order has changed."
   ]
  },
  {
   "cell_type": "code",
   "execution_count": 44,
   "metadata": {},
   "outputs": [
    {
     "name": "stdout",
     "output_type": "stream",
     "text": [
      "['Istanbul', 'Izmir', 'Konya', 'Bursa', 'Guzel koy']\n"
     ]
    }
   ],
   "source": [
    "place = ['Istanbul', 'Izmir', 'Konya', 'Bursa', 'Guzel koy']\n",
    "print(place)"
   ]
  },
  {
   "cell_type": "code",
   "execution_count": 46,
   "metadata": {},
   "outputs": [
    {
     "name": "stdout",
     "output_type": "stream",
     "text": [
      "Reverse List\n",
      "['Istanbul', 'Izmir', 'Konya', 'Bursa', 'Guzel koy']\n"
     ]
    }
   ],
   "source": [
    "print('Reverse List')\n",
    "place.reverse()\n",
    "print(place)"
   ]
  },
  {
   "cell_type": "code",
   "execution_count": 47,
   "metadata": {},
   "outputs": [
    {
     "name": "stdout",
     "output_type": "stream",
     "text": [
      "Reverse List Again\n",
      "['Guzel koy', 'Bursa', 'Konya', 'Izmir', 'Istanbul']\n"
     ]
    }
   ],
   "source": [
    "print('Reverse List Again')\n",
    "place.reverse()\n",
    "print(place)"
   ]
  },
  {
   "cell_type": "code",
   "execution_count": 48,
   "metadata": {},
   "outputs": [
    {
     "name": "stdout",
     "output_type": "stream",
     "text": [
      "Sorted Order List\n",
      "['Bursa', 'Guzel koy', 'Istanbul', 'Izmir', 'Konya']\n"
     ]
    }
   ],
   "source": [
    "print('Sorted Order List')\n",
    "place.sort()\n",
    "print(place)"
   ]
  },
  {
   "cell_type": "code",
   "execution_count": 51,
   "metadata": {},
   "outputs": [
    {
     "name": "stdout",
     "output_type": "stream",
     "text": [
      "Revese Sorted Order List\n",
      "['Konya', 'Izmir', 'Istanbul', 'Guzel koy', 'Bursa']\n"
     ]
    }
   ],
   "source": [
    "print('Revese Sorted Order List')\n",
    "place.sort(reverse=True)\n",
    "print(place)"
   ]
  },
  {
   "cell_type": "markdown",
   "metadata": {},
   "source": [
    "### 3-9. Dinner Guests:\n",
    "\n",
    "Working with one of the programs from Exercises 3-4 through 3-7 (page 42), use len() to print a message indicating the number of people you are inviting to dinner."
   ]
  },
  {
   "cell_type": "code",
   "execution_count": 52,
   "metadata": {},
   "outputs": [
    {
     "name": "stdout",
     "output_type": "stream",
     "text": [
      "3 has been invited.\n"
     ]
    }
   ],
   "source": [
    "invitation = ['Yaseen', 'Osman', 'Ertugrul']\n",
    "msg = '{} has been invited.'\n",
    "\n",
    "print(msg.format(len(invitation)))"
   ]
  },
  {
   "cell_type": "markdown",
   "metadata": {},
   "source": [
    "### 3-10. Every Function: \n",
    "\n",
    "Think of something you could store in a list. For example,you could make a list of mountains, rivers, countries, cities, languages, or anything else you’d like. Write a program that creates a list containing these items and then uses each function introduced in this chapter at least once."
   ]
  },
  {
   "cell_type": "code",
   "execution_count": 53,
   "metadata": {},
   "outputs": [
    {
     "name": "stdout",
     "output_type": "stream",
     "text": [
      "['Turkey', 'Iran', 'Pakistan', 'China', 'Russia']\n"
     ]
    }
   ],
   "source": [
    "countries = ['Turkey', 'Iran', 'Pakistan', 'China']\n",
    "countries.append('Russia')\n",
    "print(countries)"
   ]
  },
  {
   "cell_type": "code",
   "execution_count": 54,
   "metadata": {},
   "outputs": [
    {
     "name": "stdout",
     "output_type": "stream",
     "text": [
      "['Mount Everest', 'Himaliaya']\n"
     ]
    }
   ],
   "source": [
    "mountains = ['K2', 'Mount Everest', 'Himaliaya']\n",
    "mountains.remove('K2')\n",
    "print(mountains)"
   ]
  },
  {
   "cell_type": "code",
   "execution_count": 57,
   "metadata": {},
   "outputs": [
    {
     "name": "stdout",
     "output_type": "stream",
     "text": [
      "['Furat', 'Nile']\n"
     ]
    }
   ],
   "source": [
    "rivers = ['Furat', 'Nile', 'Amazon river']\n",
    "rivers.pop()\n",
    "print(rivers)"
   ]
  },
  {
   "cell_type": "markdown",
   "metadata": {},
   "source": [
    "### 3-11. Intentional Error: \n",
    "\n",
    "If you haven’t received an index error in one of your programs yet, try to make one happen. Change an index in one of your programs to produce an index error. Make sure you correct the error before closing the program."
   ]
  },
  {
   "cell_type": "code",
   "execution_count": 2,
   "metadata": {},
   "outputs": [
    {
     "name": "stdout",
     "output_type": "stream",
     "text": [
      "['list1', 'list2', 'list3']\n"
     ]
    }
   ],
   "source": [
    "alist = ['list1', 'list2', 'list3']\n",
    "\n",
    "# alist[4] # Getting error, beacause index 4 does not exist.\n",
    "\n",
    "print(alist)"
   ]
  },
  {
   "cell_type": "code",
   "execution_count": null,
   "metadata": {},
   "outputs": [],
   "source": []
  }
 ],
 "metadata": {
  "kernelspec": {
   "display_name": "Python 3",
   "language": "python",
   "name": "python3"
  },
  "language_info": {
   "codemirror_mode": {
    "name": "ipython",
    "version": 3
   },
   "file_extension": ".py",
   "mimetype": "text/x-python",
   "name": "python",
   "nbconvert_exporter": "python",
   "pygments_lexer": "ipython3",
   "version": "3.7.9"
  }
 },
 "nbformat": 4,
 "nbformat_minor": 4
}
