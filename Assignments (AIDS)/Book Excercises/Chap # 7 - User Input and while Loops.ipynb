{
 "cells": [
  {
   "cell_type": "markdown",
   "metadata": {},
   "source": [
    "# CHAPTER NO 1 - User Input and while Loops\n",
    "\n",
    "### Book: Python Crash Course By ERIC MATTHES"
   ]
  },
  {
   "cell_type": "markdown",
   "metadata": {},
   "source": [
    "### 7-1. Rental Car: \n",
    "\n",
    "Write a program that asks the user what kind of rental car they would like. Print a message about that car, such as “Let me see if I can find you\n",
    "a Subaru.”"
   ]
  },
  {
   "cell_type": "code",
   "execution_count": 2,
   "metadata": {},
   "outputs": [
    {
     "name": "stdout",
     "output_type": "stream",
     "text": [
      "What kind of car you would like? Range Rover\n",
      "\n",
      "Let me see if I can find you a Range Rover.\n"
     ]
    }
   ],
   "source": [
    "car = input('What kind of car you would like? ')\n",
    "print(f'\\nLet me see if I can find you a {car}.')"
   ]
  },
  {
   "cell_type": "markdown",
   "metadata": {},
   "source": [
    "### 7-2. Restaurant Seating: \n",
    "    \n",
    "Write a program that asks the user how many people are in their dinner group. If the answer is more than eight, print a message saying they’ll have to wait for a table. Otherwise, report that their table is ready."
   ]
  },
  {
   "cell_type": "code",
   "execution_count": 6,
   "metadata": {},
   "outputs": [
    {
     "name": "stdout",
     "output_type": "stream",
     "text": [
      "how many people are in your dinner group? 9\n",
      "\n",
      "You’ll have to wait for a table.\n"
     ]
    }
   ],
   "source": [
    "no = int(input('how many people are in your dinner group? '))\n",
    "\n",
    "if no > 8: print('\\nYou’ll have to wait for a table.')\n",
    "else: print('\\nYour table is ready.')"
   ]
  },
  {
   "cell_type": "markdown",
   "metadata": {},
   "source": [
    "### 7-3. Multiples of Ten: \n",
    "    \n",
    "Ask the user for a number, and then report whether the number is a multiple of 10 or not."
   ]
  },
  {
   "cell_type": "code",
   "execution_count": 8,
   "metadata": {},
   "outputs": [
    {
     "name": "stdout",
     "output_type": "stream",
     "text": [
      "Enter a number: 50\n",
      "\n",
      "The number is a multiple of 10.\n"
     ]
    }
   ],
   "source": [
    "no = int(input('Enter a number: '))\n",
    "\n",
    "if no%10 == 0: print('\\nThe number is a multiple of 10.')\n",
    "else: print('\\nThe number is not a multiple of 10.')"
   ]
  },
  {
   "cell_type": "markdown",
   "metadata": {},
   "source": [
    "### 7-4. Pizza Toppings: \n",
    "    \n",
    "Write a loop that prompts the user to enter a series of pizza toppings until they enter a 'quit' value. As they enter each topping,\n",
    "`print` a message saying you’ll add that topping to their pizza.\n",
    "\n"
   ]
  },
  {
   "cell_type": "code",
   "execution_count": 13,
   "metadata": {},
   "outputs": [
    {
     "name": "stdout",
     "output_type": "stream",
     "text": [
      "Enter a series of pizza tropping or \"quit\" for exit:  mushroom\n",
      "You ’ll add mushroom topping to their pizza.\n",
      "\n",
      "Enter a series of pizza tropping or \"quit\" for exit:  chesse\n",
      "You ’ll add chesse topping to their pizza.\n",
      "\n",
      "Enter a series of pizza tropping or \"quit\" for exit:  q\n"
     ]
    }
   ],
   "source": [
    "while True:\n",
    "    trop = input('Enter a series of pizza tropping or \"quit\" for exit:  ')\n",
    "    \n",
    "    if trop.lower() == 'quit' or trop == 'q':\n",
    "        break\n",
    "    else:\n",
    "        print(f'You ’ll add {trop} topping to their pizza.\\n')"
   ]
  },
  {
   "cell_type": "markdown",
   "metadata": {},
   "source": [
    "### 7-5. Movie Tickets: \n",
    "    \n",
    "A movie theater charges different ticket prices depending on a person’s age. If a person is under the age of 3, the ticket is free; if they are\n",
    "between 3 and 12, the ticket is 10 dollar; and if they are over age 12, the ticket is\n",
    "$15. Write a loop in which you ask users their age, and then tell them the cost\n",
    "of their movie ticket."
   ]
  },
  {
   "cell_type": "code",
   "execution_count": 19,
   "metadata": {},
   "outputs": [
    {
     "name": "stdout",
     "output_type": "stream",
     "text": [
      "Enter a your age: 4\n",
      "the cost of your movie ticket is 10 dollars.\n"
     ]
    }
   ],
   "source": [
    "age = int(input('Enter a your age: '))\n",
    "   \n",
    "cost = 0\n",
    "\n",
    "if age > 3 and age < 12: cost = 10\n",
    "elif age > 12: cost = 15\n",
    "        \n",
    "print(f'the cost of your movie ticket is {cost} dollars.')\n",
    "    "
   ]
  },
  {
   "cell_type": "markdown",
   "metadata": {},
   "source": [
    "### 7-6. Three Exits: \n",
    "    \n",
    "Write different versions of either Exercise 7-4 or Exercise 7-5 that do each of the following at least once:\n",
    "    \n",
    "    \n",
    "* Use a conditional test in the while statement to stop the loop.\n",
    "\n",
    "\n",
    "* Use an active variable to control how long the loop runs.\n",
    "\n",
    "\n",
    "* Use a break statement to exit the loop when the user enters a 'quit' value.\n"
   ]
  },
  {
   "cell_type": "code",
   "execution_count": 20,
   "metadata": {},
   "outputs": [
    {
     "name": "stdout",
     "output_type": "stream",
     "text": [
      "Enter a series of pizza tropping or \"quit\" for exit:  mushrooms\n",
      "You ’ll add mushrooms topping to their pizza.\n",
      "\n",
      "Enter a series of pizza tropping or \"quit\" for exit:  q\n"
     ]
    }
   ],
   "source": [
    "while True:\n",
    "    trop = input('Enter a series of pizza tropping or \"quit\" for exit:  ')\n",
    "    \n",
    "    if trop.lower() == 'quit' or trop == 'q':\n",
    "        break\n",
    "    else:\n",
    "        print(f'You ’ll add {trop} topping to their pizza.\\n')"
   ]
  },
  {
   "cell_type": "markdown",
   "metadata": {},
   "source": [
    "### 7-7. Infinity: \n",
    "\n",
    "Write a loop that never ends, and run it. (To end the loop, press ctrl-C or close the window displaying the output.)"
   ]
  },
  {
   "cell_type": "code",
   "execution_count": 22,
   "metadata": {},
   "outputs": [],
   "source": [
    "# while True: pass"
   ]
  },
  {
   "cell_type": "markdown",
   "metadata": {},
   "source": [
    "### 7-8. Deli: \n",
    "\n",
    "Make a list called sandwich_orders and fill it with the names of various sandwiches. Then make an empty list called finished_sandwiches. Loop\n",
    "through the list of sandwich orders and print a message for each order, such as I made your tuna sandwich. As each sandwich is made, move it to the list\n",
    "of finished sandwiches. After all the sandwiches have been made, print a\n",
    "message listing each sandwich that was made."
   ]
  },
  {
   "cell_type": "code",
   "execution_count": 25,
   "metadata": {},
   "outputs": [
    {
     "name": "stdout",
     "output_type": "stream",
     "text": [
      "I made your Chicken Sandwich sandwich\n",
      "I made your Club Sandwich sandwich\n",
      "I made your Subway Sandwich sandwich\n",
      "\n",
      "Chicken Sandwich has been made.\n",
      "Club Sandwich has been made.\n",
      "Subway Sandwich has been made.\n"
     ]
    }
   ],
   "source": [
    "sandwich_orders = ['Chicken Sandwich', 'Club Sandwich', 'Subway Sandwich']\n",
    "\n",
    "finished_sandwiches = []\n",
    "\n",
    "\n",
    "for sw in sandwich_orders:\n",
    "    print(f'I made your {sw} sandwich')\n",
    "    finished_sandwiches.append(sw)\n",
    "    \n",
    "print('')\n",
    "\n",
    "\n",
    "for sw in sandwich_orders:\n",
    "    print(f'{sw} has been made.')"
   ]
  },
  {
   "cell_type": "markdown",
   "metadata": {},
   "source": [
    "### 7-9. No Pastrami: \n",
    "    \n",
    "Using the list sandwich_orders from Exercise 7-8, make sure the sandwich 'pastrami' appears in the list at least three times. Add code near the beginning of your program to print a message saying the deli has run out of pastrami, and then use a while loop to remove all occurrences of 'pastrami' from sandwich_orders. Make sure no pastrami sandwiches end up in finished_sandwiches.\n"
   ]
  },
  {
   "cell_type": "code",
   "execution_count": 26,
   "metadata": {},
   "outputs": [
    {
     "name": "stdout",
     "output_type": "stream",
     "text": [
      "The deli has run out of pastrami\n",
      "\n",
      "I made your Chicken Sandwich sandwich\n",
      "I made your Club Sandwich sandwich\n",
      "I made your Subway Sandwich sandwich\n",
      "\n",
      "Chicken Sandwich has been made.\n",
      "Club Sandwich has been made.\n",
      "Subway Sandwich has been made.\n"
     ]
    }
   ],
   "source": [
    "sandwich_orders = ['Pastrami Sandwich', 'Chicken Sandwich', 'Pastrami Sandwich', 'Club Sandwich', 'Subway Sandwich', 'Pastrami Sandwich']\n",
    "\n",
    "finished_sandwiches = []\n",
    "\n",
    "print('The deli has run out of pastrami\\n')\n",
    "\n",
    "while True:\n",
    "    if 'Pastrami Sandwich' not in sandwich_orders:\n",
    "        break\n",
    "    sandwich_orders.remove('Pastrami Sandwich')\n",
    "        \n",
    "for sw in sandwich_orders:\n",
    "    print(f'I made your {sw} sandwich')\n",
    "    finished_sandwiches.append(sw)\n",
    "    \n",
    "print('')\n",
    "\n",
    "\n",
    "for sw in sandwich_orders:\n",
    "    print(f'{sw} has been made.')"
   ]
  },
  {
   "cell_type": "markdown",
   "metadata": {},
   "source": [
    "### 7-10. Dream Vacation: \n",
    "\n",
    "Write a program that polls users about their dream vacation. Write a prompt similar to If you could visit one place in the world, where would you go? Include a block of code that prints the results of the poll."
   ]
  },
  {
   "cell_type": "code",
   "execution_count": 30,
   "metadata": {},
   "outputs": [
    {
     "name": "stdout",
     "output_type": "stream",
     "text": [
      "If you could visit one place in the world, where would you go?Turkey\n",
      "\n",
      "Users wants to go Turkey\n"
     ]
    }
   ],
   "source": [
    "res = input('If you could visit one place in the world, where would you go?')\n",
    "\n",
    "print(f'\\nUsers wants to go {res}')"
   ]
  }
 ],
 "metadata": {
  "kernelspec": {
   "display_name": "Python 3",
   "language": "python",
   "name": "python3"
  },
  "language_info": {
   "codemirror_mode": {
    "name": "ipython",
    "version": 3
   },
   "file_extension": ".py",
   "mimetype": "text/x-python",
   "name": "python",
   "nbconvert_exporter": "python",
   "pygments_lexer": "ipython3",
   "version": "3.8.5"
  }
 },
 "nbformat": 4,
 "nbformat_minor": 4
}
