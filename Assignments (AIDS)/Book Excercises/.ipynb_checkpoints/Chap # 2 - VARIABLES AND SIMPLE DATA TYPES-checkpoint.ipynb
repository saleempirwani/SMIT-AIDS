{
 "cells": [
  {
   "cell_type": "markdown",
   "metadata": {},
   "source": [
    "# CHAPTER NO 2 - VARIABLES AND SIMPLE DATA TYPES\n",
    "\n",
    "### Book: Python Crash Course By ERIC MATTHES"
   ]
  },
  {
   "cell_type": "markdown",
   "metadata": {},
   "source": [
    "## 1. Variables"
   ]
  },
  {
   "cell_type": "markdown",
   "metadata": {},
   "source": [
    "### 2-1. Simple Message: \n",
    "    \n",
    "`Assign a message to a variable, and then print that message`"
   ]
  },
  {
   "cell_type": "code",
   "execution_count": 1,
   "metadata": {},
   "outputs": [],
   "source": [
    "msg = \"Keep your friends close, but your enemies closer.\""
   ]
  },
  {
   "cell_type": "code",
   "execution_count": 2,
   "metadata": {},
   "outputs": [
    {
     "name": "stdout",
     "output_type": "stream",
     "text": [
      "Message: Keep your friends close, but your enemies closer.\n"
     ]
    }
   ],
   "source": [
    "print(\"Message:\", msg)"
   ]
  },
  {
   "cell_type": "markdown",
   "metadata": {},
   "source": [
    "### 2-2. Simple Messages: \n",
    "`Assign a message to a variable, and print that message. Then change the value of the variable to a new message, and print the new message.`"
   ]
  },
  {
   "cell_type": "code",
   "execution_count": 3,
   "metadata": {},
   "outputs": [],
   "source": [
    "msg = \"Revenge is a dish best served cold.\""
   ]
  },
  {
   "cell_type": "code",
   "execution_count": 4,
   "metadata": {},
   "outputs": [
    {
     "name": "stdout",
     "output_type": "stream",
     "text": [
      "Message: Revenge is a dish best served cold.\n"
     ]
    }
   ],
   "source": [
    "print(\"Message:\", msg)"
   ]
  },
  {
   "cell_type": "code",
   "execution_count": 5,
   "metadata": {},
   "outputs": [],
   "source": [
    "msg = \"I respect those that tell me the truth, no matter how hard it is.\""
   ]
  },
  {
   "cell_type": "code",
   "execution_count": 6,
   "metadata": {},
   "outputs": [
    {
     "name": "stdout",
     "output_type": "stream",
     "text": [
      "Message: I respect those that tell me the truth, no matter how hard it is.\n"
     ]
    }
   ],
   "source": [
    "print(\"Message:\", msg)"
   ]
  },
  {
   "cell_type": "markdown",
   "metadata": {},
   "source": [
    "## 2. Strings"
   ]
  },
  {
   "cell_type": "markdown",
   "metadata": {},
   "source": [
    "### 2-3. Personal Message: \n",
    "`Use a variable to represent a person’s name, and print a message to that person. Your message should be simple, such as, “Hello Eric, would you like to learn some Python today?”`"
   ]
  },
  {
   "cell_type": "code",
   "execution_count": 7,
   "metadata": {},
   "outputs": [
    {
     "name": "stdout",
     "output_type": "stream",
     "text": [
      "Hello Ahmed, would you like to learn some Python today?\n"
     ]
    }
   ],
   "source": [
    "name = 'Ahmed'\n",
    "msg = f'Hello {name}, would you like to learn some Python today?'\n",
    "\n",
    "print(msg)"
   ]
  },
  {
   "cell_type": "markdown",
   "metadata": {},
   "source": [
    "### 2-4. Name Cases: \n",
    "`Use a variable to represent a person’s name, and then print that person’s name in lowercase, uppercase, and title case.`"
   ]
  },
  {
   "cell_type": "code",
   "execution_count": 8,
   "metadata": {},
   "outputs": [
    {
     "name": "stdout",
     "output_type": "stream",
     "text": [
      "Lower case: hassan efendi\n",
      "Upper case: HASSAN EFENDI\n",
      "Title case: Hassan Efendi\n"
     ]
    }
   ],
   "source": [
    "name = 'Hassan Efendi'\n",
    "\n",
    "print('Lower case:', name.lower())\n",
    "print('Upper case:', name.upper())\n",
    "print('Title case:', name.title())"
   ]
  },
  {
   "cell_type": "markdown",
   "metadata": {},
   "source": [
    "### 2-5. Famous Quote: \n",
    "`Find a quote from a famous person you admire. Print the quote and the name of its author. Your output should look something like the following, including the quotation marks:`\n",
    "\n",
    "`Albert Einstein once said, “A person who never made a mistake never tried anything new.”`"
   ]
  },
  {
   "cell_type": "code",
   "execution_count": 9,
   "metadata": {},
   "outputs": [
    {
     "name": "stdout",
     "output_type": "stream",
     "text": [
      "Yunus Emre said once, \"I am the drop that contains the ocean.\"\n"
     ]
    }
   ],
   "source": [
    "person = 'Yunus Emre'\n",
    "qoute = 'I am the drop that contains the ocean'\n",
    "\n",
    "combine = f'{person} once said, \"{qoute}\"'\n",
    "\n",
    "print('Yunus Emre', 'said once,', '\"I am the drop that contains the ocean.\"')"
   ]
  },
  {
   "cell_type": "markdown",
   "metadata": {},
   "source": [
    "### 2-6. Famous Quote 2: \n",
    "`Repeat Exercise 2-5, but this time, represent the famous person’s name using a variable called famous_person. Then compose your message and represent it with a new variable called message. Print your message.`"
   ]
  },
  {
   "cell_type": "code",
   "execution_count": 10,
   "metadata": {},
   "outputs": [
    {
     "name": "stdout",
     "output_type": "stream",
     "text": [
      "Yunus Emre once said, \"I am the drop that contains the ocean\"\n"
     ]
    }
   ],
   "source": [
    "famous_person = 'Yunus Emre'\n",
    "qoute = 'I am the drop that contains the ocean'\n",
    "\n",
    "message = f'{famous_person} once said, \"{qoute}\"'\n",
    "\n",
    "print(message)"
   ]
  },
  {
   "cell_type": "markdown",
   "metadata": {},
   "source": [
    "### 2-7. Stripping Names: \n",
    "`Use a variable to represent a person’s name, and include some whitespace characters at the beginning and end of the name. Make sure you use each character combination, \"\\t\" and \"\\n\", at least once.`\n",
    "\n",
    "`Print the name once, so the whitespace around the name is displayed. Then print the name using each of the three stripping functions, lstrip(),\n",
    "rstrip(), and strip().`"
   ]
  },
  {
   "cell_type": "code",
   "execution_count": 11,
   "metadata": {},
   "outputs": [],
   "source": [
    "person_name = '  \\tLutfu ozdemir  \\n'"
   ]
  },
  {
   "cell_type": "code",
   "execution_count": 12,
   "metadata": {},
   "outputs": [
    {
     "name": "stdout",
     "output_type": "stream",
     "text": [
      "With whitespaces\n",
      "  \tLutfu ozdemir  \n",
      "\n"
     ]
    }
   ],
   "source": [
    "print('With whitespaces')\n",
    "print(person_name)"
   ]
  },
  {
   "cell_type": "code",
   "execution_count": 13,
   "metadata": {},
   "outputs": [
    {
     "name": "stdout",
     "output_type": "stream",
     "text": [
      "With lstrip()\n",
      "Lutfu ozdemir  \n",
      "\n"
     ]
    }
   ],
   "source": [
    "print('With lstrip()')\n",
    "print(person_name.lstrip())"
   ]
  },
  {
   "cell_type": "code",
   "execution_count": 14,
   "metadata": {},
   "outputs": [
    {
     "name": "stdout",
     "output_type": "stream",
     "text": [
      "With rstrip()\n",
      "  \tLutfu ozdemir\n"
     ]
    }
   ],
   "source": [
    "print('With rstrip()')\n",
    "print(person_name.rstrip())"
   ]
  },
  {
   "cell_type": "code",
   "execution_count": 15,
   "metadata": {},
   "outputs": [
    {
     "name": "stdout",
     "output_type": "stream",
     "text": [
      "With strip()\n",
      "Lutfu ozdemir\n"
     ]
    }
   ],
   "source": [
    "print('With strip()')\n",
    "print(person_name.strip())"
   ]
  },
  {
   "cell_type": "markdown",
   "metadata": {},
   "source": [
    "## 3. Numbers"
   ]
  },
  {
   "cell_type": "markdown",
   "metadata": {},
   "source": [
    "### 2-8. Number Eight: \n",
    "`Write addition, subtraction, multiplication, and division operations that each result in the number 8. Be sure to enclose your operations in print() calls to see the results. You should create four lines that look like this:`\n",
    "\n",
    "`print(5+3)`\n",
    "\n",
    "`Your output should simply be four lines with the number 8 appearing once on each line.`"
   ]
  },
  {
   "cell_type": "code",
   "execution_count": 16,
   "metadata": {},
   "outputs": [
    {
     "name": "stdout",
     "output_type": "stream",
     "text": [
      "8\n",
      "8\n",
      "8\n",
      "8\n"
     ]
    }
   ],
   "source": [
    "print(5+3)\n",
    "print(2*4)\n",
    "print(12-4)\n",
    "print(16//2)"
   ]
  },
  {
   "cell_type": "markdown",
   "metadata": {},
   "source": [
    "### 2-9. Favorite Number: \n",
    "`Use a variable to represent your favorite number. Then, using that variable, create a message that reveals your favorite number. Print that message.`"
   ]
  },
  {
   "cell_type": "markdown",
   "metadata": {},
   "source": [
    "## 4. Comments"
   ]
  },
  {
   "cell_type": "markdown",
   "metadata": {},
   "source": [
    "### 2-10. Adding Comments: \n",
    "`Choose two of the programs you’ve written, and add at least one comment to each. If you don’t have anything specific to write because your programs are too simple at this point, just add your name and the current date at the top of each program file. Then write one sentence describing what the program does.`"
   ]
  },
  {
   "cell_type": "code",
   "execution_count": 17,
   "metadata": {},
   "outputs": [
    {
     "name": "stdout",
     "output_type": "stream",
     "text": [
      "9\n"
     ]
    }
   ],
   "source": [
    "print(6+3) # calculating addition."
   ]
  },
  {
   "cell_type": "markdown",
   "metadata": {},
   "source": [
    "### 2-11. Zen of Python: \n",
    "`Enter import this into a Python terminal session and skim through the additional principles.`"
   ]
  },
  {
   "cell_type": "code",
   "execution_count": 18,
   "metadata": {},
   "outputs": [
    {
     "name": "stdout",
     "output_type": "stream",
     "text": [
      "The Zen of Python, by Tim Peters\n",
      "\n",
      "Beautiful is better than ugly.\n",
      "Explicit is better than implicit.\n",
      "Simple is better than complex.\n",
      "Complex is better than complicated.\n",
      "Flat is better than nested.\n",
      "Sparse is better than dense.\n",
      "Readability counts.\n",
      "Special cases aren't special enough to break the rules.\n",
      "Although practicality beats purity.\n",
      "Errors should never pass silently.\n",
      "Unless explicitly silenced.\n",
      "In the face of ambiguity, refuse the temptation to guess.\n",
      "There should be one-- and preferably only one --obvious way to do it.\n",
      "Although that way may not be obvious at first unless you're Dutch.\n",
      "Now is better than never.\n",
      "Although never is often better than *right* now.\n",
      "If the implementation is hard to explain, it's a bad idea.\n",
      "If the implementation is easy to explain, it may be a good idea.\n",
      "Namespaces are one honking great idea -- let's do more of those!\n"
     ]
    }
   ],
   "source": [
    "import this"
   ]
  }
 ],
 "metadata": {
  "kernelspec": {
   "display_name": "Python 3",
   "language": "python",
   "name": "python3"
  },
  "language_info": {
   "codemirror_mode": {
    "name": "ipython",
    "version": 3
   },
   "file_extension": ".py",
   "mimetype": "text/x-python",
   "name": "python",
   "nbconvert_exporter": "python",
   "pygments_lexer": "ipython3",
   "version": "3.8.5"
  }
 },
 "nbformat": 4,
 "nbformat_minor": 4
}
