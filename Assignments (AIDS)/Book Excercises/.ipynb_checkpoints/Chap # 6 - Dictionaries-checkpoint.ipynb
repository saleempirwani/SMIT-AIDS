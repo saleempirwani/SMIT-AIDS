{
 "cells": [
  {
   "cell_type": "markdown",
   "metadata": {},
   "source": [
    "# CHAPTER NO 6 - Dictionaries\n",
    "\n",
    "### Book: Python Crash Course By ERIC MATTHES"
   ]
  },
  {
   "cell_type": "markdown",
   "metadata": {},
   "source": [
    "### 6-1. Person: \n",
    "\n",
    "Use a dictionary to store information about a person you know.\n",
    "Store their first name, last name, age, and the city in which they live. You\n",
    "should have keys such as first_name, last_name, age, and city. Print each\n",
    "piece of information stored in your dictionary."
   ]
  },
  {
   "cell_type": "code",
   "execution_count": 1,
   "metadata": {},
   "outputs": [
    {
     "name": "stdout",
     "output_type": "stream",
     "text": [
      "First name: Ahmed\n",
      "Last name: Hassan\n",
      "Age name: 26\n",
      "City name: Karachi\n"
     ]
    }
   ],
   "source": [
    "info = {\n",
    "    \"fname\": \"Ahmed\",\n",
    "    \"lname\": \"Hassan\",\n",
    "    \"age\": 26,\n",
    "    \"city\": \"Karachi\"\n",
    "}\n",
    "\n",
    "print(\"First name:\", info[\"fname\"])\n",
    "print(\"Last name:\", info[\"lname\"])\n",
    "print(\"Age name:\", info[\"age\"])\n",
    "print(\"City name:\", info[\"city\"])"
   ]
  },
  {
   "cell_type": "markdown",
   "metadata": {},
   "source": [
    "### 6-2. Favorite Numbers: \n",
    "    \n",
    "Use a dictionary to store people’s favorite numbers.\n",
    "Think of five names, and use them as keys in your dictionary. Think of a favorite\n",
    "number for each person, and store each as a value in your dictionary. Print\n",
    "each person’s name and their favorite number. For even more fun, poll a few\n",
    "friends and get some actual data for your program."
   ]
  },
  {
   "cell_type": "code",
   "execution_count": 2,
   "metadata": {},
   "outputs": [
    {
     "name": "stdout",
     "output_type": "stream",
     "text": [
      "Ahmed 18\n",
      "Hassan: 37\n",
      "Yousuf: 26\n",
      "Hunan: 66\n"
     ]
    }
   ],
   "source": [
    "fav_nums = {\n",
    "    \"ahmed\": 18,\n",
    "    \"hassan\": 37,\n",
    "    \"yousuf\": 26,\n",
    "    \"hunan\": 66\n",
    "}\n",
    "\n",
    "print(\"Ahmed\", fav_nums[\"ahmed\"])\n",
    "print(\"Hassan:\", fav_nums[\"hassan\"])\n",
    "print(\"Yousuf:\", fav_nums[\"yousuf\"])\n",
    "print(\"Hunan:\", fav_nums[\"hunan\"])"
   ]
  },
  {
   "cell_type": "markdown",
   "metadata": {},
   "source": [
    "### 6-3. Glossary: \n",
    "\n",
    "A Python dictionary can be used to model an actual dictionary.\n",
    "However, to avoid confusion, let’s call it a glossary.\n",
    "\n",
    "\n",
    "* Think of five programming words you’ve learned about in the previous chapters. Use these words as the keys in your glossary, and store their meanings as values.\n",
    "\n",
    "\n",
    "* Print each word and its meaning as neatly formatted output. You might print the word followed by a colon and then its meaning, or print the word on one line and then print its meaning indented on a second line. Use the newline character `(\\n)` to insert a blank line between each word-meaning pair in your output."
   ]
  },
  {
   "cell_type": "code",
   "execution_count": 3,
   "metadata": {},
   "outputs": [
    {
     "name": "stdout",
     "output_type": "stream",
     "text": [
      "for: for loop iteration \n",
      "while: for while loop iteration \n",
      "not: for negation condition \n",
      "if: if condition \n",
      "in: check condition\n"
     ]
    }
   ],
   "source": [
    "glossary = {\n",
    "    \"for\": \"for loop iteration\",\n",
    "    \"while\": \"for while loop iteration\",\n",
    "    \"not\": \"for negation condition\",\n",
    "    \"if\": \"if condition\",\n",
    "    \"in\": \"check condition\"\n",
    "}\n",
    "\n",
    "\n",
    "print(\"for:\", glossary[\"for\"], \"\\nwhile:\", glossary[\"while\"], \"\\nnot:\", glossary[\"not\"],\n",
    "     \"\\nif:\", glossary[\"if\"], \"\\nin:\", glossary[\"in\"])"
   ]
  },
  {
   "cell_type": "markdown",
   "metadata": {},
   "source": [
    "### 6-4. Glossary 2: \n",
    "\n",
    "Now that you know how to loop through a dictionary, clean\n",
    "up the code from Exercise 6-3 (page 99) by replacing your series of print()\n",
    "calls with a loop that runs through the dictionary’s keys and values. When\n",
    "you’re sure that your loop works, add five more Python terms to your glossary.\n",
    "When you run your program again, these new words and meanings should\n",
    "automatically be included in the output."
   ]
  },
  {
   "cell_type": "code",
   "execution_count": 4,
   "metadata": {},
   "outputs": [
    {
     "name": "stdout",
     "output_type": "stream",
     "text": [
      "for: for loop iteration\n",
      "while: for while loop iteration\n",
      "not: for negation condition\n",
      "if: if condition\n",
      "in: check condition\n"
     ]
    }
   ],
   "source": [
    "glossary = {\n",
    "    \"for\": \"for loop iteration\",\n",
    "    \"while\": \"for while loop iteration\",\n",
    "    \"not\": \"for negation condition\",\n",
    "    \"if\": \"if condition\",\n",
    "    \"in\": \"check condition\"\n",
    "}\n",
    "\n",
    "\n",
    "for k,v in glossary.items():\n",
    "    print(f'{k}: {v}')"
   ]
  },
  {
   "cell_type": "markdown",
   "metadata": {},
   "source": [
    "### 6-5. Rivers: \n",
    "\n",
    "Make a dictionary containing three major rivers and the country each river runs through. One key-value pair might be 'nile': 'egypt'.\n",
    "\n",
    "    \n",
    "* Use a loop to print a sentence about each river, such as The Nile runs through Egypt.\n",
    "\n",
    "\n",
    "* Use a loop to print the name of each river included in the dictionary.\n",
    "\n",
    "\n",
    "* Use a loop to print the name of each country included in the dictionary."
   ]
  },
  {
   "cell_type": "code",
   "execution_count": 5,
   "metadata": {},
   "outputs": [],
   "source": [
    "rivers = {\n",
    "    \"nile\": \"Egypt\",\n",
    "    \"yangtze\": \"China\",\n",
    "    \"amazon\": \"South America\",\n",
    "}\n"
   ]
  },
  {
   "cell_type": "code",
   "execution_count": 6,
   "metadata": {},
   "outputs": [
    {
     "name": "stdout",
     "output_type": "stream",
     "text": [
      "Nile runs through Egypt\n",
      "Yangtze runs through China\n",
      "Amazon runs through South America\n"
     ]
    }
   ],
   "source": [
    "for k,v in rivers.items():\n",
    "    print(k.title(), 'runs through', v)"
   ]
  },
  {
   "cell_type": "code",
   "execution_count": 7,
   "metadata": {},
   "outputs": [
    {
     "name": "stdout",
     "output_type": "stream",
     "text": [
      "Nile\n",
      "Yangtze\n",
      "Amazon\n"
     ]
    }
   ],
   "source": [
    "for k in rivers.keys():\n",
    "    print(k.title())"
   ]
  },
  {
   "cell_type": "code",
   "execution_count": 8,
   "metadata": {},
   "outputs": [
    {
     "name": "stdout",
     "output_type": "stream",
     "text": [
      "Egypt\n",
      "China\n",
      "South America\n"
     ]
    }
   ],
   "source": [
    "for v in rivers.values():\n",
    "    print(v.title())"
   ]
  },
  {
   "cell_type": "markdown",
   "metadata": {},
   "source": [
    "### 6-6. Polling: \n",
    "    \n",
    "Use the code in favorite_languages.py (page 97).\n",
    "\n",
    "* Make a list of people who should take the favorite languages poll. Include some names that are already in the dictionary and some that are not.\n",
    "\n",
    "\n",
    "* Loop through the list of people who should take the poll. If they have already taken the poll, print a message thanking them for responding. If they have not yet taken the poll, print a message inviting them to take the poll."
   ]
  },
  {
   "cell_type": "code",
   "execution_count": 9,
   "metadata": {},
   "outputs": [
    {
     "name": "stdout",
     "output_type": "stream",
     "text": [
      "you're invited to the poll\n",
      "Thanks for responds\n",
      "you're invited to the poll\n",
      "you're invited to the poll\n",
      "Thanks for responds\n"
     ]
    }
   ],
   "source": [
    "favorite_languages = {\n",
    "     'jen': 'python',\n",
    "     'sarah': 'c',\n",
    "     'edward': 'ruby',\n",
    "     'phil': 'python',\n",
    " }\n",
    "\n",
    "people = ['ahmed', 'jen', 'hassan', 'yousuf', 'phil']\n",
    "\n",
    "for p in people:\n",
    "    if p in list(favorite_languages.keys()):\n",
    "        print(\"Thanks for responds\")\n",
    "    else:\n",
    "        print(\"you're invited to the poll\")"
   ]
  },
  {
   "cell_type": "markdown",
   "metadata": {},
   "source": [
    "### 6-7. People: \n",
    "\n",
    "Start with the program you wrote for Exercise 6-1 (page 99).\n",
    "Make two new dictionaries representing different people, and store all three\n",
    "dictionaries in a list called people. Loop through your list of people. As you\n",
    "loop through the list, print everything you know about each person.\n"
   ]
  },
  {
   "cell_type": "code",
   "execution_count": 10,
   "metadata": {},
   "outputs": [],
   "source": [
    "info = {\n",
    "    \"fname\": \"Ahmed_424\",\n",
    "    \"lname\": \"Hassan_542\",\n",
    "    \"age\": 233,\n",
    "    \"city\": \"Karachi\"\n",
    "}\n",
    "\n",
    "info2 = {\n",
    "    \"fname\": \"Ahmed_56\",\n",
    "    \"lname\": \"Hassan_12\",\n",
    "    \"age\": 37,\n",
    "    \"city\": \"Karachi\"\n",
    "}\n",
    "\n",
    "info3 = {\n",
    "    \"fname\": \"Ahmed12\",\n",
    "    \"lname\": \"Hassan45\",\n",
    "    \"age\": 22,\n",
    "    \"city\": \"Karachi\"\n",
    "}\n",
    "\n",
    "info_list = [info, info2, info3]"
   ]
  },
  {
   "cell_type": "code",
   "execution_count": 11,
   "metadata": {},
   "outputs": [
    {
     "name": "stdout",
     "output_type": "stream",
     "text": [
      "Fname Ahmed_424\n",
      "Lname Hassan_542\n",
      "Age 233\n",
      "City Karachi\n",
      "\n",
      "Fname Ahmed_56\n",
      "Lname Hassan_12\n",
      "Age 37\n",
      "City Karachi\n",
      "\n",
      "Fname Ahmed12\n",
      "Lname Hassan45\n",
      "Age 22\n",
      "City Karachi\n",
      "\n"
     ]
    }
   ],
   "source": [
    "for x in info_list:\n",
    "    for k,v in x.items():\n",
    "        print(k.title(), v)\n",
    "    print()"
   ]
  },
  {
   "cell_type": "markdown",
   "metadata": {},
   "source": [
    "### 6-8. Pets: \n",
    "\n",
    "\n",
    "Make several dictionaries, where each dictionary represents a different pet. In each dictionary, include the kind of animal and the owner’s name.\n",
    "Store these dictionaries in a list called pets. Next, loop through your list and as\n",
    "you do, print everything you know about each pet."
   ]
  },
  {
   "cell_type": "code",
   "execution_count": 12,
   "metadata": {},
   "outputs": [],
   "source": [
    "pet1 = {\n",
    "    \"animal\": \"cat\",\n",
    "    \"owner\": \"Hassan\",\n",
    "}\n",
    "\n",
    "pet2 = {\n",
    "    \"animal\": \"cow\",\n",
    "    \"owner\": \"Ahmed\",\n",
    "}\n",
    "\n",
    "pet3 = {\n",
    "    \"animal\": \"goat\",\n",
    "    \"owner\": \"Yaseen\",\n",
    "}\n",
    "\n",
    "pets = [pet1, pet2, pet3]"
   ]
  },
  {
   "cell_type": "code",
   "execution_count": 13,
   "metadata": {},
   "outputs": [
    {
     "name": "stdout",
     "output_type": "stream",
     "text": [
      "Animal cat\n",
      "Owner Hassan\n",
      "\n",
      "Animal cow\n",
      "Owner Ahmed\n",
      "\n",
      "Animal goat\n",
      "Owner Yaseen\n",
      "\n"
     ]
    }
   ],
   "source": [
    "for x in pets:\n",
    "    for k,v in x.items():\n",
    "        print(k.title(), v)\n",
    "    print()"
   ]
  },
  {
   "cell_type": "markdown",
   "metadata": {},
   "source": [
    "### 6-9. Favorite Places: \n",
    "\n",
    "Make a dictionary called favorite_places. Think of three names to use as keys in the dictionary, and store one to three favorite places for each person. To make this exercise a bit more interesting, ask some friends to name a few of their favorite places. Loop through the dictionary, and print each person’s name and their favorite places."
   ]
  },
  {
   "cell_type": "code",
   "execution_count": 14,
   "metadata": {},
   "outputs": [],
   "source": [
    "favorite_places = {\n",
    "    \"ahmed\": 'Izmir',\n",
    "    \"hassan\": 'Istanbul',\n",
    "    \"yousuf\": 'Gilit',\n",
    "    \"hunan\": 'Gwader'   \n",
    "}"
   ]
  },
  {
   "cell_type": "code",
   "execution_count": 15,
   "metadata": {},
   "outputs": [
    {
     "name": "stdout",
     "output_type": "stream",
     "text": [
      "Ahmed likes Izmir\n",
      "Hassan likes Istanbul\n",
      "Yousuf likes Gilit\n",
      "Hunan likes Gwader\n"
     ]
    }
   ],
   "source": [
    "for k,v in favorite_places.items():\n",
    "        print(k.title(), 'likes', v)"
   ]
  },
  {
   "cell_type": "markdown",
   "metadata": {},
   "source": [
    "### 6-10. Favorite Numbers: \n",
    "    \n",
    "Modify your program from Exercise 6-2 (page 99)\n",
    "so each person can have more than one favorite number. Then print each person’s name along with their favorite numbers."
   ]
  },
  {
   "cell_type": "code",
   "execution_count": 16,
   "metadata": {},
   "outputs": [
    {
     "name": "stdout",
     "output_type": "stream",
     "text": [
      "Ahmed fav nums are  18 42 \n",
      "Hassan fav nums are  37 56 98 \n",
      "Yousuf fav nums are  26 23 4 \n",
      "Hunan fav nums are  66 32 44 \n"
     ]
    }
   ],
   "source": [
    "fav_nums = {\n",
    "    \"ahmed\": [18, 42],\n",
    "    \"hassan\": [37, 56, 98],\n",
    "    \"yousuf\": [26, 23, 4],\n",
    "    \"hunan\": [66, 32, 44]\n",
    "}\n",
    "\n",
    "for k, v in fav_nums.items():\n",
    "    print(k.title(), 'fav nums are ', end=\" \")\n",
    "    for n in v:\n",
    "        print(n, end=\" \")\n",
    "    print()"
   ]
  },
  {
   "cell_type": "markdown",
   "metadata": {},
   "source": [
    "### 6-11. Cities: \n",
    "    \n",
    "    \n",
    "Make a dictionary called cities. Use the names of three cities as\n",
    "keys in your dictionary. Create a dictionary of information about each city and\n",
    "include the country that the city is in, its approximate population, and one fact\n",
    "about that city. The keys for each city’s dictionary should be something like\n",
    "country, population, and fact. Print the name of each city and all of the information you have stored about it."
   ]
  },
  {
   "cell_type": "code",
   "execution_count": 17,
   "metadata": {},
   "outputs": [],
   "source": [
    "cities = {\n",
    "    'istanbul': {\n",
    "        'country': 'turkey',\n",
    "        'pop': '80M',\n",
    "        'fact': 'Asia-Europe'\n",
    "    },\n",
    "    \n",
    "    'tehran': {\n",
    "        'country': 'iran',\n",
    "        'pop': '100M',\n",
    "        'fact': 'Persian gulf'\n",
    "    },\n",
    "    \n",
    "    'karachi': {\n",
    "        'country': 'pakistan',\n",
    "        'pop': '200M',\n",
    "        'fact': 'gwadar city'\n",
    "    },\n",
    "}"
   ]
  },
  {
   "cell_type": "code",
   "execution_count": 18,
   "metadata": {},
   "outputs": [
    {
     "name": "stdout",
     "output_type": "stream",
     "text": [
      "Istanbul\n",
      "********\n",
      "Country: Turkey\n",
      "Pop: 80M\n",
      "Fact: Asia-Europe\n",
      "\n",
      "Tehran\n",
      "******\n",
      "Country: Iran\n",
      "Pop: 100M\n",
      "Fact: Persian Gulf\n",
      "\n",
      "Karachi\n",
      "*******\n",
      "Country: Pakistan\n",
      "Pop: 200M\n",
      "Fact: Gwadar City\n",
      "\n"
     ]
    }
   ],
   "source": [
    "for k,v in cities.items():\n",
    "    print(k.title())\n",
    "    print(len(k) * '*')\n",
    "    for k1,v1 in v.items():\n",
    "        print(f'{k1.title()}: {v1.title()}')\n",
    "    print()"
   ]
  }
 ],
 "metadata": {
  "kernelspec": {
   "display_name": "Python 3",
   "language": "python",
   "name": "python3"
  },
  "language_info": {
   "codemirror_mode": {
    "name": "ipython",
    "version": 3
   },
   "file_extension": ".py",
   "mimetype": "text/x-python",
   "name": "python",
   "nbconvert_exporter": "python",
   "pygments_lexer": "ipython3",
   "version": "3.8.5"
  }
 },
 "nbformat": 4,
 "nbformat_minor": 4
}
