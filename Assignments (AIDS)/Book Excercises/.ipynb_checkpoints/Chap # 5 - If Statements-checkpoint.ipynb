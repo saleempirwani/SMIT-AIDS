{
 "cells": [
  {
   "cell_type": "markdown",
   "metadata": {},
   "source": [
    "# CHAPTER NO 1 - If Statements\n",
    "\n",
    "### Book: Python Crash Course By ERIC MATTHES"
   ]
  },
  {
   "cell_type": "markdown",
   "metadata": {},
   "source": [
    "### 5-1. Conditional Tests: \n",
    "Write a series of conditional tests. Print a statement describing each test and your prediction for the results of each test. Your code should look something like this:\n",
    "\n",
    "`car = 'subaru'\n",
    "print(\"Is car == 'subaru'? I predict True.\")\n",
    "print(car == 'subaru')\n",
    "print(\"\\nIs car == 'audi'? I predict False.\")\n",
    "print(car == 'audi')`\n",
    "\n",
    "* Look closely at your results, and make sure you understand why each line evaluates to True or False.\n",
    "\n",
    "\n",
    "* Create at least ten tests. Have at least five tests evaluate to True and another two tests evaluate to False."
   ]
  },
  {
   "cell_type": "code",
   "execution_count": 5,
   "metadata": {},
   "outputs": [
    {
     "name": "stdout",
     "output_type": "stream",
     "text": [
      "Is car == 'subaru', I Predict False\n",
      "False\n",
      "\n",
      "Is car == 'audi', I Predict True\n",
      "True\n"
     ]
    }
   ],
   "source": [
    "car = 'audi'\n",
    "print(\"Is car == 'subaru', I Predict False\")\n",
    "print(car == 'subaru')\n",
    "\n",
    "print(\"\\nIs car == 'audi', I Predict True\")\n",
    "print(car == 'audi')"
   ]
  },
  {
   "cell_type": "code",
   "execution_count": 7,
   "metadata": {},
   "outputs": [
    {
     "name": "stdout",
     "output_type": "stream",
     "text": [
      "Is value == 'True', I Predict True\n",
      "True\n",
      "\n",
      "Is value == 'False', I Predict False\n",
      "False\n"
     ]
    }
   ],
   "source": [
    "value = True\n",
    "print(\"Is value == 'True', I Predict True\")\n",
    "print(value == True)\n",
    "\n",
    "print(\"\\nIs value == 'False', I Predict False\")\n",
    "print(value == False)"
   ]
  },
  {
   "cell_type": "markdown",
   "metadata": {},
   "source": [
    "### 5-2. More Conditional Tests: \n",
    "\n",
    "You don’t have to limit the number of tests you create to ten. If you want to try more comparisons, write more tests and add them to conditional_tests.py. Have at least one True and one False result for each of the following:\n",
    "\n",
    "* Tests for equality and inequality with strings.\n",
    "\n",
    "\n",
    "* Tests using the lower() method\n",
    "\n",
    "\n",
    "* Numerical tests involving equality and inequality, greater than and less than, greater than or equal to, and less than or equal to\n",
    "\n",
    "\n",
    "* Tests using the `and` keyword and the `or` keyword\n",
    "\n",
    "\n",
    "* Test whether an item is in a list\n",
    "\n",
    "\n",
    "* Test whether an item is not in a list"
   ]
  },
  {
   "cell_type": "code",
   "execution_count": 11,
   "metadata": {},
   "outputs": [
    {
     "name": "stdout",
     "output_type": "stream",
     "text": [
      "'Saleem' == 'saleem:  False\n",
      "'Saleem' != 'saleem':  True\n"
     ]
    }
   ],
   "source": [
    "res = 'Saleem' == 'saleem'\n",
    "print(\"'Saleem' == 'saleem: \", res)\n",
    "res = 'Saleem' == 'saleem'.lower()\n",
    "print(\"'Saleem' == 'saleem: \", res)\n",
    "\n",
    "res = 'Saleem' != 'saleem'.lower()\n",
    "print(\"'Saleem' != 'saleem': \", res)\n",
    "res = 'Saleem' != 'saleem'\n",
    "print(\"'Saleem' != 'saleem': \", res)"
   ]
  },
  {
   "cell_type": "code",
   "execution_count": 1,
   "metadata": {},
   "outputs": [
    {
     "name": "stdout",
     "output_type": "stream",
     "text": [
      "'Saleem' == 'saleem:  False\n",
      "'Saleem' != 'saleem':  True\n"
     ]
    }
   ],
   "source": [
    "res = 'Saleem' == 'saleem'.lower()\n",
    "print(\"'Saleem' == 'saleem: \", res)\n",
    "\n",
    "res = 'Saleem' != 'saleem'.lower()\n",
    "print(\"'Saleem' != 'saleem': \", res)"
   ]
  },
  {
   "cell_type": "code",
   "execution_count": 5,
   "metadata": {},
   "outputs": [
    {
     "name": "stdout",
     "output_type": "stream",
     "text": [
      "5 == 4 False\n",
      "5 == 4 True\n",
      "\n",
      "5 > 4 True\n",
      "5 < 4 False\n"
     ]
    }
   ],
   "source": [
    "res = 5 == 4\n",
    "print(\"5 == 4\", res)\n",
    "\n",
    "res = 5 != 4\n",
    "print(\"5 == 4\", res)\n",
    "\n",
    "print()\n",
    "\n",
    "res = 5 > 4\n",
    "print(\"5 > 4\", res)\n",
    "\n",
    "res = 5 < 4\n",
    "print(\"5 < 4\", res)"
   ]
  },
  {
   "cell_type": "code",
   "execution_count": 7,
   "metadata": {},
   "outputs": [
    {
     "name": "stdout",
     "output_type": "stream",
     "text": [
      " 5 < 4 and 5 > 4 False\n",
      " 5 < 4 and 5 > 4 True\n"
     ]
    }
   ],
   "source": [
    "res = 5 < 4 and 5 > 4\n",
    "print(\" 5 < 4 and 5 > 4\", res)\n",
    "\n",
    "res = 5 < 4 or 5 > 4\n",
    "print(\" 5 < 4 and 5 > 4\", res)"
   ]
  },
  {
   "cell_type": "code",
   "execution_count": 10,
   "metadata": {},
   "outputs": [
    {
     "name": "stdout",
     "output_type": "stream",
     "text": [
      "25 in [5, 9, 84, 6] False\n",
      "25 in [5, 9, 84, 6] True\n"
     ]
    }
   ],
   "source": [
    "res = 25 in [5, 9, 84, 6]\n",
    "print(\"25 in [5, 9, 84, 6]\", res)\n",
    "\n",
    "res = 25 in [25, 9, 84, 6]\n",
    "print(\"25 in [5, 9, 84, 6]\", res)"
   ]
  },
  {
   "cell_type": "code",
   "execution_count": 11,
   "metadata": {},
   "outputs": [
    {
     "name": "stdout",
     "output_type": "stream",
     "text": [
      "25 in [5, 9, 84, 6] True\n",
      "25 in [5, 9, 84, 6] False\n"
     ]
    }
   ],
   "source": [
    "res = 25 not in [5, 9, 84, 6]\n",
    "print(\"25 in [5, 9, 84, 6]\", res)\n",
    "\n",
    "res = 25 not in [25, 9, 84, 6]\n",
    "print(\"25 in [5, 9, 84, 6]\", res)"
   ]
  },
  {
   "cell_type": "markdown",
   "metadata": {},
   "source": [
    "#### 5-3. Alien Colors #1: \n",
    "\n",
    "Imagine an alien was just shot down in a game. Create a variable called `alien_color` and assign it a value of 'green', 'yellow', or 'red'.\n",
    "\n",
    "\n",
    "* Write an if statement to test whether the alien’s color is green. If it is, print a message that the player just earned 5 points.\n",
    "\n",
    "\n",
    "* Write one version of this program that passes the if test and another that fails. (The version that fails will have no output.)"
   ]
  },
  {
   "cell_type": "code",
   "execution_count": 13,
   "metadata": {},
   "outputs": [],
   "source": [
    "alien_color = 'green'"
   ]
  },
  {
   "cell_type": "code",
   "execution_count": 14,
   "metadata": {},
   "outputs": [
    {
     "name": "stdout",
     "output_type": "stream",
     "text": [
      "The player just earned 5 points.\n"
     ]
    }
   ],
   "source": [
    "if alien_color == 'green':\n",
    "    print('The player just earned 5 points.')"
   ]
  },
  {
   "cell_type": "code",
   "execution_count": 15,
   "metadata": {},
   "outputs": [
    {
     "name": "stdout",
     "output_type": "stream",
     "text": [
      "The player just earned 5 points.\n"
     ]
    }
   ],
   "source": [
    "if alien_color == 'green':\n",
    "    print('The player just earned 5 points.')\n",
    "else:\n",
    "    print()"
   ]
  },
  {
   "cell_type": "markdown",
   "metadata": {},
   "source": [
    "#### 5-4. Alien Colors #2: \n",
    "\n",
    "Choose a color for an alien as you did in Exercise 5-3, and write an if-else chain.\n",
    "\n",
    "* If the alien’s color is green, print a statement that the player just earned 5 points for shooting the alien.\n",
    "\n",
    "\n",
    "* If the alien’s color isn’t green, print a statement that the player just earned 10 points.\n",
    "\n",
    "\n",
    "* Write one version of this program that runs the if block and another that runs the else block."
   ]
  },
  {
   "cell_type": "code",
   "execution_count": 20,
   "metadata": {},
   "outputs": [],
   "source": [
    "alien_color = 'green'"
   ]
  },
  {
   "cell_type": "code",
   "execution_count": 21,
   "metadata": {},
   "outputs": [
    {
     "name": "stdout",
     "output_type": "stream",
     "text": [
      "The player just earned 5 points.\n"
     ]
    }
   ],
   "source": [
    "if alien_color == 'green':\n",
    "    print('The player just earned 5 points.')"
   ]
  },
  {
   "cell_type": "code",
   "execution_count": 22,
   "metadata": {},
   "outputs": [],
   "source": [
    "if alien_color != 'green':\n",
    "    print('The player just earned 10 points.')"
   ]
  },
  {
   "cell_type": "code",
   "execution_count": 24,
   "metadata": {},
   "outputs": [
    {
     "name": "stdout",
     "output_type": "stream",
     "text": [
      "The player just earned 10 points.\n"
     ]
    }
   ],
   "source": [
    "if alien_color == 'green':\n",
    "    print('The player just earned 10 points.')\n",
    "\n",
    "else:\n",
    "    print('The player just earned 10 points.')"
   ]
  },
  {
   "cell_type": "markdown",
   "metadata": {},
   "source": [
    "#### 5-5. Alien Colors #3: \n",
    "\n",
    "Turn your if-else chain from Exercise 5-4 into an if-elifelse chain.\n",
    "\n",
    "* If the alien is green, print a message that the player earned 5 points.\n",
    "\n",
    "\n",
    "* If the alien is yellow, print a message that the player earned 10 points.\n",
    "\n",
    "\n",
    "* If the alien is red, print a message that the player earned 15 points.\n",
    "\n",
    "\n",
    "* Write three versions of this program, making sure each message is printed for the appropriate color alien."
   ]
  },
  {
   "cell_type": "code",
   "execution_count": 30,
   "metadata": {},
   "outputs": [
    {
     "name": "stdout",
     "output_type": "stream",
     "text": [
      "The player just earned 10 points.\n"
     ]
    }
   ],
   "source": [
    "if alien_color == 'green':\n",
    "    print('The player just earned 10 points.')\n",
    "\n",
    "elif alien_color == 'yellow':\n",
    "    print('The player just earned 10 points.')\n",
    "\n",
    "elif alien_color == 'red':\n",
    "    print('The player just earned 15 points.')"
   ]
  },
  {
   "cell_type": "code",
   "execution_count": 31,
   "metadata": {},
   "outputs": [
    {
     "name": "stdout",
     "output_type": "stream",
     "text": [
      "The player just earned 10 points.\n"
     ]
    }
   ],
   "source": [
    "if alien_color == 'green':\n",
    "    print('The player just earned 10 points.')\n",
    "\n",
    "if alien_color == 'yellow':\n",
    "    print('The player just earned 10 points.')\n",
    "    \n",
    "if alien_color == 'red':\n",
    "    print('The player just earned 15 points.')"
   ]
  },
  {
   "cell_type": "markdown",
   "metadata": {},
   "source": [
    "#### 5-6. Stages of Life: \n",
    "\n",
    "Write an if-elif-else chain that determines a person’s stage of life. Set a value for the variable age, and then:\n",
    "\n",
    "\n",
    "* If the person is less than 2 years old, print a message that the person is\n",
    "a baby.\n",
    "\n",
    "\n",
    "* If the person is at least 2 years old but less than 4, print a message that the person is a toddler.\n",
    "\n",
    "\n",
    "* If the person is at least 4 years old but less than 13, print a message that the person is a kid.\n",
    "\n",
    "\n",
    "* If the person is at least 13 years old but less than 20, print a message that the person is a teenager.\n",
    "\n",
    "\n",
    "* If the person is at least 20 years old but less than 65, print a message that the person is an adult.\n",
    "\n",
    "\n",
    "* If the person is age 65 or older, print a message that the person is an elder."
   ]
  },
  {
   "cell_type": "code",
   "execution_count": 37,
   "metadata": {},
   "outputs": [],
   "source": [
    "age = 22"
   ]
  },
  {
   "cell_type": "code",
   "execution_count": 44,
   "metadata": {},
   "outputs": [
    {
     "name": "stdout",
     "output_type": "stream",
     "text": [
      "The person is a adult.\n"
     ]
    }
   ],
   "source": [
    "if age < 2:\n",
    "    print('The person is a baby.')\n",
    "    \n",
    "elif age >= 2 and age < 4:\n",
    "    print('The person is a toddler.')\n",
    "    \n",
    "elif age >= 4 and age < 13:\n",
    "    print('The person is a kid.')\n",
    "    \n",
    "elif age >= 13 and age < 20:\n",
    "    print('The person is a teenager.')\n",
    "    \n",
    "elif age >= 20 and age < 65:\n",
    "    print('The person is a adult.')\n",
    "    \n",
    "else:\n",
    "    print('The person is a elder.')"
   ]
  },
  {
   "cell_type": "markdown",
   "metadata": {},
   "source": [
    "#### 5-7. Favorite Fruit: \n",
    "    \n",
    "Make a list of your favorite fruits, and then write a series of independent if statements that check for certain fruits in your list.\n",
    "\n",
    "\n",
    "* Make a list of your three favorite fruits and call it favorite_fruits.\n",
    "\n",
    "\n",
    "* Write five if statements. Each should check whether a certain kind of fruit is in your list. If the fruit is in your list, the if block should print a statement, such as You really like bananas!"
   ]
  },
  {
   "cell_type": "code",
   "execution_count": 45,
   "metadata": {},
   "outputs": [],
   "source": [
    "favorite_fruits = ['Apple', 'Pineapple', 'Orange', 'Bananas']"
   ]
  },
  {
   "cell_type": "code",
   "execution_count": 46,
   "metadata": {},
   "outputs": [
    {
     "name": "stdout",
     "output_type": "stream",
     "text": [
      "You really like Mango\n",
      "You really like Orange\n"
     ]
    }
   ],
   "source": [
    "if 'Mango' in favorite_fruits:\n",
    "    print('You really like Mango')\n",
    "    \n",
    "    \n",
    "if 'Strawberry' in favorite_fruits:\n",
    "    print('You really like Strawberry')\n",
    "    \n",
    "    \n",
    "if 'Papaya' in favorite_fruits:\n",
    "    print('You really like Mango')\n",
    "    \n",
    "    \n",
    "if 'Apple' in favorite_fruits:\n",
    "    print('You really like Mango')\n",
    "    \n",
    "if 'Orange' in favorite_fruits:\n",
    "    print('You really like Orange')"
   ]
  },
  {
   "cell_type": "markdown",
   "metadata": {},
   "source": [
    "#### 5-8. Hello Admin: \n",
    "    \n",
    "Make a list of five or more \n",
    "usernames, including the name `'admin'`. Imagine you are writing code that will print a greeting to each user after they log in to a website. Loop through the list, and print a greeting to each user:\n",
    "\n",
    "\n",
    "* If the username is 'admin', print a special greeting, such as Hello admin, would you like to see a status report?\n",
    "\n",
    "\n",
    "* Otherwise, print a generic greeting, such as Hello Jaden, thank you for logging in again."
   ]
  },
  {
   "cell_type": "code",
   "execution_count": 52,
   "metadata": {},
   "outputs": [
    {
     "name": "stdout",
     "output_type": "stream",
     "text": [
      "Hello Ahmed thank you for logging in again.\n",
      "Hello Yousuf thank you for logging in again.\n",
      "\n",
      "Hello Admin \n",
      "\n",
      "Hello Ali thank you for logging in again.\n",
      "Hello Osman thank you for logging in again.\n"
     ]
    }
   ],
   "source": [
    "usernames = ['ahmed', 'yousuf', 'admin', 'ali', 'osman']\n",
    "\n",
    "for username in usernames:\n",
    "    if(username == 'admin'):\n",
    "        print('\\nHello', username.title(), '\\n')\n",
    "    else:\n",
    "        print('Hello', username.title(),'thank you for logging in again.')"
   ]
  },
  {
   "cell_type": "markdown",
   "metadata": {},
   "source": [
    "#### 5-9. No Users: \n",
    "    \n",
    "Add an if test to hello_admin.py to make sure the list of users is not empty.\n",
    "\n",
    "\n",
    "* If the list is empty, print the message We need to find some users!\n",
    "\n",
    "\n",
    "* Remove all of the usernames from your list, and make sure the correct message is printed."
   ]
  },
  {
   "cell_type": "code",
   "execution_count": 5,
   "metadata": {},
   "outputs": [
    {
     "name": "stdout",
     "output_type": "stream",
     "text": [
      "We need to find some users!\n"
     ]
    }
   ],
   "source": [
    "# usernames = ['ahmed', 'yousuf', 'admin', 'ali', 'osman']\n",
    "\n",
    "usernames = []\n",
    "\n",
    "if len(usernames):\n",
    "    for username in usernames:\n",
    "        if(username == 'admin'):\n",
    "            print('\\nHello', username.title(), '\\n')\n",
    "        else:\n",
    "            print('Hello', username.title(),'thank you for logging in again.')\n",
    "else:\n",
    "    print('We need to find some users!')"
   ]
  },
  {
   "cell_type": "markdown",
   "metadata": {},
   "source": [
    "#### 5-10. Checking Usernames: \n",
    "\n",
    "Do the following to create a program that simulates\n",
    "how websites ensure that everyone has a unique username.\n",
    "\n",
    "\n",
    "* Make a list of five or more usernames called current_users.\n",
    "\n",
    "\n",
    "* Make another list of five usernames called new_users. Make sure one or two of the new usernames are also in the current_users list.\n",
    "\n",
    "\n",
    "* Loop through the new_users list to see if each new username has already been used. If it has, print a message that the person will need to enter a new username. If a username has not been used, print a message saying that the username is available.\n",
    "\n",
    "\n",
    "* Make sure your comparison is case insensitive. If 'John' has been used, `'JOHN'` should not be accepted. (To do this, you’ll need to make a copy of current_users containing the lowercase versions of all existing users.)"
   ]
  },
  {
   "cell_type": "code",
   "execution_count": 10,
   "metadata": {},
   "outputs": [
    {
     "name": "stdout",
     "output_type": "stream",
     "text": [
      "Already exist! enter new username.\n",
      "username is available\n",
      "Already exist! enter new username.\n",
      "Already exist! enter new username.\n",
      "username is available\n"
     ]
    }
   ],
   "source": [
    "current_users = ['ali123', 'ahmed_12', 'yousuf', 'ali45', 'hunan']\n",
    "current_users_lower = [x.lower() for x in current_users]\n",
    "\n",
    "new_users = ['ali123', 'yasseen2', 'YOUSUF', 'ali45', 'hammad']\n",
    "\n",
    "for x in new_users:\n",
    "    if x.lower() in current_users_lower:\n",
    "        print('Already exist! enter new username.')\n",
    "    else:\n",
    "        print('username is available')\n"
   ]
  },
  {
   "cell_type": "markdown",
   "metadata": {},
   "source": [
    "#### 5-11. Ordinal Numbers: \n",
    "    \n",
    "Ordinal numbers indicate their position in a list, such as 1st or 2nd. Most ordinal numbers end in th, except 1, 2, and 3.\n",
    "\n",
    "\n",
    "* Store the numbers 1 through 9 in a list.\n",
    "\n",
    "\n",
    "* Loop through the list.\n",
    "\n",
    "\n",
    "* Use an if-elif-else chain inside the loop to print the proper ordinal ending for each number. Your output should read `1st 2nd 3rd 4th 5th 6th 7th 8th 9th`, and each result should be on a separate line."
   ]
  },
  {
   "cell_type": "code",
   "execution_count": 14,
   "metadata": {},
   "outputs": [
    {
     "name": "stdout",
     "output_type": "stream",
     "text": [
      "1th 2nd 3rd 4th 5th 6th 7th 8th 9th "
     ]
    }
   ],
   "source": [
    "num = list(range(1, 10))\n",
    "\n",
    "for x in num:\n",
    "    if x == 2:\n",
    "        print(f'{x}nd', end=\" \")\n",
    "    elif x == 3:\n",
    "            print(f'{x}rd', end=\" \")\n",
    "    else:\n",
    "        print(f'{x}th', end=\" \")\n",
    "                    "
   ]
  },
  {
   "cell_type": "code",
   "execution_count": null,
   "metadata": {},
   "outputs": [],
   "source": []
  }
 ],
 "metadata": {
  "kernelspec": {
   "display_name": "Python 3",
   "language": "python",
   "name": "python3"
  },
  "language_info": {
   "codemirror_mode": {
    "name": "ipython",
    "version": 3
   },
   "file_extension": ".py",
   "mimetype": "text/x-python",
   "name": "python",
   "nbconvert_exporter": "python",
   "pygments_lexer": "ipython3",
   "version": "3.8.5"
  }
 },
 "nbformat": 4,
 "nbformat_minor": 4
}
