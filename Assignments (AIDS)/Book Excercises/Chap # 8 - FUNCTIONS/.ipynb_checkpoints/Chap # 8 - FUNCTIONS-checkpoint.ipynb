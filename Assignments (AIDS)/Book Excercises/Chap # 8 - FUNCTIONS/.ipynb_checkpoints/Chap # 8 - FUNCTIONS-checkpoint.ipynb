{
 "cells": [
  {
   "cell_type": "markdown",
   "metadata": {},
   "source": [
    "# CHAPTER NO 1 - FUNCTIONS\n",
    "\n",
    "### Book: Python Crash Course By ERIC MATTHES"
   ]
  },
  {
   "cell_type": "markdown",
   "metadata": {},
   "source": [
    "### 8-1. Message: \n",
    "\n",
    "Write a function called display_message() that prints one sentence telling everyone what you are learning about in this chapter. Call the function, and make sure the message displays correctly."
   ]
  },
  {
   "cell_type": "code",
   "execution_count": 11,
   "metadata": {},
   "outputs": [
    {
     "name": "stdout",
     "output_type": "stream",
     "text": [
      "Learn from chap 1 to 8\n"
     ]
    }
   ],
   "source": [
    "def display_message():\n",
    "    print('Learn from chap 1 to 8')\n",
    "    \n",
    "display_message()"
   ]
  },
  {
   "cell_type": "markdown",
   "metadata": {},
   "source": [
    "### 8-2. Favorite Book: \n",
    "\n",
    "Write a function called favorite_book() that accepts one parameter, title. The function should print a message, such as One of my favorite books is Alice in Wonderland. Call the function, making sure to include a book title as an argument in the function call."
   ]
  },
  {
   "cell_type": "code",
   "execution_count": 12,
   "metadata": {},
   "outputs": [
    {
     "name": "stdout",
     "output_type": "stream",
     "text": [
      "One of my favorite books is Alice in Wonderland\n"
     ]
    }
   ],
   "source": [
    "def favorite_book(title):\n",
    "    print('One of my favorite books is', title)\n",
    "    \n",
    "\n",
    "favorite_book('Alice in Wonderland')"
   ]
  },
  {
   "cell_type": "markdown",
   "metadata": {},
   "source": [
    "### 8-3. T-Shirt: \n",
    "    \n",
    "Write a function called make_shirt() that accepts a size and the\n",
    "text of a message that should be printed on the shirt. The function should print\n",
    "a sentence summarizing the size of the shirt and the message printed on it.\n",
    "Call the function once using positional arguments to make a shirt. Call the\n",
    "function a second time using keyword arguments."
   ]
  },
  {
   "cell_type": "code",
   "execution_count": 13,
   "metadata": {},
   "outputs": [
    {
     "name": "stdout",
     "output_type": "stream",
     "text": [
      "Size: Medium \n",
      "Message: I can and I will\n"
     ]
    }
   ],
   "source": [
    "def make_shirt(size, msg):\n",
    "    print(f'Size: {size} \\nMessage: {msg}')\n",
    "    \n",
    "make_shirt('Medium', msg='I can and I will')"
   ]
  },
  {
   "cell_type": "markdown",
   "metadata": {},
   "source": [
    "### 8-4. Large Shirts: \n",
    "\n",
    "Modify the make_shirt() function so that shirts are large by default with a message that reads I love Python. Make a large shirt and a medium shirt with the default message, and a shirt of any size with a different message."
   ]
  },
  {
   "cell_type": "code",
   "execution_count": 14,
   "metadata": {},
   "outputs": [
    {
     "name": "stdout",
     "output_type": "stream",
     "text": [
      "Size: large \n",
      "Message: I love Python\n",
      "\n",
      "Size: medium \n",
      "Message: I love Python\n",
      "\n",
      "Size: small \n",
      "Message: I love Java\n",
      "\n"
     ]
    }
   ],
   "source": [
    "def make_shirt(size='large', msg='I love Python'):\n",
    "    print(f'Size: {size} \\nMessage: {msg}\\n')\n",
    "    \n",
    "make_shirt()\n",
    "make_shirt(size='medium')\n",
    "make_shirt(size='small', msg='I love Java')"
   ]
  },
  {
   "cell_type": "markdown",
   "metadata": {},
   "source": [
    "### 8-5. Cities: \n",
    "\n",
    "Write a function called describe_city() that accepts the name of a city and its country. The function should print a simple sentence, such as\n",
    "Reykjavik is in Iceland. Give the parameter for the country a default value. Call your function for three different cities, at least one of which is not in the\n",
    "default country"
   ]
  },
  {
   "cell_type": "code",
   "execution_count": 15,
   "metadata": {},
   "outputs": [
    {
     "name": "stdout",
     "output_type": "stream",
     "text": [
      "Karachi is in Pakistan\n",
      "Lahore is in Pakistan\n",
      "Islamabad is in Pakistan\n",
      "Istanbul is in Pakistan\n"
     ]
    }
   ],
   "source": [
    "def describe_city(city='', country='Pakistan'):\n",
    "    print(f'{city} is in {country}')\n",
    "\n",
    "describe_city('Karachi')\n",
    "describe_city('Lahore')\n",
    "describe_city('Islamabad')\n",
    "\n",
    "describe_city('Istanbul')"
   ]
  },
  {
   "cell_type": "markdown",
   "metadata": {},
   "source": [
    "### 8-6. City Names: \n",
    "\n",
    "Write a function called city_country() that takes in the name\n",
    "of a city and its country. The function should return a string formatted like this:\n",
    "`\"Santiago, Chile\"`\n",
    "\n",
    "Call your function with at least three city-country pairs, and print the\n",
    "values that are returned."
   ]
  },
  {
   "cell_type": "code",
   "execution_count": 16,
   "metadata": {},
   "outputs": [
    {
     "name": "stdout",
     "output_type": "stream",
     "text": [
      "Karachi, Pakistan\n",
      "Istanbul, Turkey\n",
      "Iran, Tehran\n"
     ]
    }
   ],
   "source": [
    "def city_country(city='', country=''):\n",
    "    print(f'{city}, {country}')\n",
    "    \n",
    "    \n",
    "city_country('Karachi', 'Pakistan')\n",
    "city_country('Istanbul', 'Turkey')\n",
    "city_country('Iran', 'Tehran')"
   ]
  },
  {
   "cell_type": "markdown",
   "metadata": {},
   "source": [
    "### 8-7. Album: \n",
    "\n",
    "Write a function called make_album() that builds a dictionary\n",
    "describing a music album. The function should take in an artist name and an\n",
    "album title, and it should return a dictionary containing these two pieces of\n",
    "information. Use the function to make three dictionaries representing different\n",
    "albums. Print each return value to show that the dictionaries are storing the\n",
    "album information correctly.\n",
    "\n",
    "Use None to add an optional parameter to make_album() that allows you to\n",
    "store the number of songs on an album. If the calling line includes a value for\n",
    "the number of songs, add that value to the album’s dictionary. Make at least\n",
    "one new function call that includes the number of songs on an album."
   ]
  },
  {
   "cell_type": "code",
   "execution_count": 17,
   "metadata": {},
   "outputs": [
    {
     "data": {
      "text/plain": [
       "{'artist_name': 'Atif Aslam', 'album_title': 'Free Fun'}"
      ]
     },
     "execution_count": 17,
     "metadata": {},
     "output_type": "execute_result"
    }
   ],
   "source": [
    "def make_album(artist_name, album_title, song=None):\n",
    "    artist = {\n",
    "        'artist_name': artist_name, \n",
    "        'album_title': album_title\n",
    "    }\n",
    "    \n",
    "    if song: artist['song'] = song\n",
    "        \n",
    "    return artist\n",
    "        \n",
    "make_album('Atif Aslam', 'Free Fun')"
   ]
  },
  {
   "cell_type": "code",
   "execution_count": 18,
   "metadata": {},
   "outputs": [
    {
     "data": {
      "text/plain": [
       "{'artist_name': 'Atif Aslam', 'album_title': 'Free Fun'}"
      ]
     },
     "execution_count": 18,
     "metadata": {},
     "output_type": "execute_result"
    }
   ],
   "source": [
    "make_album('Atif Aslam', 'Free Fun')"
   ]
  },
  {
   "cell_type": "code",
   "execution_count": 19,
   "metadata": {},
   "outputs": [
    {
     "data": {
      "text/plain": [
       "{'artist_name': 'Atif Aslam',\n",
       " 'album_title': 'Free Fun',\n",
       " 'song': 'Walks on street'}"
      ]
     },
     "execution_count": 19,
     "metadata": {},
     "output_type": "execute_result"
    }
   ],
   "source": [
    "make_album('Atif Aslam', 'Free Fun', 'Walks on street')"
   ]
  },
  {
   "cell_type": "markdown",
   "metadata": {},
   "source": [
    "### 8-8. User Albums: \n",
    "\n",
    "Start with your program from Exercise 8-7. Write a while loop that allows users to enter an album’s artist and title. Once you have that information, call make_album() with the user’s input and print the dictionary that’s created. Be sure to include a quit value in the while loop."
   ]
  },
  {
   "cell_type": "code",
   "execution_count": 34,
   "metadata": {},
   "outputs": [
    {
     "name": "stdout",
     "output_type": "stream",
     "text": [
      "Enter \"albums artist name, title\" [\"q\" for quit]: Atif, Down Tree\n",
      "{'artist_name': 'Atif', 'album_title': ' Down Tree'} \n",
      "\n",
      "Enter \"albums artist name, title\" [\"q\" for quit]: Shiekh, off road\n",
      "{'artist_name': 'Shiekh', 'album_title': ' off road'} \n",
      "\n",
      "Enter \"albums artist name, title\" [\"q\" for quit]: q\n"
     ]
    }
   ],
   "source": [
    "while True:\n",
    "    album = input('Enter \"albums artist name, title\" [\"q\" for quit]: ')\n",
    "    \n",
    "    if album == 'q':\n",
    "        break\n",
    "    \n",
    "    print(make_album(*album.split(','), '\\n')"
   ]
  },
  {
   "cell_type": "markdown",
   "metadata": {},
   "source": [
    "### 8-9. Messages: \n",
    "\n",
    "Make a list containing a series of short text messages. Pass the\n",
    "list to a function called show_messages(), which prints each text message."
   ]
  },
  {
   "cell_type": "code",
   "execution_count": 20,
   "metadata": {},
   "outputs": [
    {
     "name": "stdout",
     "output_type": "stream",
     "text": [
      "Call me\n",
      "Cant talk\n",
      "tonight at 8\n"
     ]
    }
   ],
   "source": [
    "def show_messages(msgs):\n",
    "    for msg in msgs:\n",
    "        print(msg)\n",
    "        \n",
    "msgs = ['Call me', 'Cant talk', 'tonight at 8']\n",
    "\n",
    "show_messages(msgs)"
   ]
  },
  {
   "cell_type": "markdown",
   "metadata": {},
   "source": [
    "### 8-10. Sending Messages: \n",
    "    \n",
    "Start with a copy of your program from Exercise 8-9. Write a function called send_messages() that prints each text message and moves each message to a new list called sent_messages as it’s printed. After calling the function, print both of your lists to make sure the messages were\n",
    "moved correctly."
   ]
  },
  {
   "cell_type": "code",
   "execution_count": 21,
   "metadata": {},
   "outputs": [
    {
     "name": "stdout",
     "output_type": "stream",
     "text": [
      "Call me\n",
      "Cant talk\n",
      "tonight at 8\n",
      "\n",
      "\n",
      "Following messages have been send:\n",
      "\n",
      "Call me\n",
      "Cant talk\n",
      "tonight at 8\n"
     ]
    }
   ],
   "source": [
    "send_msg = []\n",
    "msgs = ['Call me', 'Cant talk', 'tonight at 8']\n",
    "    \n",
    "\n",
    "def show_messages(msgs=[]):\n",
    "    \n",
    "    for msg in msgs:\n",
    "        print(msg)\n",
    "        send_msg.append(msg)\n",
    "        \n",
    "    if len(send_msg) == len(msg): msgs.clear()\n",
    "    \n",
    "    print('\\n\\nFollowing messages have been send:\\n')\n",
    "    for msg in send_msg:\n",
    "        print(msg)\n",
    "        \n",
    "show_messages(msgs)"
   ]
  },
  {
   "cell_type": "markdown",
   "metadata": {},
   "source": [
    "### 8-11. Archived Messages: \n",
    "\n",
    "Start with your work from Exercise 8-10. Call the function send_messages() with a copy of the list of messages. After calling the function, print both of your lists to show that the original list has retained its\n",
    "messages."
   ]
  },
  {
   "cell_type": "code",
   "execution_count": 22,
   "metadata": {},
   "outputs": [
    {
     "name": "stdout",
     "output_type": "stream",
     "text": [
      "Call me\n",
      "Cant talk\n",
      "tonight at 8\n",
      "\n",
      "\n",
      "Following messages have been send:\n",
      "\n",
      "Call me\n",
      "Cant talk\n",
      "tonight at 8\n",
      "\n",
      "org_list ['Call me', 'Cant talk', 'tonight at 8'] \n",
      "other_list: ['Call me', 'Cant talk', 'tonight at 8']\n"
     ]
    }
   ],
   "source": [
    "send_msg = []\n",
    "msgs = ['Call me', 'Cant talk', 'tonight at 8']\n",
    "    \n",
    "\n",
    "def show_messages(msgs=[]):\n",
    "    \n",
    "    for msg in msgs:\n",
    "        print(msg)\n",
    "        send_msg.append(msg)\n",
    "        \n",
    "    if len(send_msg) == len(msg): msgs.clear()\n",
    "    \n",
    "    print('\\n\\nFollowing messages have been send:\\n')\n",
    "    for msg in send_msg:\n",
    "        print(msg)\n",
    "        \n",
    "show_messages(msgs.copy())\n",
    "print('\\norg_list', msgs, '\\nother_list:', send_msg)"
   ]
  },
  {
   "cell_type": "markdown",
   "metadata": {},
   "source": [
    "### 8-12. Sandwiches: \n",
    "\n",
    "Write a function that accepts a list of items a person wants on a sandwich. The function should have one parameter that collects as many items as the function call provides, and it should print a summary of the sandwich that’s being ordered. Call the function three times, using a different number of arguments each time."
   ]
  },
  {
   "cell_type": "code",
   "execution_count": 23,
   "metadata": {},
   "outputs": [
    {
     "name": "stdout",
     "output_type": "stream",
     "text": [
      "Ordered sandwich inludes, chicken, egg, chesse, lettuce, cucumber, "
     ]
    }
   ],
   "source": [
    "def sandwich_items(*items_list):\n",
    "\n",
    "    print(f'Ordered sandwich inludes', end=\", \")\n",
    "\n",
    "    for x in items_list:\n",
    "        print(f'{x}', end=\", \")\n",
    "\n",
    "sandwich_items('chicken', 'egg', 'chesse', 'lettuce', 'cucumber')"
   ]
  },
  {
   "cell_type": "markdown",
   "metadata": {},
   "source": [
    "### 8-13. User Profile: \n",
    "\n",
    "Start with a copy of user_profile.py from page 149. Build a profile of yourself by calling build_profile(), using your first and last names\n",
    "and three other key-value pairs that describe you."
   ]
  },
  {
   "cell_type": "code",
   "execution_count": 24,
   "metadata": {},
   "outputs": [
    {
     "name": "stdout",
     "output_type": "stream",
     "text": [
      "{'age': 22, 'learns': 'python', 'prof': 'Data Scientist', 'first_name': 'saleem', 'last_name': 'raza'}\n"
     ]
    }
   ],
   "source": [
    "def build_profile(first, last, **user_info):\n",
    "    user_info['first_name'] = first\n",
    "    user_info['last_name'] = last\n",
    "    \n",
    "    return user_info\n",
    "\n",
    "user_profile = build_profile('saleem', 'raza', age=22, learns='python', \n",
    "                             prof='Data Scientist')\n",
    "\n",
    "print(user_profile)"
   ]
  },
  {
   "cell_type": "markdown",
   "metadata": {},
   "source": [
    "### 8-14. Cars: \n",
    "    \n",
    "Write a function that stores information about a car in a dictionary. The function should always receive a manufacturer and a model name. It\n",
    "should then accept an arbitrary number of keyword arguments. Call the function with the required information and two other name-value pairs, such as a\n",
    "color or an optional feature. Your function should work for a call like this one:\n",
    "\n",
    "`car = make_car('subaru', 'outback', color='blue', tow_package=True)`\n",
    "\n",
    "Print the dictionary that’s returned to make sure all the information was\n",
    "stored correctly."
   ]
  },
  {
   "cell_type": "code",
   "execution_count": 25,
   "metadata": {},
   "outputs": [
    {
     "data": {
      "text/plain": [
       "{'color': 'blue', 'tow_package': True, 'manf': 'subaru', 'model': 'outback'}"
      ]
     },
     "execution_count": 25,
     "metadata": {},
     "output_type": "execute_result"
    }
   ],
   "source": [
    "def make_car(manf, model, **car):\n",
    "    car['manf'] = manf\n",
    "    car['model'] = model\n",
    "    \n",
    "    return car\n",
    "    \n",
    "\n",
    "car = make_car('subaru', 'outback', color='blue', tow_package=True)\n",
    "car"
   ]
  },
  {
   "cell_type": "markdown",
   "metadata": {},
   "source": [
    "### 8-15. Printing Models: \n",
    "\n",
    "Put the functions for the example printing_models.py in a\n",
    "separate file called printing_functions.py. Write an import statement at the top\n",
    "of printing_models.py, and modify the file to use the imported functions."
   ]
  },
  {
   "cell_type": "code",
   "execution_count": 26,
   "metadata": {},
   "outputs": [
    {
     "name": "stdout",
     "output_type": "stream",
     "text": [
      "Hello from printing_function.py\n"
     ]
    }
   ],
   "source": [
    "%run printing_models.py"
   ]
  },
  {
   "cell_type": "markdown",
   "metadata": {},
   "source": [
    "### 8-16. Imports: \n",
    "\n",
    "Using a program you wrote that has one function in it, store that\n",
    "function in a separate file. Import the function into your main program file, and\n",
    "call the function using each of these approaches:\n",
    "\n",
    "```import module_name\n",
    "from module_name import function_name\n",
    "from module_name import function_name as fn\n",
    "import module_name as mn\n",
    "from module_name import *```"
   ]
  },
  {
   "cell_type": "code",
   "execution_count": 27,
   "metadata": {},
   "outputs": [
    {
     "name": "stdout",
     "output_type": "stream",
     "text": [
      "Hello from printing_function.py\n"
     ]
    }
   ],
   "source": [
    "import printing_functions\n",
    "\n",
    "printing_functions.printing()"
   ]
  },
  {
   "cell_type": "code",
   "execution_count": 28,
   "metadata": {},
   "outputs": [
    {
     "name": "stdout",
     "output_type": "stream",
     "text": [
      "Hello from printing_function.py\n"
     ]
    }
   ],
   "source": [
    "from printing_functions import printing\n",
    "\n",
    "printing()"
   ]
  },
  {
   "cell_type": "code",
   "execution_count": 29,
   "metadata": {},
   "outputs": [
    {
     "name": "stdout",
     "output_type": "stream",
     "text": [
      "Hello from printing_function.py\n"
     ]
    }
   ],
   "source": [
    "from printing_functions import printing as prt\n",
    "\n",
    "prt()"
   ]
  },
  {
   "cell_type": "code",
   "execution_count": 30,
   "metadata": {},
   "outputs": [
    {
     "name": "stdout",
     "output_type": "stream",
     "text": [
      "Hello from printing_function.py\n"
     ]
    }
   ],
   "source": [
    "import printing_functions as print_func\n",
    "\n",
    "print_func.printing()"
   ]
  },
  {
   "cell_type": "code",
   "execution_count": 31,
   "metadata": {},
   "outputs": [
    {
     "name": "stdout",
     "output_type": "stream",
     "text": [
      "Hello from printing_function.py\n"
     ]
    }
   ],
   "source": [
    "from printing_functions import *\n",
    "\n",
    "printing()"
   ]
  }
 ],
 "metadata": {
  "kernelspec": {
   "display_name": "Python 3",
   "language": "python",
   "name": "python3"
  },
  "language_info": {
   "codemirror_mode": {
    "name": "ipython",
    "version": 3
   },
   "file_extension": ".py",
   "mimetype": "text/x-python",
   "name": "python",
   "nbconvert_exporter": "python",
   "pygments_lexer": "ipython3",
   "version": "3.8.5"
  }
 },
 "nbformat": 4,
 "nbformat_minor": 4
}
