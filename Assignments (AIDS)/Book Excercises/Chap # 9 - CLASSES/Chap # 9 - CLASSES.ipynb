{
 "cells": [
  {
   "cell_type": "markdown",
   "metadata": {},
   "source": [
    "# CHAPTER NO 1 - CLASSES\n",
    "\n",
    "### Book: Python Crash Course By ERIC MATTHES"
   ]
  },
  {
   "cell_type": "markdown",
   "metadata": {},
   "source": [
    "### 9-1. Restaurant: \n",
    "\n",
    "Make a class called Restaurant. The `__init__()` method for\n",
    "Restaurant should store two attributes: a restaurant_name and a cuisine_type.\n",
    "Make a method called describe_restaurant() that prints these two pieces of\n",
    "information, and a method called open_restaurant() that prints a message indicating that the restaurant is open.\n",
    "Make an instance called restaurant from your class. Print the two attributes individually, and then call both methods."
   ]
  },
  {
   "cell_type": "code",
   "execution_count": 1,
   "metadata": {},
   "outputs": [],
   "source": [
    "class Restaurant:\n",
    "    def __init__(self, res_name, cuisine_type):\n",
    "        self.res_name = res_name\n",
    "        self.cuisine_type = cuisine_type\n",
    "    def des_res(self):\n",
    "        print('Restaurant:', self.res_name, 'Cuisine Type:', self.cuisine_type)\n",
    "        \n",
    "    def open_res(self):\n",
    "        print('The restaurant is open.')"
   ]
  },
  {
   "cell_type": "code",
   "execution_count": 3,
   "metadata": {},
   "outputs": [
    {
     "name": "stdout",
     "output_type": "stream",
     "text": [
      "Restaurant: Abc Restaurant Cuisine Type: Xyz\n"
     ]
    }
   ],
   "source": [
    "res = Restaurant('Abc Restaurant', 'Xyz')\n",
    "res.des_res()"
   ]
  },
  {
   "cell_type": "markdown",
   "metadata": {},
   "source": [
    "### 9-2. Three Restaurants: \n",
    "\n",
    "Start with your class from Exercise 9-1. Create three\n",
    "different instances from the class, and call describe_restaurant() for each\n",
    "instance."
   ]
  },
  {
   "cell_type": "code",
   "execution_count": 4,
   "metadata": {},
   "outputs": [
    {
     "name": "stdout",
     "output_type": "stream",
     "text": [
      "Restaurant: Abc Restaurant Cuisine Type: Xyz\n",
      "Restaurant: Abc Restaurant Cuisine Type: Xyz\n",
      "Restaurant: Abc Restaurant Cuisine Type: Xyz\n"
     ]
    }
   ],
   "source": [
    "res = Restaurant('Abc Restaurant', 'Xyz')\n",
    "res.des_res()\n",
    "\n",
    "res2 = Restaurant('Abc Restaurant', 'Xyz')\n",
    "res2.des_res()\n",
    "\n",
    "res3 = Restaurant('Abc Restaurant', 'Xyz')\n",
    "res3.des_res()"
   ]
  },
  {
   "cell_type": "markdown",
   "metadata": {},
   "source": [
    "### 9-3. Users: \n",
    "\n",
    "Make a class called User. Create two attributes called first_name\n",
    "and last_name, and then create several other attributes that are typically stored\n",
    "in a user profile. Make a method called describe_user() that prints a summary\n",
    "of the user’s information. Make another method called greet_user() that prints\n",
    "a personalized greeting to the user.\n",
    "Create several instances representing different users, and call both methods\n",
    "for each user."
   ]
  },
  {
   "cell_type": "code",
   "execution_count": 6,
   "metadata": {},
   "outputs": [],
   "source": [
    "class User:\n",
    "    def __init__(self, fname, lname, age):\n",
    "        self.fname = fname\n",
    "        self.lname = lname\n",
    "        self.age = age\n",
    "        \n",
    "    def des_user(self):\n",
    "        print('first name', self.fname, 'last name', self.lname, 'age:', self.age)\n",
    "        \n",
    "    def greet_user(self):\n",
    "        print('Hello', self.fname, self.lname)"
   ]
  },
  {
   "cell_type": "code",
   "execution_count": 7,
   "metadata": {},
   "outputs": [
    {
     "name": "stdout",
     "output_type": "stream",
     "text": [
      "first name Ahmed last name Efendi age: 32\n",
      "first name Hassan last name Efendi age: 65\n",
      "Hello Ahmed Efendi\n",
      "Hello Hassan Efendi\n"
     ]
    }
   ],
   "source": [
    "user1 = User('Ahmed', 'Efendi', 32)\n",
    "user2 = User('Hassan', 'Efendi', 65)\n",
    "\n",
    "user1.des_user()\n",
    "user2.des_user()\n",
    "\n",
    "user1.greet_user()\n",
    "user2.greet_user()"
   ]
  },
  {
   "cell_type": "markdown",
   "metadata": {},
   "source": [
    "### 9-4. Number Served: \n",
    "\n",
    "Start with your program from Exercise 9-1 (page 162).\n",
    "Add an attribute called `number_served` with a default value of 0. Create an\n",
    "instance called restaurant from this class. Print the number of customers the\n",
    "restaurant has served, and then change this value and print it again.\n",
    "\n",
    "\n",
    "Add a method called `set_number_served()` that lets you set the number\n",
    "of customers that have been served. Call this method with a new number and\n",
    "print the value again.\n",
    "\n",
    "\n",
    "Add a method called increment_number_served() that lets you increment\n",
    "the number of customers who’ve been served. Call this method with any number you like that could represent how many customers were served in, say, a\n",
    "day of business."
   ]
  },
  {
   "cell_type": "code",
   "execution_count": 11,
   "metadata": {},
   "outputs": [],
   "source": [
    "class Restaurant:\n",
    "    def __init__(self, res_name, cuisine_type):\n",
    "        self.res_name = res_name\n",
    "        self.cuisine_type = cuisine_type\n",
    "        self.number_served = 0\n",
    "        \n",
    "    def des_res(self):\n",
    "        print('Restaurant:', self.res_name, 'Cuisine Type:', self.cuisine_type)\n",
    "        \n",
    "    def open_res(self):\n",
    "        print('The restaurant is open.')"
   ]
  },
  {
   "cell_type": "code",
   "execution_count": 12,
   "metadata": {},
   "outputs": [
    {
     "name": "stdout",
     "output_type": "stream",
     "text": [
      "0\n",
      "13\n"
     ]
    }
   ],
   "source": [
    "res = Restaurant('Abc Restaurant', 'Xyz')\n",
    "print(res.number_served)\n",
    "\n",
    "res.number_served = 13\n",
    "\n",
    "print(res.number_served)"
   ]
  },
  {
   "cell_type": "code",
   "execution_count": 14,
   "metadata": {},
   "outputs": [],
   "source": [
    "class Restaurant:\n",
    "    def __init__(self, res_name, cuisine_type):\n",
    "        self.res_name = res_name\n",
    "        self.cuisine_type = cuisine_type\n",
    "        self.number_served = 0\n",
    "        \n",
    "    def des_res(self):\n",
    "        print('Restaurant:', self.res_name, 'Cuisine Type:', self.cuisine_type)\n",
    "        \n",
    "    def open_res(self):\n",
    "        print('The restaurant is open.')\n",
    "        \n",
    "    def set_number_served(self, ns):\n",
    "        self.number_served = ns"
   ]
  },
  {
   "cell_type": "code",
   "execution_count": 15,
   "metadata": {},
   "outputs": [
    {
     "name": "stdout",
     "output_type": "stream",
     "text": [
      "0\n",
      "10\n"
     ]
    }
   ],
   "source": [
    "res = Restaurant('Abc Restaurant', 'Xyz')\n",
    "\n",
    "print(res.number_served)\n",
    "\n",
    "res.set_number_served(10)\n",
    "\n",
    "print(res.number_served)"
   ]
  },
  {
   "cell_type": "code",
   "execution_count": 16,
   "metadata": {},
   "outputs": [],
   "source": [
    "class Restaurant:\n",
    "    def __init__(self, res_name, cuisine_type):\n",
    "        self.res_name = res_name\n",
    "        self.cuisine_type = cuisine_type\n",
    "        self.number_served = 0\n",
    "        \n",
    "    def des_res(self):\n",
    "        print('Restaurant:', self.res_name, 'Cuisine Type:', self.cuisine_type)\n",
    "        \n",
    "    def open_res(self):\n",
    "        print('The restaurant is open.')\n",
    "        \n",
    "    def inc_number_served(self, ns):\n",
    "        self.number_served += ns"
   ]
  },
  {
   "cell_type": "code",
   "execution_count": 18,
   "metadata": {},
   "outputs": [
    {
     "name": "stdout",
     "output_type": "stream",
     "text": [
      "0\n",
      "10\n",
      "25\n"
     ]
    }
   ],
   "source": [
    "res = Restaurant('Abc Restaurant', 'Xyz')\n",
    "print(res.number_served)\n",
    "\n",
    "res.inc_number_served(10)\n",
    "print(res.number_served)\n",
    "\n",
    "res.inc_number_served(15)\n",
    "print(res.number_served)"
   ]
  },
  {
   "cell_type": "markdown",
   "metadata": {},
   "source": [
    "### 9-5. Login Attempts: \n",
    "\n",
    "Add an attribute called login_attempts to your User\n",
    "class from Exercise 9-3 (page 162). Write a method called `increment_login_attempts()` that increments the value of login_attempts by 1. Write another\n",
    "method called `reset_login_attempts()` that resets the value of login_attempts\n",
    "to 0.\n",
    "\n",
    "Make an instance of the User class and call `increment_login_attempts()`\n",
    "several times. Print the value of login_attempts to make sure it was incremented\n",
    "properly, and then call `reset_login_attempts()`. Print login_attempts again to\n",
    "make sure it was reset to 0."
   ]
  },
  {
   "cell_type": "code",
   "execution_count": 4,
   "metadata": {},
   "outputs": [],
   "source": [
    "class User:\n",
    "    \n",
    "    login_attempts = 0\n",
    "    \n",
    "    def __init__(self, fname, lname, age):\n",
    "        self.fname = fname\n",
    "        self.lname = lname\n",
    "        self.age = age\n",
    "        \n",
    "    def des_user(self):\n",
    "        print('first name', self.fname, 'last name', self.lname, 'age:', self.age)\n",
    "        \n",
    "    def greet_user(self):\n",
    "        print('Hello', self.fname, self.lname)\n",
    "        \n",
    "    def increment_login_attempts(self):\n",
    "        self.login_attempts += 1\n",
    "    \n",
    "    def reset_login_attempts(self):\n",
    "        self.login_attempts = 0"
   ]
  },
  {
   "cell_type": "code",
   "execution_count": 7,
   "metadata": {},
   "outputs": [
    {
     "name": "stdout",
     "output_type": "stream",
     "text": [
      "0\n",
      "2\n",
      "4\n",
      "0\n"
     ]
    }
   ],
   "source": [
    "user = User('Saleem', 'Bey', 22)\n",
    "\n",
    "print(user.login_attempts)\n",
    "\n",
    "user.increment_login_attempts()\n",
    "user.increment_login_attempts()\n",
    "\n",
    "print(user.login_attempts)\n",
    "\n",
    "user.increment_login_attempts()\n",
    "user.increment_login_attempts()\n",
    "\n",
    "print(user.login_attempts)\n",
    "\n",
    "user.reset_login_attempts()\n",
    "\n",
    "print(user.login_attempts)"
   ]
  },
  {
   "cell_type": "markdown",
   "metadata": {},
   "source": [
    "### 9-6. Ice Cream Stand: \n",
    "\n",
    "An ice cream stand is a specific kind of restaurant. Write\n",
    "a class called IceCreamStand that inherits from the Restaurant class you wrote\n",
    "in Exercise 9-1 (page 162) or Exercise 9-4 (page 167). Either version of\n",
    "the class will work; just pick the one you like better. Add an attribute called\n",
    "flavors that stores a list of ice cream flavors. Write a method that displays\n",
    "these flavors. Create an instance of IceCreamStand, and call this method."
   ]
  },
  {
   "cell_type": "code",
   "execution_count": 8,
   "metadata": {},
   "outputs": [],
   "source": [
    "class Restaurant:\n",
    "    def __init__(self, res_name, cuisine_type):\n",
    "        self.res_name = res_name\n",
    "        self.cuisine_type = cuisine_type\n",
    "    def des_res(self):\n",
    "        print('Restaurant:', self.res_name, 'Cuisine Type:', self.cuisine_type)\n",
    "        \n",
    "    def open_res(self):\n",
    "        print('The restaurant is open.')"
   ]
  },
  {
   "cell_type": "code",
   "execution_count": 9,
   "metadata": {},
   "outputs": [],
   "source": [
    "class IceCreamStand(Restaurant):\n",
    "    flavors = ['Chocolate', 'Mango', 'Orange']\n",
    "    \n",
    "    def disp_flavors(self):\n",
    "        print(self.flavors)"
   ]
  },
  {
   "cell_type": "code",
   "execution_count": 10,
   "metadata": {},
   "outputs": [
    {
     "name": "stdout",
     "output_type": "stream",
     "text": [
      "['Chocolate', 'Mango', 'Orange']\n"
     ]
    }
   ],
   "source": [
    "icecream = IceCreamStand('iceCream Resturant', 'Cuisine type')\n",
    "\n",
    "icecream.disp_flavors()"
   ]
  },
  {
   "cell_type": "markdown",
   "metadata": {},
   "source": [
    "### 9-7. Admin: \n",
    "\n",
    "An administrator is a special kind of user. Write a class called\n",
    "Admin that inherits from the User class you wrote in Exercise 9-3 (page 162)\n",
    "or Exercise 9-5 (page 167). Add an attribute, privileges, that stores a list\n",
    "of strings like \"can add post\", \"can delete post\", \"can ban user\", and so on.\n",
    "Write a method called show_privileges() that lists the administrator’s set of\n",
    "privileges. Create an instance of Admin, and call your method."
   ]
  },
  {
   "cell_type": "code",
   "execution_count": 14,
   "metadata": {},
   "outputs": [],
   "source": [
    "class Admin(User):\n",
    "\n",
    "    privileges = ['can add post', 'can delete post', 'can ban user']\n",
    "\n",
    "    def __init__(self, fname, lname, age):\n",
    "        self.fname = fname\n",
    "        self.lname = lname\n",
    "        self.age = age\n",
    "\n",
    "    def des_user(self):\n",
    "        print('first name', self.fname, 'last name', self.lname, 'age:', self.age)\n",
    "\n",
    "    def greet_user(self):\n",
    "        print('Hello', self.fname, self.lname)\n",
    "\n",
    "    def show_privileges(self):\n",
    "        for x in self.privileges:\n",
    "            print(x)"
   ]
  },
  {
   "cell_type": "code",
   "execution_count": 15,
   "metadata": {},
   "outputs": [
    {
     "name": "stdout",
     "output_type": "stream",
     "text": [
      "can add post\n",
      "can delete post\n",
      "can ban user\n"
     ]
    }
   ],
   "source": [
    "admin = Admin('Ahmed', 'Raza', 18)\n",
    "\n",
    "admin.show_privileges()"
   ]
  },
  {
   "cell_type": "markdown",
   "metadata": {},
   "source": [
    "### 9-8. Privileges: \n",
    "\n",
    "Write a separate Privileges class. The class should have one\n",
    "attribute, privileges, that stores a list of strings as described in Exercise 9-7.\n",
    "Move the `show_privileges()` method to this class. Make a Privileges instance\n",
    "as an attribute in the Admin class. Create a new instance of Admin and use your\n",
    "method to show its privileges."
   ]
  },
  {
   "cell_type": "code",
   "execution_count": 19,
   "metadata": {},
   "outputs": [],
   "source": [
    "class Privileges:\n",
    "    \n",
    "    privileges = ['can add post', 'can delete post', 'can ban user']\n",
    "    \n",
    "    def __init__(self):\n",
    "        pass\n",
    "\n",
    "    def show_privileges(self):\n",
    "        for x in self.privileges:\n",
    "            print(x)"
   ]
  },
  {
   "cell_type": "code",
   "execution_count": 20,
   "metadata": {},
   "outputs": [],
   "source": [
    "class Admin(User):\n",
    "\n",
    "    def __init__(self, fname, lname, age):\n",
    "        self.fname = fname\n",
    "        self.lname = lname\n",
    "        self.age = age\n",
    "        self.privileges = Privileges()\n",
    "        \n",
    "    def des_user(self):\n",
    "        print('first name', self.fname, 'last name', self.lname, 'age:', self.age)\n",
    "        \n",
    "    def greet_user(self):\n",
    "        print('Hello', self.fname, self.lname)"
   ]
  },
  {
   "cell_type": "code",
   "execution_count": 22,
   "metadata": {},
   "outputs": [
    {
     "name": "stdout",
     "output_type": "stream",
     "text": [
      "can add post\n",
      "can delete post\n",
      "can ban user\n"
     ]
    }
   ],
   "source": [
    "admin = Admin('Ahmed', 'Raza', 18)\n",
    "\n",
    "admin.privileges.show_privileges()"
   ]
  },
  {
   "cell_type": "markdown",
   "metadata": {},
   "source": [
    "### 9-9. Battery Upgrade: \n",
    "\n",
    "Use the final version of `electric_car.py` from this section.\n",
    "Add a method to the Battery class called `upgrade_battery()`. This method\n",
    "should check the battery size and set the capacity to 100 if it isn’t already.\n",
    "Make an electric car with a default battery size, call `get_range()` once, and\n",
    "then call `get_range()` a second time after upgrading the battery. You should\n",
    "see an increase in the car’s range."
   ]
  },
  {
   "cell_type": "code",
   "execution_count": 32,
   "metadata": {},
   "outputs": [],
   "source": [
    "class Car:\n",
    " \n",
    "    def __init__(self, make, model, year):\n",
    "        self.make = make\n",
    "        self.model = model\n",
    "        self.year = year\n",
    "        self.odometer_reading = 0\n",
    "\n",
    "    def get_descriptive_name(self):\n",
    "        long_name = f\"{self.year} {self.make} {self.model}\"\n",
    "        return long_name.title()"
   ]
  },
  {
   "cell_type": "code",
   "execution_count": 37,
   "metadata": {},
   "outputs": [],
   "source": [
    " class Battery:\n",
    "        \n",
    "    def __init__(self, battery_size=75):\n",
    "        self.battery_size = battery_size\n",
    "        \n",
    "    def describe_battery(self):\n",
    "        print(f\"This car has a {self.battery_size}-kWh battery.\")\n",
    "    \n",
    "    def upgrade_battery(self):\n",
    "        if self.battery_size < 100: self.battery_size = 100\n",
    "            \n",
    "    def get_range(self):\n",
    "        return self.battery_size"
   ]
  },
  {
   "cell_type": "code",
   "execution_count": 39,
   "metadata": {},
   "outputs": [],
   "source": [
    " class ElectricCar(Car):\n",
    "    \n",
    "    def __init__(self, make, model, year):\n",
    "        super().__init__(make, model, year)\n",
    "        self.battery = Battery()\n"
   ]
  },
  {
   "cell_type": "code",
   "execution_count": 40,
   "metadata": {},
   "outputs": [
    {
     "name": "stdout",
     "output_type": "stream",
     "text": [
      "75\n",
      "100\n"
     ]
    }
   ],
   "source": [
    "my_tesla = ElectricCar('tesla', 'models', 2019)\n",
    "\n",
    "print(my_tesla.battery.get_range())\n",
    "\n",
    "my_tesla.battery.upgrade_battery()\n",
    "my_tesla.battery.upgrade_battery()\n",
    "\n",
    "print(my_tesla.battery.get_range())"
   ]
  },
  {
   "cell_type": "markdown",
   "metadata": {},
   "source": [
    "### 9-10. Imported Restaurant: \n",
    "\n",
    "Using your latest Restaurant class, store it in a module. Make a separate file that imports Restaurant. Make a Restaurant instance,\n",
    "and call one of Restaurant’s methods to show that the import statement is working properly."
   ]
  },
  {
   "cell_type": "code",
   "execution_count": 1,
   "metadata": {},
   "outputs": [
    {
     "name": "stdout",
     "output_type": "stream",
     "text": [
      "10\n"
     ]
    }
   ],
   "source": [
    "%run call_restaurant.py"
   ]
  },
  {
   "cell_type": "markdown",
   "metadata": {},
   "source": [
    "### 9-11. Imported Admin: \n",
    "\n",
    "Start with your work from Exercise 9-8 (page 173).\n",
    "Store the classes User, Privileges, and Admin in one module. Create a separate file, make an Admin instance, and call show_privileges() to show that\n",
    "everything is working correctly."
   ]
  },
  {
   "cell_type": "code",
   "execution_count": 2,
   "metadata": {},
   "outputs": [
    {
     "name": "stdout",
     "output_type": "stream",
     "text": [
      "can add post\n",
      "can delete post\n",
      "can ban user\n"
     ]
    }
   ],
   "source": [
    "%run call_users.py"
   ]
  },
  {
   "cell_type": "markdown",
   "metadata": {},
   "source": [
    "### 9-12. Multiple Modules: \n",
    "\n",
    "Store the User class in one module, and store the\n",
    "Privileges and Admin classes in a separate module. In a separate file, create\n",
    "an Admin instance and call show_privileges() to show that everything is still\n",
    "working correctly."
   ]
  },
  {
   "cell_type": "code",
   "execution_count": 3,
   "metadata": {},
   "outputs": [
    {
     "name": "stdout",
     "output_type": "stream",
     "text": [
      "can add post\n",
      "can delete post\n",
      "can ban user\n"
     ]
    }
   ],
   "source": [
    "%run call_users.py"
   ]
  },
  {
   "cell_type": "markdown",
   "metadata": {},
   "source": [
    "### 9-13. Dice: \n",
    "\n",
    "Make a class Die with one attribute called sides, which has a default\n",
    "value of 6. Write a method called roll_die() that prints a random number\n",
    "between 1 and the number of sides the die has. Make a 6-sided die and roll it\n",
    "10 times. Make a 10-sided die and a 20-sided die. Roll each die 10 times.\n"
   ]
  },
  {
   "cell_type": "code",
   "execution_count": 11,
   "metadata": {},
   "outputs": [
    {
     "name": "stdout",
     "output_type": "stream",
     "text": [
      "5\n",
      "3\n",
      "2\n",
      "6\n",
      "5\n",
      "4\n",
      "3\n",
      "1\n",
      "1\n",
      "6\n"
     ]
    }
   ],
   "source": [
    "import random \n",
    "\n",
    "class Die:\n",
    "\n",
    "    sides = 6\n",
    "\n",
    "    def roll_die(self):\n",
    "        no = random.randint(1, self.sides)\n",
    "        print(no)\n",
    "        \n",
    "        \n",
    "die = Die()\n",
    "\n",
    "for x in range(10):\n",
    "    die.roll_die()"
   ]
  },
  {
   "cell_type": "code",
   "execution_count": 12,
   "metadata": {},
   "outputs": [
    {
     "name": "stdout",
     "output_type": "stream",
     "text": [
      "8\n",
      "14\n",
      "20\n",
      "7\n",
      "5\n",
      "1\n",
      "10\n",
      "3\n",
      "3\n",
      "2\n"
     ]
    }
   ],
   "source": [
    "import random \n",
    "\n",
    "class Die:\n",
    "\n",
    "    sides = 20\n",
    "\n",
    "    def roll_die(self):\n",
    "        no = random.randint(1, self.sides)\n",
    "        print(no)\n",
    "        \n",
    "        \n",
    "die = Die()\n",
    "\n",
    "for x in range(10):\n",
    "    die.roll_die()"
   ]
  },
  {
   "cell_type": "markdown",
   "metadata": {},
   "source": [
    "### 9-14. Lottery: \n",
    "\n",
    "Make a list or tuple containing a series of 10 numbers and\n",
    "five letters. Randomly select four numbers or letters from the list and print a\n",
    "message saying that any ticket matching these four numbers or letters wins a\n",
    "prize."
   ]
  },
  {
   "cell_type": "code",
   "execution_count": 20,
   "metadata": {},
   "outputs": [
    {
     "name": "stdout",
     "output_type": "stream",
     "text": [
      "Any ticket matching \"06l7\" wins a prize.\n"
     ]
    }
   ],
   "source": [
    "import random\n",
    "\n",
    "no_let = [0, 1, 2, 3, 4, 5, 6, 7, 8, 9, 'l', 'o', 't', 'e', 'f']\n",
    "\n",
    "random.shuffle(no_let)\n",
    "\n",
    "ticket_no = [str(x) for x in no_let[0:4]]\n",
    "\n",
    "ticket_no = ''.join(ticket_no)\n",
    "\n",
    "print(f'Any ticket matching \"{ticket_no}\" wins a prize.')"
   ]
  },
  {
   "cell_type": "code",
   "execution_count": null,
   "metadata": {},
   "outputs": [],
   "source": [
    "my_ticket "
   ]
  },
  {
   "cell_type": "markdown",
   "metadata": {},
   "source": [
    "### Extras: Accounts\n",
    "\n",
    "\n",
    "* Login validate"
   ]
  },
  {
   "cell_type": "code",
   "execution_count": 76,
   "metadata": {},
   "outputs": [],
   "source": [
    "class Users:\n",
    "    \n",
    "    users = [\n",
    "        {\n",
    "        '_id': 'asdf123',\n",
    "        'name': 'Saleem',\n",
    "        'email': 'salim@gmail.com',\n",
    "        'password': 'salim123'\n",
    "        },\n",
    "        \n",
    "        {\n",
    "        '_id': 'qwer123',\n",
    "        'name': 'Ahmed',\n",
    "        'email': 'ahmed@gmail.com',\n",
    "        'password': 'ahmed123'\n",
    "        },\n",
    "        \n",
    "        {\n",
    "        '_id': 'zxcv123',\n",
    "        'name': 'Yousuf',\n",
    "        'email': 'yousuf@gmail.com',\n",
    "        'password': 'yousuf123'\n",
    "        },\n",
    "    ]\n",
    "    \n",
    "    session = {}\n",
    "        \n",
    "    def validateEmptyField(self, field):\n",
    "        if (field.strip() != ''): \n",
    "            return True\n",
    "        \n",
    "        print('Please fill all the required fields')\n",
    "        return False\n",
    "    \n",
    "    def validateEmail(self, email):\n",
    "        pattern = \"\"\n",
    "        \n",
    "        if self.validateEmptyField(email): \n",
    "            return True\n",
    "    \n",
    "    def validatePassword(self, password):\n",
    "        if self.validateEmptyField(password):\n",
    "            return True\n",
    "    \n",
    "    def login(self, email='', password=''):\n",
    "        if self.validateEmail(email) and self.validatePassword(email):\n",
    "            for user in self.users:\n",
    "#                 print(user)\n",
    "                if (user['email'] == email and user['password'] == password):\n",
    "                    self.session['uid'] = user['_id']\n",
    "                    print('Welcome', user['name'])\n",
    "                    break\n",
    "        \n",
    "        else: \n",
    "            print('Credentials does not match.')\n",
    "        \n",
    "    def logout(self):\n",
    "            self.session.clear()\n",
    "            \n",
    "    def is_login(self):\n",
    "        if 'uid' in self.session:\n",
    "            return True\n",
    "        else: return False"
   ]
  },
  {
   "cell_type": "code",
   "execution_count": 81,
   "metadata": {},
   "outputs": [],
   "source": [
    "user = Users()"
   ]
  },
  {
   "cell_type": "code",
   "execution_count": 82,
   "metadata": {},
   "outputs": [
    {
     "name": "stdout",
     "output_type": "stream",
     "text": [
      "Welcome Saleem\n"
     ]
    }
   ],
   "source": [
    "user.login('salim@gmail.com', 'salim123')"
   ]
  },
  {
   "cell_type": "code",
   "execution_count": 83,
   "metadata": {},
   "outputs": [
    {
     "data": {
      "text/plain": [
       "True"
      ]
     },
     "execution_count": 83,
     "metadata": {},
     "output_type": "execute_result"
    }
   ],
   "source": [
    "user.is_login()"
   ]
  },
  {
   "cell_type": "code",
   "execution_count": 84,
   "metadata": {},
   "outputs": [],
   "source": [
    "user.logout()"
   ]
  },
  {
   "cell_type": "code",
   "execution_count": 85,
   "metadata": {},
   "outputs": [
    {
     "data": {
      "text/plain": [
       "False"
      ]
     },
     "execution_count": 85,
     "metadata": {},
     "output_type": "execute_result"
    }
   ],
   "source": [
    "user.is_login()"
   ]
  },
  {
   "cell_type": "code",
   "execution_count": null,
   "metadata": {},
   "outputs": [],
   "source": []
  }
 ],
 "metadata": {
  "kernelspec": {
   "display_name": "Python 3",
   "language": "python",
   "name": "python3"
  },
  "language_info": {
   "codemirror_mode": {
    "name": "ipython",
    "version": 3
   },
   "file_extension": ".py",
   "mimetype": "text/x-python",
   "name": "python",
   "nbconvert_exporter": "python",
   "pygments_lexer": "ipython3",
   "version": "3.8.5"
  }
 },
 "nbformat": 4,
 "nbformat_minor": 4
}
