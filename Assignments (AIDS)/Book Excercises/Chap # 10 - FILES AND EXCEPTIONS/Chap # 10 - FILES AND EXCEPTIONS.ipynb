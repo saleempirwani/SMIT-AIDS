{
 "cells": [
  {
   "cell_type": "markdown",
   "metadata": {},
   "source": [
    "# CHAPTER NO 10 - FILES AND EXCEPTIONS\n",
    "\n",
    "### Book: Python Crash Course By ERIC MATTHES"
   ]
  },
  {
   "cell_type": "markdown",
   "metadata": {},
   "source": [
    "### 10-1. Learning Python: \n",
    "\n",
    "Open a blank file in your text editor and write a few\n",
    "lines summarizing what you’ve learned about Python so far. Start each line\n",
    "with the phrase In Python you can. . . . Save the `learning_python.txt` in\n",
    "the same directory as your exercises from this chapter. \n",
    "\n",
    "Write a program that reads the file and prints what you wrote three times. Print the contents once by\n",
    "reading in the entire file, once by looping over the file object, and once by storing the lines in a list and then working with them outside the with block."
   ]
  },
  {
   "cell_type": "code",
   "execution_count": 1,
   "metadata": {},
   "outputs": [
    {
     "name": "stdout",
     "output_type": "stream",
     "text": [
      "I learned Python\n",
      "Hello World!\n",
      "Pakistan Zindabad\n",
      "Izmir in Turkey\n",
      "Blue Sea in Turkey\n",
      "Smart people not always smart\n"
     ]
    }
   ],
   "source": [
    "f = open('learning_python.txt')\n",
    "r = f.read()\n",
    "print(r)\n",
    "f.close()"
   ]
  },
  {
   "cell_type": "code",
   "execution_count": 2,
   "metadata": {},
   "outputs": [
    {
     "name": "stdout",
     "output_type": "stream",
     "text": [
      "I learned Python\n",
      "\n",
      "Hello World!\n",
      "\n",
      "Pakistan Zindabad\n",
      "\n",
      "Izmir in Turkey\n",
      "\n",
      "Blue Sea in Turkey\n",
      "\n",
      "Smart people not always smart\n"
     ]
    }
   ],
   "source": [
    "f = open('learning_python.txt')\n",
    "for x in f:\n",
    "    print(x)"
   ]
  },
  {
   "cell_type": "code",
   "execution_count": 3,
   "metadata": {},
   "outputs": [
    {
     "data": {
      "text/plain": [
       "['I learned Python\\n',\n",
       " 'Hello World!\\n',\n",
       " 'Pakistan Zindabad\\n',\n",
       " 'Izmir in Turkey\\n',\n",
       " 'Blue Sea in Turkey\\n',\n",
       " 'Smart people not always smart']"
      ]
     },
     "execution_count": 3,
     "metadata": {},
     "output_type": "execute_result"
    }
   ],
   "source": [
    "f = open('learning_python.txt')\n",
    "r = list(f)\n",
    "r"
   ]
  },
  {
   "cell_type": "markdown",
   "metadata": {},
   "source": [
    "### 10-2. Learning C: \n",
    "\n",
    "You can use the replace() method to replace any word in a string with a different word. Here’s a quick example showing how to replace\n",
    "`dog` with `cat` in a sentence:\n",
    "\n",
    "```message = \"I really like dogs.\"\n",
    "message.replace('dog', 'cat')\n",
    "'I really like cats.```\n",
    "\n",
    "Read in each line from the file you just created, learning_python.txt, and\n",
    "replace the word Python with the name of another language, such as C. Print\n",
    "each modified line to the screen."
   ]
  },
  {
   "cell_type": "code",
   "execution_count": 6,
   "metadata": {},
   "outputs": [
    {
     "name": "stdout",
     "output_type": "stream",
     "text": [
      "I learned C\n",
      "Hello World!\n",
      "Pakistan Zindabad\n",
      "Izmir in Turkey\n",
      "Blue Sea in Turkey\n",
      "Smart people not always smart\n"
     ]
    }
   ],
   "source": [
    "with open('./learning_python.txt') as file:\n",
    "    content = file.read().replace('Python', 'C')\n",
    "    print(content)"
   ]
  },
  {
   "cell_type": "markdown",
   "metadata": {},
   "source": [
    "### 10-3. Guest: \n",
    "\n",
    "Write a program that prompts the user for their name. When they\n",
    "respond, write their name to a file called `guest.txt`."
   ]
  },
  {
   "cell_type": "code",
   "execution_count": 9,
   "metadata": {},
   "outputs": [
    {
     "name": "stdout",
     "output_type": "stream",
     "text": [
      "Enter your name: Ahmed\n"
     ]
    }
   ],
   "source": [
    "name = input('Enter your name: ')\n",
    "\n",
    "with open('./guest.txt', 'a') as file:\n",
    "    file.write(name + '\\n')"
   ]
  },
  {
   "cell_type": "markdown",
   "metadata": {},
   "source": [
    "### 10-4. Guest Book: \n",
    "\n",
    "Write a while loop that prompts users for their name. When\n",
    "they enter their name, print a greeting to the screen and add a line recording\n",
    "their visit in a file called guest_book.txt. Make sure each entry appears on a\n",
    "new line in the file."
   ]
  },
  {
   "cell_type": "code",
   "execution_count": 15,
   "metadata": {},
   "outputs": [
    {
     "name": "stdout",
     "output_type": "stream",
     "text": [
      "\n",
      "Enter your name or \n",
      "Press \"q\" for quit\n",
      "Your choice: \n",
      "Saleeem\n",
      "Hello Saleeem\n",
      "\n",
      "Enter your name or \n",
      "Press \"q\" for quit\n",
      "Your choice: \n",
      "Ahmed\n",
      "Hello Ahmed\n",
      "\n",
      "Enter your name or \n",
      "Press \"q\" for quit\n",
      "Your choice: \n",
      "q\n"
     ]
    }
   ],
   "source": [
    "import datetime\n",
    "\n",
    "menu = \"\"\"\n",
    "Enter your name or \n",
    "Press \"q\" for quit\n",
    "Your choice: \n",
    "\"\"\"\n",
    "while True:\n",
    "        choice = input(menu)\n",
    "        if choice == 'q':\n",
    "            break\n",
    "        print('Hello ' + choice)\n",
    "        with open('./guest_book.txt', 'a') as file:\n",
    "            file.write(f'{choice} visit at {datetime.datetime.now()} \\n')\n",
    "        "
   ]
  },
  {
   "cell_type": "markdown",
   "metadata": {},
   "source": [
    "### 10-5. Programming Poll: \n",
    "\n",
    "Write a while loop that asks people why they like\n",
    "programming. Each time someone enters a reason, add their reason to a file\n",
    "that stores all the responses."
   ]
  },
  {
   "cell_type": "code",
   "execution_count": 20,
   "metadata": {},
   "outputs": [
    {
     "name": "stdout",
     "output_type": "stream",
     "text": [
      "Why you like programming, enter your reason: beacause of scope\n",
      "Why you like programming, enter your reason: q\n"
     ]
    }
   ],
   "source": [
    "while True:\n",
    "        reason = input('Why you like programming, enter your reason: ')\n",
    "\n",
    "        if reason == 'q':\n",
    "            break\n",
    "\n",
    "        with open('./responses.txt', 'a') as file:\n",
    "            file.write(reason + '\\n')"
   ]
  },
  {
   "cell_type": "markdown",
   "metadata": {},
   "source": [
    "### 10-6. Addition: \n",
    "\n",
    "One common problem when prompting for numerical input\n",
    "occurs when people provide text instead of numbers. When you try to convert\n",
    "the input to an int, you’ll get a ValueError. Write a program that prompts for\n",
    "two numbers. Add them together and print the result. Catch the ValueError if\n",
    "either input value is not a number, and print a friendly error message. Test your\n",
    "program by entering two numbers and then by entering some text instead of a\n",
    "number."
   ]
  },
  {
   "cell_type": "code",
   "execution_count": 21,
   "metadata": {},
   "outputs": [
    {
     "name": "stdout",
     "output_type": "stream",
     "text": [
      "Enter no1: 4\n",
      "Enter no2: 5\n",
      "9\n"
     ]
    }
   ],
   "source": [
    "try:\n",
    "    a = int(input('Enter no1: '))\n",
    "    b = int(input('Enter no2: '))\n",
    "    print(a+b)\n",
    "    \n",
    "except ValueError:\n",
    "    print('Please enter numbers not string')"
   ]
  },
  {
   "cell_type": "code",
   "execution_count": 22,
   "metadata": {},
   "outputs": [
    {
     "name": "stdout",
     "output_type": "stream",
     "text": [
      "Enter no1: saleem\n",
      "Please enter numbers not string\n"
     ]
    }
   ],
   "source": [
    "try:\n",
    "    a = int(input('Enter no1: '))\n",
    "    b = int(input('Enter no2: '))\n",
    "    print(a+b)\n",
    "    \n",
    "except ValueError:\n",
    "    print('Please enter numbers not string')"
   ]
  },
  {
   "cell_type": "markdown",
   "metadata": {},
   "source": [
    "### 10-7. Addition Calculator: \n",
    "    \n",
    "Wrap your code from Exercise 10-6 in a while loop\n",
    "so the user can continue entering numbers even if they make a mistake and\n",
    "enter text instead of a number."
   ]
  },
  {
   "cell_type": "code",
   "execution_count": 31,
   "metadata": {},
   "outputs": [
    {
     "name": "stdout",
     "output_type": "stream",
     "text": [
      "\n",
      "a. Enter numbers\n",
      "b. quit\n",
      "Your choice: a\n",
      "\n",
      "Enter no1: 5\n",
      "Enter no2: 8\n",
      "13\n",
      "\n",
      "a. Enter numbers\n",
      "b. quit\n",
      "Your choice: a\n",
      "\n",
      "Enter no1: ali\n",
      "Please enter numbers not string\n",
      "\n",
      "a. Enter numbers\n",
      "b. quit\n",
      "Your choice: q\n"
     ]
    }
   ],
   "source": [
    "menu = \"\"\"\n",
    "a. Enter numbers\n",
    "b. quit\n",
    "Your choice: \"\"\"\n",
    "\n",
    "while True:\n",
    "    ch = input(menu)\n",
    "    \n",
    "    if ch == 'a':\n",
    "        try:\n",
    "            a = int(input('\\nEnter no1: '))\n",
    "            b = int(input('Enter no2: '))\n",
    "            print(a + b)\n",
    "        \n",
    "        except ValueError:\n",
    "            print('Please enter numbers not string')\n",
    "    else:\n",
    "        break"
   ]
  },
  {
   "cell_type": "markdown",
   "metadata": {},
   "source": [
    "### 10-8. Cats and Dogs: \n",
    "\n",
    "Make two files, cats.txt and dogs.txt. Store at least three\n",
    "names of cats in the first file and three names of dogs in the second file. Write\n",
    "a program that tries to read these files and print the contents of the file to the\n",
    "screen. Wrap your code in a try-except block to catch the FileNotFound error,\n",
    "and print a friendly message if a file is missing. Move one of the files to a different location on your system, and make sure the code in the except block\n",
    "executes properly."
   ]
  },
  {
   "cell_type": "code",
   "execution_count": 2,
   "metadata": {},
   "outputs": [
    {
     "name": "stdout",
     "output_type": "stream",
     "text": [
      "Yoda\n",
      "Kity\n",
      "Melissa\n",
      "\n",
      "Some file not found\n"
     ]
    }
   ],
   "source": [
    "try:\n",
    "    with open('./cat.txt') as file:\n",
    "        content = file.read()\n",
    "        print(content)\n",
    "    with open('./dog1.txt') as file:\n",
    "        content = file.read()\n",
    "        print(content)\n",
    "except FileNotFoundError:\n",
    "    print('\\nSome file not found')"
   ]
  },
  {
   "cell_type": "markdown",
   "metadata": {},
   "source": [
    "### 10-9. Silent Cats and Dogs: \n",
    "\n",
    "Modify your except block in Exercise 10-8 to fail silently if either file is missing."
   ]
  },
  {
   "cell_type": "code",
   "execution_count": 3,
   "metadata": {},
   "outputs": [
    {
     "name": "stdout",
     "output_type": "stream",
     "text": [
      "Yoda\n",
      "Kity\n",
      "Melissa\n",
      "\n",
      "Some file not found\n"
     ]
    }
   ],
   "source": [
    "try:\n",
    "    with open('./cat.txt') as file:\n",
    "        content = file.read()\n",
    "        print(content)\n",
    "    with open('./dog1.txt') as file:\n",
    "        content = file.read()\n",
    "        print(content)\n",
    "except FileNotFoundError:\n",
    "    print('\\nSome file not found')"
   ]
  },
  {
   "cell_type": "markdown",
   "metadata": {},
   "source": [
    "### 10-10. Common Words: \n",
    "\n",
    "Visit Project Gutenberg (https://gutenberg.org/ )\n",
    "and find a few texts you’d like to analyze. Download the text files for these\n",
    "works, or copy the raw text from your browser into a text file on your\n",
    "computer.\n",
    "\n",
    "You can use the count() method to find out how many times a word or\n",
    "phrase appears in a string. For example, the following code counts the number\n",
    "of times 'row' appears in a string:\n",
    "\n",
    "```line = \"Row, row, row your boat\"\n",
    "line.count('row')\n",
    "line.lower().count('row')\n",
    "```\n",
    "\n",
    "Notice that converting the string to lowercase using lower() catches\n",
    "all appearances of the word you’re looking for, regardless of how it’s\n",
    "formatted.\n",
    "\n",
    "Write a program that reads the files you found at Project Gutenberg and\n",
    "determines how many times the word 'the' appears in each text. This will be\n",
    "an approximation because it will also count words such as 'then' and 'there'.\n",
    "Try counting 'the ', with a space in the string, and see how much lower your\n",
    "count is."
   ]
  },
  {
   "cell_type": "code",
   "execution_count": 15,
   "metadata": {},
   "outputs": [
    {
     "name": "stdout",
     "output_type": "stream",
     "text": [
      "6\n"
     ]
    }
   ],
   "source": [
    "with open('./analyzed.txt') as file:\n",
    "    line = file.read()\n",
    "    count = line.lower().count('the')\n",
    "    print(count)"
   ]
  },
  {
   "cell_type": "markdown",
   "metadata": {},
   "source": [
    "### 10-11. Favorite Number: \n",
    "\n",
    "Write a program that prompts for the user’s favorite\n",
    "number. Use json.dump() to store this number in a file. Write a separate program that reads in this value and prints the message, “I know your favorite\n",
    "number! It’s _____.”\n"
   ]
  },
  {
   "cell_type": "code",
   "execution_count": 7,
   "metadata": {},
   "outputs": [
    {
     "name": "stdout",
     "output_type": "stream",
     "text": [
      "Enter your favorite number: 56\n"
     ]
    }
   ],
   "source": [
    "import json\n",
    "\n",
    "fav_num = input('Enter your favorite number: ')\n",
    "\n",
    "with open('./json_content.json', 'w') as file:\n",
    "    json.dump({'fav_num': fav_num}, file)"
   ]
  },
  {
   "cell_type": "code",
   "execution_count": 12,
   "metadata": {},
   "outputs": [
    {
     "name": "stdout",
     "output_type": "stream",
     "text": [
      "I know your favorite number! It’s 56\n"
     ]
    }
   ],
   "source": [
    "with open('./json_content.json',) as file:\n",
    "    content = json.load(file)\n",
    "    print(f'I know your favorite number! It’s {content[\"fav_num\"]}')"
   ]
  },
  {
   "cell_type": "markdown",
   "metadata": {},
   "source": [
    "### 10-12. Favorite Number Remembered: \n",
    "\n",
    "Combine the two programs from Exercise 10-11 into one file. If the number is already stored, report the favorite\n",
    "number to the user. If not, prompt for the user’s favorite number and store it in a\n",
    "file. Run the program twice to see that it works."
   ]
  },
  {
   "cell_type": "code",
   "execution_count": 15,
   "metadata": {},
   "outputs": [
    {
     "name": "stdout",
     "output_type": "stream",
     "text": [
      "Enter your favorite number: 20\n",
      "I know your favorite number! It’s 20\n"
     ]
    }
   ],
   "source": [
    "import json\n",
    "\n",
    "with open('./json_content.json') as file:\n",
    "    content = json.load(file)\n",
    "    if not len(content):\n",
    "        fav_num = input('Enter your favorite number: ')\n",
    "        with open('./json_content.json', 'w') as file:\n",
    "            json.dump({'fav_num': fav_num}, file)\n",
    "    \n",
    "    with open('./json_content.json',) as file:\n",
    "        content = json.load(file)\n",
    "        print(f'I know your favorite number! It’s {content[\"fav_num\"]}')"
   ]
  }
 ],
 "metadata": {
  "kernelspec": {
   "display_name": "Python 3",
   "language": "python",
   "name": "python3"
  },
  "language_info": {
   "codemirror_mode": {
    "name": "ipython",
    "version": 3
   },
   "file_extension": ".py",
   "mimetype": "text/x-python",
   "name": "python",
   "nbconvert_exporter": "python",
   "pygments_lexer": "ipython3",
   "version": "3.8.5"
  }
 },
 "nbformat": 4,
 "nbformat_minor": 4
}
