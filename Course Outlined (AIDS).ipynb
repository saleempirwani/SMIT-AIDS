{
 "cells": [
  {
   "cell_type": "markdown",
   "metadata": {},
   "source": [
    "#### Python\n",
    "\n",
    "* Introduction and others\n",
    "\n",
    "#### Numpy\n",
    "#### Statistics\n",
    "\n",
    "* Uni-variable Tendency\n",
    "* bi-variant Tendency and others\n",
    "\n",
    "#### Pandas\n",
    "\n",
    "* Funnel\n",
    "* AB testing\n",
    "* Chun Analysis and others\n",
    "\n",
    "#### ML\n",
    "\n",
    "* Scikit-Learn\n",
    "* Xg- boost\n",
    "* Random forest\n",
    "* SVM and others\n",
    "\n",
    "#### Deep Learning\n",
    "* Regression, classification, multi-classsification\n",
    "* Neutral Network\n",
    "* Aws\n",
    "\n",
    "#### Web\n",
    "* Power BI and others\n",
    "* Flask\n",
    "* Django"
   ]
  },
  {
   "cell_type": "markdown",
   "metadata": {},
   "source": [
    "Create: `django-admin startproject myproject`\n",
    "\n",
    "Run Server: `python manage.py runserver`\n",
    "\n",
    "Create User: `python manage.py createsuperuser`"
   ]
  },
  {
   "cell_type": "code",
   "execution_count": null,
   "metadata": {},
   "outputs": [],
   "source": []
  }
 ],
 "metadata": {
  "kernelspec": {
   "display_name": "Python 3",
   "language": "python",
   "name": "python3"
  },
  "language_info": {
   "codemirror_mode": {
    "name": "ipython",
    "version": 3
   },
   "file_extension": ".py",
   "mimetype": "text/x-python",
   "name": "python",
   "nbconvert_exporter": "python",
   "pygments_lexer": "ipython3",
   "version": "3.7.6"
  }
 },
 "nbformat": 4,
 "nbformat_minor": 4
}
